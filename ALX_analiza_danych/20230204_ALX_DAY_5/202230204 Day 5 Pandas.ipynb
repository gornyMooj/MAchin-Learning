{
 "cells": [
  {
   "cell_type": "code",
   "execution_count": 1,
   "id": "92588c3c",
   "metadata": {},
   "outputs": [
    {
     "data": {
      "text/plain": [
       "'\\n- slowniki slowniki i jeszzcze raz slowniki\\n- Series is dict-like\\n'"
      ]
     },
     "execution_count": 1,
     "metadata": {},
     "output_type": "execute_result"
    }
   ],
   "source": [
    "# NOTATKI\n",
    "'''\n",
    "- slowniki slowniki i jeszzcze raz slowniki\n",
    "- Series is dict-like\n",
    "'''"
   ]
  },
  {
   "cell_type": "code",
   "execution_count": 2,
   "id": "58ccef78",
   "metadata": {},
   "outputs": [],
   "source": [
    "import pandas as pd"
   ]
  },
  {
   "cell_type": "markdown",
   "id": "abaf8051",
   "metadata": {},
   "source": [
    "### Series"
   ]
  },
  {
   "cell_type": "code",
   "execution_count": 3,
   "id": "49b4ba04",
   "metadata": {},
   "outputs": [
    {
     "name": "stdout",
     "output_type": "stream",
     "text": [
      "wtorek    [6h, 7h, 9h]\n",
      "sroda               7h\n",
      "sobota              8h\n",
      "dtype: object\n",
      "\n",
      "['6h', '7h', '9h']\n",
      "\n",
      "6h\n"
     ]
    }
   ],
   "source": [
    "# indexes\n",
    "zbior = [['6h', '7h', '9h'], '7h', '8h']\n",
    "index = ['wtorek', 'sroda', 'sobota']\n",
    "godziny_pracy = pd.Series(zbior, index= index)\n",
    "print(godziny_pracy)\n",
    "print()\n",
    "print(godziny_pracy['wtorek'])\n",
    "print()\n",
    "print(godziny_pracy['wtorek'][0])"
   ]
  },
  {
   "cell_type": "code",
   "execution_count": 4,
   "id": "45c8203e",
   "metadata": {
    "scrolled": true
   },
   "outputs": [
    {
     "data": {
      "text/plain": [
       "wtorek    12h\n",
       "sroda      7h\n",
       "sobota     8h\n",
       "dtype: object"
      ]
     },
     "execution_count": 4,
     "metadata": {},
     "output_type": "execute_result"
    }
   ],
   "source": [
    "# wstawianie nowego elementu\n",
    "godziny_pracy['wtorek'] = '12h'\n",
    "godziny_pracy"
   ]
  },
  {
   "cell_type": "code",
   "execution_count": 5,
   "id": "841ad674",
   "metadata": {},
   "outputs": [
    {
     "name": "stdout",
     "output_type": "stream",
     "text": [
      "rosol            350\n",
      "schabowy         550\n",
      "barszcz          280\n",
      "jajko sadzone     80\n",
      "dtype: int64\n",
      "konwersja z series na dania {'rosol': 350, 'schabowy': 550, 'barszcz': 280, 'jajko sadzone': 80}\n"
     ]
    }
   ],
   "source": [
    "# tworzenie series ze slownika\n",
    "dania = {\n",
    "    'rosol': 350,\n",
    "    'schabowy': 550,\n",
    "    'barszcz':280,\n",
    "    'jajko sadzone':80\n",
    "}\n",
    "\n",
    "ser_dania = pd.Series(dania) # konwersja ze slownika na series\n",
    "print(ser_dania)\n",
    "\n",
    "dict_dania = dict(ser_dania) # konwersja z series na dania\n",
    "print('konwersja z series na dania', dict_dania)"
   ]
  },
  {
   "cell_type": "code",
   "execution_count": 6,
   "id": "37ecb9f9",
   "metadata": {},
   "outputs": [
    {
     "data": {
      "text/plain": [
       "rosol            350\n",
       "jajko sadzone     80\n",
       "dtype: int64"
      ]
     },
     "execution_count": 6,
     "metadata": {},
     "output_type": "execute_result"
    }
   ],
   "source": [
    "# filtrowanie slownika i series\n",
    "filtr_dania = ['rosol', 'jajko sadzone']\n",
    "\n",
    "pd.Series(dict_dania, index= filtr_dania) # wybor danych po liscie indeksow"
   ]
  },
  {
   "cell_type": "code",
   "execution_count": 7,
   "id": "e1725293",
   "metadata": {},
   "outputs": [
    {
     "name": "stdout",
     "output_type": "stream",
     "text": [
      "schabowy         550\n",
      "barszcz          280\n",
      "jajko sadzone     80\n",
      "dtype: int64\n"
     ]
    }
   ],
   "source": [
    "# usuniecie po indeksie z series\n",
    "del ser_dania['rosol']\n",
    "print(ser_dania)"
   ]
  },
  {
   "cell_type": "code",
   "execution_count": 8,
   "id": "1ed8b001",
   "metadata": {},
   "outputs": [
    {
     "name": "stdout",
     "output_type": "stream",
     "text": [
      "<class 'numpy.ndarray'>\n"
     ]
    }
   ],
   "source": [
    "# pobranie wartosci zwraca numpy array\n",
    "dane = ser_dania.values\n",
    "print(type(dane))"
   ]
  },
  {
   "cell_type": "markdown",
   "id": "bef84776",
   "metadata": {},
   "source": [
    "### DataFrames"
   ]
  },
  {
   "cell_type": "code",
   "execution_count": 9,
   "id": "bb1662e3",
   "metadata": {},
   "outputs": [],
   "source": [
    "# kazdy slownik mozna przezucic na dataframe\n",
    "# https://pandas.pydata.org/docs/user_guide/dsintro.html#name-attribute"
   ]
  },
  {
   "cell_type": "code",
   "execution_count": 10,
   "id": "548842b9",
   "metadata": {},
   "outputs": [
    {
     "data": {
      "text/html": [
       "<div>\n",
       "<style scoped>\n",
       "    .dataframe tbody tr th:only-of-type {\n",
       "        vertical-align: middle;\n",
       "    }\n",
       "\n",
       "    .dataframe tbody tr th {\n",
       "        vertical-align: top;\n",
       "    }\n",
       "\n",
       "    .dataframe thead th {\n",
       "        text-align: right;\n",
       "    }\n",
       "</style>\n",
       "<table border=\"1\" class=\"dataframe\">\n",
       "  <thead>\n",
       "    <tr style=\"text-align: right;\">\n",
       "      <th></th>\n",
       "      <th>Nazwa obiadu</th>\n",
       "      <th>kalorycznosc</th>\n",
       "      <th>bialko</th>\n",
       "      <th>weglowodany</th>\n",
       "    </tr>\n",
       "  </thead>\n",
       "  <tbody>\n",
       "    <tr>\n",
       "      <th>0</th>\n",
       "      <td>rosol</td>\n",
       "      <td>350</td>\n",
       "      <td>0</td>\n",
       "      <td>50</td>\n",
       "    </tr>\n",
       "    <tr>\n",
       "      <th>1</th>\n",
       "      <td>schabowy</td>\n",
       "      <td>450</td>\n",
       "      <td>40</td>\n",
       "      <td>35</td>\n",
       "    </tr>\n",
       "    <tr>\n",
       "      <th>2</th>\n",
       "      <td>barszcz</td>\n",
       "      <td>280</td>\n",
       "      <td>0</td>\n",
       "      <td>40</td>\n",
       "    </tr>\n",
       "    <tr>\n",
       "      <th>3</th>\n",
       "      <td>jajko sadzone</td>\n",
       "      <td>80</td>\n",
       "      <td>8</td>\n",
       "      <td>20</td>\n",
       "    </tr>\n",
       "  </tbody>\n",
       "</table>\n",
       "</div>"
      ],
      "text/plain": [
       "    Nazwa obiadu  kalorycznosc  bialko  weglowodany\n",
       "0          rosol           350       0           50\n",
       "1       schabowy           450      40           35\n",
       "2        barszcz           280       0           40\n",
       "3  jajko sadzone            80       8           20"
      ]
     },
     "execution_count": 10,
     "metadata": {},
     "output_type": "execute_result"
    }
   ],
   "source": [
    "# stworzenie ramki z slownika z danymi\n",
    "obiady = {\n",
    "    'Nazwa obiadu': ['rosol', 'schabowy', 'barszcz', 'jajko sadzone'],\n",
    "    'kalorycznosc': [350,450,280,80],\n",
    "    'bialko': [0,40,0,8],\n",
    "    'weglowodany': [50,35,40,20]\n",
    "}\n",
    "\n",
    "df = pd.DataFrame(obiady)\n",
    "df"
   ]
  },
  {
   "cell_type": "code",
   "execution_count": 11,
   "id": "c645a460",
   "metadata": {},
   "outputs": [
    {
     "data": {
      "text/plain": [
       "Nazwa obiadu    barszcz\n",
       "kalorycznosc        280\n",
       "bialko                0\n",
       "weglowodany          40\n",
       "Name: 2, dtype: object"
      ]
     },
     "execution_count": 11,
     "metadata": {},
     "output_type": "execute_result"
    }
   ],
   "source": [
    "# locate row - zwraca wiersz\n",
    "df.loc[2]"
   ]
  },
  {
   "cell_type": "code",
   "execution_count": 12,
   "id": "0fcf8d9b",
   "metadata": {},
   "outputs": [
    {
     "data": {
      "text/html": [
       "<div>\n",
       "<style scoped>\n",
       "    .dataframe tbody tr th:only-of-type {\n",
       "        vertical-align: middle;\n",
       "    }\n",
       "\n",
       "    .dataframe tbody tr th {\n",
       "        vertical-align: top;\n",
       "    }\n",
       "\n",
       "    .dataframe thead th {\n",
       "        text-align: right;\n",
       "    }\n",
       "</style>\n",
       "<table border=\"1\" class=\"dataframe\">\n",
       "  <thead>\n",
       "    <tr style=\"text-align: right;\">\n",
       "      <th></th>\n",
       "      <th>Nazwa obiadu</th>\n",
       "      <th>kalorycznosc</th>\n",
       "      <th>bialko</th>\n",
       "      <th>weglowodany</th>\n",
       "    </tr>\n",
       "  </thead>\n",
       "  <tbody>\n",
       "    <tr>\n",
       "      <th>0</th>\n",
       "      <td>rosol</td>\n",
       "      <td>350</td>\n",
       "      <td>0</td>\n",
       "      <td>50</td>\n",
       "    </tr>\n",
       "    <tr>\n",
       "      <th>1</th>\n",
       "      <td>schabowy</td>\n",
       "      <td>450</td>\n",
       "      <td>40</td>\n",
       "      <td>35</td>\n",
       "    </tr>\n",
       "    <tr>\n",
       "      <th>2</th>\n",
       "      <td>barszcz</td>\n",
       "      <td>280</td>\n",
       "      <td>0</td>\n",
       "      <td>40</td>\n",
       "    </tr>\n",
       "  </tbody>\n",
       "</table>\n",
       "</div>"
      ],
      "text/plain": [
       "  Nazwa obiadu  kalorycznosc  bialko  weglowodany\n",
       "0        rosol           350       0           50\n",
       "1     schabowy           450      40           35\n",
       "2      barszcz           280       0           40"
      ]
     },
     "execution_count": 12,
     "metadata": {},
     "output_type": "execute_result"
    }
   ],
   "source": [
    "# slicing\n",
    "df[:3]"
   ]
  },
  {
   "cell_type": "code",
   "execution_count": 13,
   "id": "4191fda2",
   "metadata": {},
   "outputs": [
    {
     "name": "stdout",
     "output_type": "stream",
     "text": [
      "  Nazwa obiadu  kalorycznosc  bialko  weglowodany\n",
      "1     schabowy           450      40           35\n",
      "2      barszcz           280       0           40\n"
     ]
    }
   ],
   "source": [
    "# filtr po loc\n",
    "ind = [1,2]\n",
    "print(df.loc[ind])"
   ]
  },
  {
   "cell_type": "code",
   "execution_count": 14,
   "id": "696a265f",
   "metadata": {},
   "outputs": [
    {
     "data": {
      "text/html": [
       "<div>\n",
       "<style scoped>\n",
       "    .dataframe tbody tr th:only-of-type {\n",
       "        vertical-align: middle;\n",
       "    }\n",
       "\n",
       "    .dataframe tbody tr th {\n",
       "        vertical-align: top;\n",
       "    }\n",
       "\n",
       "    .dataframe thead th {\n",
       "        text-align: right;\n",
       "    }\n",
       "</style>\n",
       "<table border=\"1\" class=\"dataframe\">\n",
       "  <thead>\n",
       "    <tr style=\"text-align: right;\">\n",
       "      <th></th>\n",
       "      <th>Nazwa obiadu</th>\n",
       "      <th>kalorycznosc</th>\n",
       "      <th>bialko</th>\n",
       "      <th>weglowodany</th>\n",
       "    </tr>\n",
       "  </thead>\n",
       "  <tbody>\n",
       "    <tr>\n",
       "      <th>dzien 1</th>\n",
       "      <td>rosol</td>\n",
       "      <td>350</td>\n",
       "      <td>0</td>\n",
       "      <td>50</td>\n",
       "    </tr>\n",
       "    <tr>\n",
       "      <th>dzien 2</th>\n",
       "      <td>schabowy</td>\n",
       "      <td>450</td>\n",
       "      <td>40</td>\n",
       "      <td>35</td>\n",
       "    </tr>\n",
       "    <tr>\n",
       "      <th>dzien 3</th>\n",
       "      <td>barszcz</td>\n",
       "      <td>280</td>\n",
       "      <td>0</td>\n",
       "      <td>40</td>\n",
       "    </tr>\n",
       "    <tr>\n",
       "      <th>dzien 4</th>\n",
       "      <td>jajko sadzone</td>\n",
       "      <td>80</td>\n",
       "      <td>8</td>\n",
       "      <td>20</td>\n",
       "    </tr>\n",
       "  </tbody>\n",
       "</table>\n",
       "</div>"
      ],
      "text/plain": [
       "          Nazwa obiadu  kalorycznosc  bialko  weglowodany\n",
       "dzien 1          rosol           350       0           50\n",
       "dzien 2       schabowy           450      40           35\n",
       "dzien 3        barszcz           280       0           40\n",
       "dzien 4  jajko sadzone            80       8           20"
      ]
     },
     "metadata": {},
     "output_type": "display_data"
    },
    {
     "name": "stdout",
     "output_type": "stream",
     "text": [
      "Nazwa obiadu    schabowy\n",
      "kalorycznosc         450\n",
      "bialko                40\n",
      "weglowodany           35\n",
      "Name: dzien 2, dtype: object\n",
      "['schabowy' 450 40 35]\n",
      "<class 'numpy.ndarray'>\n"
     ]
    }
   ],
   "source": [
    "# tworzenie dataframe z indeksami\n",
    "# szukania wierszy po indeksie \n",
    "idx_dni = ['dzien 1','dzien 2','dzien 3','dzien 4']\n",
    "df = pd.DataFrame(obiady, index=idx_dni)\n",
    "display(df)\n",
    "print(df.loc['dzien 2'])\n",
    "print(df.loc['dzien 2'].values)\n",
    "print(type(df.loc['dzien 2'].values))"
   ]
  },
  {
   "cell_type": "code",
   "execution_count": 15,
   "id": "01e1114a",
   "metadata": {},
   "outputs": [
    {
     "name": "stdout",
     "output_type": "stream",
     "text": [
      "<class 'pandas.core.frame.DataFrame'>\n",
      "Index: 4 entries, dzien 1 to dzien 4\n",
      "Data columns (total 4 columns):\n",
      " #   Column        Non-Null Count  Dtype \n",
      "---  ------        --------------  ----- \n",
      " 0   Nazwa obiadu  4 non-null      object\n",
      " 1   kalorycznosc  4 non-null      int64 \n",
      " 2   bialko        4 non-null      int64 \n",
      " 3   weglowodany   4 non-null      int64 \n",
      "dtypes: int64(3), object(1)\n",
      "memory usage: 332.0+ bytes\n"
     ]
    }
   ],
   "source": [
    "# dataframe info()\n",
    "df.info()"
   ]
  },
  {
   "cell_type": "code",
   "execution_count": 16,
   "id": "a22dd7aa",
   "metadata": {},
   "outputs": [
    {
     "data": {
      "text/plain": [
       "['schabowy', 450, 40, 35]"
      ]
     },
     "execution_count": 16,
     "metadata": {},
     "output_type": "execute_result"
    }
   ],
   "source": [
    "# wybranie wartosci wiersza i przeonwertowanie do listy\n",
    "df.loc['dzien 2'].values.tolist()"
   ]
  },
  {
   "cell_type": "code",
   "execution_count": 17,
   "id": "89b06d3e",
   "metadata": {},
   "outputs": [
    {
     "data": {
      "text/html": [
       "<div>\n",
       "<style scoped>\n",
       "    .dataframe tbody tr th:only-of-type {\n",
       "        vertical-align: middle;\n",
       "    }\n",
       "\n",
       "    .dataframe tbody tr th {\n",
       "        vertical-align: top;\n",
       "    }\n",
       "\n",
       "    .dataframe thead th {\n",
       "        text-align: right;\n",
       "    }\n",
       "</style>\n",
       "<table border=\"1\" class=\"dataframe\">\n",
       "  <thead>\n",
       "    <tr style=\"text-align: right;\">\n",
       "      <th></th>\n",
       "      <th>Nazwa obiadu</th>\n",
       "      <th>kalorycznosc</th>\n",
       "      <th>bialko</th>\n",
       "      <th>weglowodany</th>\n",
       "    </tr>\n",
       "  </thead>\n",
       "  <tbody>\n",
       "    <tr>\n",
       "      <th>dzien 1</th>\n",
       "      <td>rosol</td>\n",
       "      <td>350</td>\n",
       "      <td>0</td>\n",
       "      <td>50</td>\n",
       "    </tr>\n",
       "    <tr>\n",
       "      <th>dzien 2</th>\n",
       "      <td>schabowy</td>\n",
       "      <td>450</td>\n",
       "      <td>40</td>\n",
       "      <td>35</td>\n",
       "    </tr>\n",
       "    <tr>\n",
       "      <th>dzien 3</th>\n",
       "      <td>barszcz</td>\n",
       "      <td>280</td>\n",
       "      <td>0</td>\n",
       "      <td>40</td>\n",
       "    </tr>\n",
       "    <tr>\n",
       "      <th>dzien 4</th>\n",
       "      <td>jajko sadzone</td>\n",
       "      <td>80</td>\n",
       "      <td>8</td>\n",
       "      <td>20</td>\n",
       "    </tr>\n",
       "    <tr>\n",
       "      <th>dzien 5</th>\n",
       "      <td>bigos</td>\n",
       "      <td>490</td>\n",
       "      <td>50</td>\n",
       "      <td>90</td>\n",
       "    </tr>\n",
       "  </tbody>\n",
       "</table>\n",
       "</div>"
      ],
      "text/plain": [
       "          Nazwa obiadu  kalorycznosc  bialko  weglowodany\n",
       "dzien 1          rosol           350       0           50\n",
       "dzien 2       schabowy           450      40           35\n",
       "dzien 3        barszcz           280       0           40\n",
       "dzien 4  jajko sadzone            80       8           20\n",
       "dzien 5          bigos           490      50           90"
      ]
     },
     "execution_count": 17,
     "metadata": {},
     "output_type": "execute_result"
    }
   ],
   "source": [
    "# dodawanie nowego wiersza uzywajac .loc() - adding new row\n",
    "df.loc['dzien 5'] = ['bigos', 490, 50, 90] \n",
    "df"
   ]
  },
  {
   "cell_type": "code",
   "execution_count": 18,
   "id": "56134e19",
   "metadata": {},
   "outputs": [
    {
     "data": {
      "text/html": [
       "<div>\n",
       "<style scoped>\n",
       "    .dataframe tbody tr th:only-of-type {\n",
       "        vertical-align: middle;\n",
       "    }\n",
       "\n",
       "    .dataframe tbody tr th {\n",
       "        vertical-align: top;\n",
       "    }\n",
       "\n",
       "    .dataframe thead th {\n",
       "        text-align: right;\n",
       "    }\n",
       "</style>\n",
       "<table border=\"1\" class=\"dataframe\">\n",
       "  <thead>\n",
       "    <tr style=\"text-align: right;\">\n",
       "      <th></th>\n",
       "      <th>Nazwa obiadu</th>\n",
       "      <th>kalorycznosc</th>\n",
       "      <th>bialko</th>\n",
       "      <th>weglowodany</th>\n",
       "    </tr>\n",
       "  </thead>\n",
       "  <tbody>\n",
       "    <tr>\n",
       "      <th>dzien 1</th>\n",
       "      <td>rosol</td>\n",
       "      <td>350</td>\n",
       "      <td>0</td>\n",
       "      <td>50</td>\n",
       "    </tr>\n",
       "    <tr>\n",
       "      <th>dzien 2</th>\n",
       "      <td>schabowy</td>\n",
       "      <td>450</td>\n",
       "      <td>40</td>\n",
       "      <td>35</td>\n",
       "    </tr>\n",
       "    <tr>\n",
       "      <th>dzien 3</th>\n",
       "      <td>barszcz</td>\n",
       "      <td>280</td>\n",
       "      <td>0</td>\n",
       "      <td>40</td>\n",
       "    </tr>\n",
       "    <tr>\n",
       "      <th>dzien 4</th>\n",
       "      <td>jajko sadzone</td>\n",
       "      <td>80</td>\n",
       "      <td>8</td>\n",
       "      <td>20</td>\n",
       "    </tr>\n",
       "    <tr>\n",
       "      <th>dzien 5</th>\n",
       "      <td>bigos</td>\n",
       "      <td>490</td>\n",
       "      <td>50</td>\n",
       "      <td>90</td>\n",
       "    </tr>\n",
       "    <tr>\n",
       "      <th>dzien 6</th>\n",
       "      <td>ryba</td>\n",
       "      <td>330</td>\n",
       "      <td>120</td>\n",
       "      <td>50</td>\n",
       "    </tr>\n",
       "  </tbody>\n",
       "</table>\n",
       "</div>"
      ],
      "text/plain": [
       "          Nazwa obiadu  kalorycznosc  bialko  weglowodany\n",
       "dzien 1          rosol           350       0           50\n",
       "dzien 2       schabowy           450      40           35\n",
       "dzien 3        barszcz           280       0           40\n",
       "dzien 4  jajko sadzone            80       8           20\n",
       "dzien 5          bigos           490      50           90\n",
       "dzien 6           ryba           330     120           50"
      ]
     },
     "execution_count": 18,
     "metadata": {},
     "output_type": "execute_result"
    }
   ],
   "source": [
    "# dodanie wartosci - adding - using dictionaries\n",
    "\n",
    "df2 = {'Nazwa obiadu': 'ryba', 'kalorycznosc': 330, 'bialko': 120, 'weglowodany': 50}\n",
    "df2 = pd.DataFrame(df2, index = ['dzien 6'])\n",
    "df = df.append(df2)\n",
    "df"
   ]
  },
  {
   "cell_type": "code",
   "execution_count": 19,
   "id": "926cee19",
   "metadata": {},
   "outputs": [
    {
     "data": {
      "text/plain": [
       "280"
      ]
     },
     "execution_count": 19,
     "metadata": {},
     "output_type": "execute_result"
    }
   ],
   "source": [
    "# iloc()   = pobieranie krzyzowe = kolumna numer wiersza\n",
    "df['kalorycznosc'].iloc[2]"
   ]
  },
  {
   "cell_type": "code",
   "execution_count": 20,
   "id": "09c7927b",
   "metadata": {},
   "outputs": [
    {
     "data": {
      "text/plain": [
       "dzien 1    350\n",
       "dzien 2    450\n",
       "dzien 3    280\n",
       "Name: kalorycznosc, dtype: int64"
      ]
     },
     "execution_count": 20,
     "metadata": {},
     "output_type": "execute_result"
    }
   ],
   "source": [
    "# wybor pierwszych 3 pozycji i ich kalorycznosc\n",
    "df[:3]['kalorycznosc']"
   ]
  },
  {
   "cell_type": "code",
   "execution_count": 21,
   "id": "2f8bffa6",
   "metadata": {},
   "outputs": [
    {
     "data": {
      "text/html": [
       "<div>\n",
       "<style scoped>\n",
       "    .dataframe tbody tr th:only-of-type {\n",
       "        vertical-align: middle;\n",
       "    }\n",
       "\n",
       "    .dataframe tbody tr th {\n",
       "        vertical-align: top;\n",
       "    }\n",
       "\n",
       "    .dataframe thead th {\n",
       "        text-align: right;\n",
       "    }\n",
       "</style>\n",
       "<table border=\"1\" class=\"dataframe\">\n",
       "  <thead>\n",
       "    <tr style=\"text-align: right;\">\n",
       "      <th></th>\n",
       "      <th>kalorycznosc</th>\n",
       "      <th>bialko</th>\n",
       "      <th>weglowodany</th>\n",
       "    </tr>\n",
       "    <tr>\n",
       "      <th>Nazwa obiadu</th>\n",
       "      <th></th>\n",
       "      <th></th>\n",
       "      <th></th>\n",
       "    </tr>\n",
       "  </thead>\n",
       "  <tbody>\n",
       "    <tr>\n",
       "      <th>rosol</th>\n",
       "      <td>350</td>\n",
       "      <td>0</td>\n",
       "      <td>50</td>\n",
       "    </tr>\n",
       "    <tr>\n",
       "      <th>schabowy</th>\n",
       "      <td>450</td>\n",
       "      <td>40</td>\n",
       "      <td>35</td>\n",
       "    </tr>\n",
       "    <tr>\n",
       "      <th>barszcz</th>\n",
       "      <td>280</td>\n",
       "      <td>0</td>\n",
       "      <td>40</td>\n",
       "    </tr>\n",
       "    <tr>\n",
       "      <th>jajko sadzone</th>\n",
       "      <td>80</td>\n",
       "      <td>8</td>\n",
       "      <td>20</td>\n",
       "    </tr>\n",
       "    <tr>\n",
       "      <th>bigos</th>\n",
       "      <td>490</td>\n",
       "      <td>50</td>\n",
       "      <td>90</td>\n",
       "    </tr>\n",
       "    <tr>\n",
       "      <th>ryba</th>\n",
       "      <td>330</td>\n",
       "      <td>120</td>\n",
       "      <td>50</td>\n",
       "    </tr>\n",
       "  </tbody>\n",
       "</table>\n",
       "</div>"
      ],
      "text/plain": [
       "               kalorycznosc  bialko  weglowodany\n",
       "Nazwa obiadu                                    \n",
       "rosol                   350       0           50\n",
       "schabowy                450      40           35\n",
       "barszcz                 280       0           40\n",
       "jajko sadzone            80       8           20\n",
       "bigos                   490      50           90\n",
       "ryba                    330     120           50"
      ]
     },
     "execution_count": 21,
     "metadata": {},
     "output_type": "execute_result"
    }
   ],
   "source": [
    "# updating / creating a new index in a dataframe\n",
    "df = df.set_index('Nazwa obiadu')\n",
    "df"
   ]
  },
  {
   "cell_type": "code",
   "execution_count": 22,
   "id": "b7577205",
   "metadata": {},
   "outputs": [
    {
     "data": {
      "text/plain": [
       "kalorycznosc    280\n",
       "bialko            0\n",
       "weglowodany      40\n",
       "Name: barszcz, dtype: int64"
      ]
     },
     "execution_count": 22,
     "metadata": {},
     "output_type": "execute_result"
    }
   ],
   "source": [
    "# retrieving a row using an index name \n",
    "df.loc['barszcz']"
   ]
  },
  {
   "cell_type": "code",
   "execution_count": 23,
   "id": "35ef2b90",
   "metadata": {},
   "outputs": [
    {
     "data": {
      "text/plain": [
       "Nazwa obiadu\n",
       "rosol            350\n",
       "schabowy         450\n",
       "barszcz          280\n",
       "jajko sadzone     80\n",
       "bigos            490\n",
       "ryba             330\n",
       "Name: kalorycznosc, dtype: int64"
      ]
     },
     "execution_count": 23,
     "metadata": {},
     "output_type": "execute_result"
    }
   ],
   "source": [
    "# retrieving values from a column\n",
    "df['kalorycznosc']"
   ]
  },
  {
   "cell_type": "code",
   "execution_count": 24,
   "id": "e2b247e9",
   "metadata": {},
   "outputs": [
    {
     "data": {
      "text/plain": [
       "40"
      ]
     },
     "execution_count": 24,
     "metadata": {},
     "output_type": "execute_result"
    }
   ],
   "source": [
    "# retrieving values from a specifc cell\n",
    "# .loc[row index, column name]\n",
    "df.loc['schabowy', 'bialko']"
   ]
  },
  {
   "cell_type": "code",
   "execution_count": 25,
   "id": "26dcfcfc",
   "metadata": {},
   "outputs": [
    {
     "data": {
      "text/html": [
       "<div>\n",
       "<style scoped>\n",
       "    .dataframe tbody tr th:only-of-type {\n",
       "        vertical-align: middle;\n",
       "    }\n",
       "\n",
       "    .dataframe tbody tr th {\n",
       "        vertical-align: top;\n",
       "    }\n",
       "\n",
       "    .dataframe thead th {\n",
       "        text-align: right;\n",
       "    }\n",
       "</style>\n",
       "<table border=\"1\" class=\"dataframe\">\n",
       "  <thead>\n",
       "    <tr style=\"text-align: right;\">\n",
       "      <th></th>\n",
       "      <th>kalorycznosc</th>\n",
       "      <th>bialko</th>\n",
       "      <th>weglowodany</th>\n",
       "    </tr>\n",
       "    <tr>\n",
       "      <th>Nazwa obiadu</th>\n",
       "      <th></th>\n",
       "      <th></th>\n",
       "      <th></th>\n",
       "    </tr>\n",
       "  </thead>\n",
       "  <tbody>\n",
       "    <tr>\n",
       "      <th>schabowy</th>\n",
       "      <td>450</td>\n",
       "      <td>40</td>\n",
       "      <td>35</td>\n",
       "    </tr>\n",
       "    <tr>\n",
       "      <th>rosol</th>\n",
       "      <td>350</td>\n",
       "      <td>0</td>\n",
       "      <td>50</td>\n",
       "    </tr>\n",
       "  </tbody>\n",
       "</table>\n",
       "</div>"
      ],
      "text/plain": [
       "              kalorycznosc  bialko  weglowodany\n",
       "Nazwa obiadu                                   \n",
       "schabowy               450      40           35\n",
       "rosol                  350       0           50"
      ]
     },
     "execution_count": 25,
     "metadata": {},
     "output_type": "execute_result"
    }
   ],
   "source": [
    "# loc to select 2 rows using index names\n",
    "df.loc[['schabowy', 'rosol']]"
   ]
  },
  {
   "cell_type": "code",
   "execution_count": 26,
   "id": "3924c3cc",
   "metadata": {},
   "outputs": [
    {
     "data": {
      "text/plain": [
       "'\\nThe iloc() function is an indexed-based selecting method which means that\\nwe have to pass an integer index in the method to select \\na specific row/column.\\n\\n'"
      ]
     },
     "execution_count": 26,
     "metadata": {},
     "output_type": "execute_result"
    }
   ],
   "source": [
    "# iloc\n",
    "'''\n",
    "The iloc() function is an indexed-based selecting method which means that\n",
    "we have to pass an integer index in the method to select \n",
    "a specific row/column.\n",
    "\n",
    "'''"
   ]
  },
  {
   "cell_type": "code",
   "execution_count": 27,
   "id": "6fb477ca",
   "metadata": {},
   "outputs": [
    {
     "data": {
      "text/html": [
       "<div>\n",
       "<style scoped>\n",
       "    .dataframe tbody tr th:only-of-type {\n",
       "        vertical-align: middle;\n",
       "    }\n",
       "\n",
       "    .dataframe tbody tr th {\n",
       "        vertical-align: top;\n",
       "    }\n",
       "\n",
       "    .dataframe thead th {\n",
       "        text-align: right;\n",
       "    }\n",
       "</style>\n",
       "<table border=\"1\" class=\"dataframe\">\n",
       "  <thead>\n",
       "    <tr style=\"text-align: right;\">\n",
       "      <th></th>\n",
       "      <th>kalorycznosc</th>\n",
       "      <th>bialko</th>\n",
       "      <th>weglowodany</th>\n",
       "    </tr>\n",
       "    <tr>\n",
       "      <th>Nazwa obiadu</th>\n",
       "      <th></th>\n",
       "      <th></th>\n",
       "      <th></th>\n",
       "    </tr>\n",
       "  </thead>\n",
       "  <tbody>\n",
       "    <tr>\n",
       "      <th>rosol</th>\n",
       "      <td>350</td>\n",
       "      <td>0</td>\n",
       "      <td>50</td>\n",
       "    </tr>\n",
       "    <tr>\n",
       "      <th>schabowy</th>\n",
       "      <td>450</td>\n",
       "      <td>40</td>\n",
       "      <td>35</td>\n",
       "    </tr>\n",
       "    <tr>\n",
       "      <th>barszcz</th>\n",
       "      <td>280</td>\n",
       "      <td>0</td>\n",
       "      <td>40</td>\n",
       "    </tr>\n",
       "    <tr>\n",
       "      <th>jajko sadzone</th>\n",
       "      <td>80</td>\n",
       "      <td>8</td>\n",
       "      <td>20</td>\n",
       "    </tr>\n",
       "    <tr>\n",
       "      <th>bigos</th>\n",
       "      <td>490</td>\n",
       "      <td>50</td>\n",
       "      <td>90</td>\n",
       "    </tr>\n",
       "    <tr>\n",
       "      <th>ryba</th>\n",
       "      <td>330</td>\n",
       "      <td>120</td>\n",
       "      <td>50</td>\n",
       "    </tr>\n",
       "  </tbody>\n",
       "</table>\n",
       "</div>"
      ],
      "text/plain": [
       "               kalorycznosc  bialko  weglowodany\n",
       "Nazwa obiadu                                    \n",
       "rosol                   350       0           50\n",
       "schabowy                450      40           35\n",
       "barszcz                 280       0           40\n",
       "jajko sadzone            80       8           20\n",
       "bigos                   490      50           90\n",
       "ryba                    330     120           50"
      ]
     },
     "execution_count": 27,
     "metadata": {},
     "output_type": "execute_result"
    }
   ],
   "source": [
    "df"
   ]
  },
  {
   "cell_type": "code",
   "execution_count": 28,
   "id": "709a43b2",
   "metadata": {},
   "outputs": [
    {
     "data": {
      "text/html": [
       "<div>\n",
       "<style scoped>\n",
       "    .dataframe tbody tr th:only-of-type {\n",
       "        vertical-align: middle;\n",
       "    }\n",
       "\n",
       "    .dataframe tbody tr th {\n",
       "        vertical-align: top;\n",
       "    }\n",
       "\n",
       "    .dataframe thead th {\n",
       "        text-align: right;\n",
       "    }\n",
       "</style>\n",
       "<table border=\"1\" class=\"dataframe\">\n",
       "  <thead>\n",
       "    <tr style=\"text-align: right;\">\n",
       "      <th></th>\n",
       "      <th>bialko</th>\n",
       "      <th>weglowodany</th>\n",
       "    </tr>\n",
       "    <tr>\n",
       "      <th>Nazwa obiadu</th>\n",
       "      <th></th>\n",
       "      <th></th>\n",
       "    </tr>\n",
       "  </thead>\n",
       "  <tbody>\n",
       "    <tr>\n",
       "      <th>rosol</th>\n",
       "      <td>0</td>\n",
       "      <td>50</td>\n",
       "    </tr>\n",
       "    <tr>\n",
       "      <th>schabowy</th>\n",
       "      <td>40</td>\n",
       "      <td>35</td>\n",
       "    </tr>\n",
       "    <tr>\n",
       "      <th>barszcz</th>\n",
       "      <td>0</td>\n",
       "      <td>40</td>\n",
       "    </tr>\n",
       "  </tbody>\n",
       "</table>\n",
       "</div>"
      ],
      "text/plain": [
       "              bialko  weglowodany\n",
       "Nazwa obiadu                     \n",
       "rosol              0           50\n",
       "schabowy          40           35\n",
       "barszcz            0           40"
      ]
     },
     "execution_count": 28,
     "metadata": {},
     "output_type": "execute_result"
    }
   ],
   "source": [
    "df.iloc[:3, 1:]"
   ]
  },
  {
   "cell_type": "code",
   "execution_count": 29,
   "id": "1ae5674a",
   "metadata": {},
   "outputs": [
    {
     "ename": "SyntaxError",
     "evalue": "invalid syntax (Temp/ipykernel_6004/2211158393.py, line 1)",
     "output_type": "error",
     "traceback": [
      "\u001b[1;36m  File \u001b[1;32m\"C:\\Users\\Ukasz\\AppData\\Local\\Temp/ipykernel_6004/2211158393.py\"\u001b[1;36m, line \u001b[1;32m1\u001b[0m\n\u001b[1;33m    df.iloc[[:23]]\u001b[0m\n\u001b[1;37m             ^\u001b[0m\n\u001b[1;31mSyntaxError\u001b[0m\u001b[1;31m:\u001b[0m invalid syntax\n"
     ]
    }
   ],
   "source": [
    "df.iloc[[:23]]"
   ]
  },
  {
   "cell_type": "code",
   "execution_count": null,
   "id": "a8344cce",
   "metadata": {},
   "outputs": [],
   "source": [
    "# .loc()\n",
    "'''\n",
    "The loc() function is label based data selecting method which means that \n",
    "we have to pass the name of the row or column which we want to select. \n",
    "'''"
   ]
  },
  {
   "cell_type": "code",
   "execution_count": null,
   "id": "0bb2118d",
   "metadata": {},
   "outputs": [],
   "source": [
    "\n",
    "df.loc[['schabowy', 'rosol'], ['bialko', 'weglowodany']]"
   ]
  },
  {
   "cell_type": "code",
   "execution_count": null,
   "id": "44283327",
   "metadata": {
    "scrolled": true
   },
   "outputs": [],
   "source": [
    "import random as r\n",
    "\n",
    "df = pd.DataFrame(columns=['nazwa zestawu', 'kcal', 'bialko'])\n",
    "pd.options.display.max_rows = 101 # displays all rows\n",
    "for i in range(100):\n",
    "    df.loc[i] = [(\"zestaw #\" + str(i+1))] + [r.randint(5,300), r.randint(5,300)]\n",
    "\n",
    "df"
   ]
  },
  {
   "cell_type": "code",
   "execution_count": null,
   "id": "1d7f0af4",
   "metadata": {},
   "outputs": [],
   "source": [
    "list(\"zestaw #\" + str(i+1))"
   ]
  },
  {
   "cell_type": "code",
   "execution_count": null,
   "id": "d08ec4e8",
   "metadata": {
    "scrolled": false
   },
   "outputs": [],
   "source": [
    "pd.options.display.max_rows = 6\n",
    "df"
   ]
  },
  {
   "cell_type": "code",
   "execution_count": null,
   "id": "8d107584",
   "metadata": {},
   "outputs": [],
   "source": [
    "# updating cels\n",
    "df.loc[0, 'nazwa zestawu'] = 'spagetii'\n",
    "df"
   ]
  },
  {
   "cell_type": "code",
   "execution_count": null,
   "id": "09333d43",
   "metadata": {},
   "outputs": [],
   "source": []
  },
  {
   "cell_type": "code",
   "execution_count": null,
   "id": "19e2a889",
   "metadata": {},
   "outputs": [],
   "source": []
  },
  {
   "cell_type": "code",
   "execution_count": null,
   "id": "e677aded",
   "metadata": {},
   "outputs": [],
   "source": []
  },
  {
   "cell_type": "code",
   "execution_count": null,
   "id": "c4a82a7b",
   "metadata": {},
   "outputs": [],
   "source": []
  },
  {
   "cell_type": "code",
   "execution_count": null,
   "id": "ed50cbc8",
   "metadata": {},
   "outputs": [],
   "source": []
  },
  {
   "cell_type": "code",
   "execution_count": null,
   "id": "0dd1cc75",
   "metadata": {},
   "outputs": [],
   "source": []
  },
  {
   "cell_type": "code",
   "execution_count": null,
   "id": "260c7af5",
   "metadata": {},
   "outputs": [],
   "source": []
  },
  {
   "cell_type": "code",
   "execution_count": null,
   "id": "7f3b6321",
   "metadata": {},
   "outputs": [],
   "source": []
  },
  {
   "cell_type": "code",
   "execution_count": null,
   "id": "99f7ba26",
   "metadata": {},
   "outputs": [],
   "source": []
  },
  {
   "cell_type": "code",
   "execution_count": null,
   "id": "4072ccb1",
   "metadata": {},
   "outputs": [],
   "source": []
  },
  {
   "cell_type": "code",
   "execution_count": null,
   "id": "f5d1a1bc",
   "metadata": {},
   "outputs": [],
   "source": []
  },
  {
   "cell_type": "code",
   "execution_count": null,
   "id": "24aecc31",
   "metadata": {},
   "outputs": [],
   "source": []
  },
  {
   "cell_type": "code",
   "execution_count": null,
   "id": "56ba9eb2",
   "metadata": {},
   "outputs": [],
   "source": []
  },
  {
   "cell_type": "code",
   "execution_count": null,
   "id": "15681be6",
   "metadata": {},
   "outputs": [],
   "source": []
  },
  {
   "cell_type": "code",
   "execution_count": null,
   "id": "43b63d9a",
   "metadata": {},
   "outputs": [],
   "source": []
  },
  {
   "cell_type": "code",
   "execution_count": null,
   "id": "a6046702",
   "metadata": {},
   "outputs": [],
   "source": []
  },
  {
   "cell_type": "code",
   "execution_count": null,
   "id": "f262e898",
   "metadata": {},
   "outputs": [],
   "source": []
  },
  {
   "cell_type": "code",
   "execution_count": null,
   "id": "668ba9e0",
   "metadata": {},
   "outputs": [],
   "source": [
    "import random\n",
    "\n",
    "print(random.randint(3, 9))"
   ]
  },
  {
   "cell_type": "code",
   "execution_count": null,
   "id": "ece71e62",
   "metadata": {},
   "outputs": [],
   "source": []
  },
  {
   "cell_type": "code",
   "execution_count": null,
   "id": "79356c9d",
   "metadata": {},
   "outputs": [],
   "source": []
  },
  {
   "cell_type": "code",
   "execution_count": null,
   "id": "4deff1f8",
   "metadata": {},
   "outputs": [],
   "source": []
  },
  {
   "cell_type": "code",
   "execution_count": null,
   "id": "65990ef4",
   "metadata": {},
   "outputs": [],
   "source": []
  },
  {
   "cell_type": "code",
   "execution_count": null,
   "id": "e9f8b6d6",
   "metadata": {},
   "outputs": [],
   "source": []
  },
  {
   "cell_type": "code",
   "execution_count": null,
   "id": "e897fc0d",
   "metadata": {},
   "outputs": [],
   "source": []
  },
  {
   "cell_type": "code",
   "execution_count": null,
   "id": "7cbfa69b",
   "metadata": {},
   "outputs": [],
   "source": []
  }
 ],
 "metadata": {
  "kernelspec": {
   "display_name": "Python 3 (ipykernel)",
   "language": "python",
   "name": "python3"
  },
  "language_info": {
   "codemirror_mode": {
    "name": "ipython",
    "version": 3
   },
   "file_extension": ".py",
   "mimetype": "text/x-python",
   "name": "python",
   "nbconvert_exporter": "python",
   "pygments_lexer": "ipython3",
   "version": "3.7.11"
  }
 },
 "nbformat": 4,
 "nbformat_minor": 5
}
