{
 "cells": [
  {
   "cell_type": "code",
   "execution_count": 1,
   "id": "fbce07ff",
   "metadata": {},
   "outputs": [],
   "source": [
    "# sieci neuronowe\n",
    "# siec sklada sie z neuronow\n",
    "\n",
    "# --- NEURON\n",
    "# jeden neuron ma dowolna ilosc wejsc\n",
    "# ale tylko jedno wyjscie\n",
    "# neuron zawsze zwraca tylko 2 mozliwosci odpowiedzi\n",
    "\n",
    "# do neuronu zawsze mamy jakas stala ktora wprowadzamy\n",
    "# wartosc trwala tez ma swoja wage; wartosc stala zawsze ma byc 1!!\n",
    "\n",
    "# kazda wartos ma wage\n",
    "\n",
    "# jedna Funkcja aktywacji na neron\n",
    "# Nasawienie neuronu (dot) - jedno na neuron\n",
    "\n",
    "# dane wejsciow maja byc mapowane na liczby ==> czyli wprowadzamy liczby \n",
    "\n",
    "# problem wartosci 0? -- najlepiej zeby zmapowane wartosci nie mialy 0 \n",
    "# 0 czesto znaczy ze jest informacja nie jest znaczaca\n",
    "# moze by 0 ale lepiej unikac; jezli mamy temperature powietrza 0 \n",
    "    # wtedy musimy go uzyc\n",
    "\n",
    "# FUNKCJA AKTYWACJI\n",
    "# na zajeciach uzywamy tylko progowej - jest czy nie ma \n",
    "#   NET (Neuronu) - suma kontrolna do funkcji aktywacji\n",
    "# NET = suma(kazda wartosc wejsciowa * waga)\n",
    "# jezeli wartosc NET > 0) to przyjmujemy ze jest optymistyczne\n",
    "# jezeli NET < 0   to wartosc pesymistyczne\n",
    "# jak NET == 0 -- wtedy trzeba sprawdzic nastawienie neuronu \n",
    "    #-- zawsze zaznaczone kropka\n",
    "# DOT mowimy czy NET przy 0 jest rozpatrzony pozytywnie czy negatywnie \n",
    "\n",
    "# TYPY NEURONOW\n",
    "# sa 2: unipolarny i bipolarny\n",
    "# unipolarny - wartosci pozytywane przyjmuje 1 dla negatywnych 0  \n",
    "    # tu 0 nie ma wplywu na dalsze ucznie\n",
    "# bipolarny = dla pozytywnych przyjmuje 1 a negatywnych -1\n",
    "    # -1 ma wplyw na dalsze ucznie ale negatywne i ma znacznie\n"
   ]
  },
  {
   "cell_type": "code",
   "execution_count": 2,
   "id": "63dd6584",
   "metadata": {},
   "outputs": [],
   "source": [
    "wagi  = [2,3,-1,1]\n",
    "wejscie = [2,1,3]\n",
    "unipolarny = True\n",
    "# policz NET i WYJSCIE \n",
    "# NET = suma(kazda wartosc wejsciowa * waga)\n",
    "# WYNIK NET = 5 a wyjscie = 1"
   ]
  },
  {
   "cell_type": "code",
   "execution_count": 3,
   "id": "b2659d80",
   "metadata": {},
   "outputs": [],
   "source": [
    "# waga_nowa = waga_stara + tempo_ucznia *(oczekiwana - otrzymana) * wejscie\n",
    "\n",
    "# TEMPO UCZENIA\n",
    "# wysokie to uczy sie po lepkach\n",
    "# niskie uczy sie dokladnie ale powoli \n",
    "# tempo ucznia 1 -- to bardzo wysokie \n",
    "# my bedziemy uzywac 0.5\n",
    "# a w biznesie uzywamy przewaznie 0.1 lub 0.5"
   ]
  },
  {
   "cell_type": "code",
   "execution_count": null,
   "id": "b114994e",
   "metadata": {},
   "outputs": [],
   "source": []
  }
 ],
 "metadata": {
  "kernelspec": {
   "display_name": "Python 3 (ipykernel)",
   "language": "python",
   "name": "python3"
  },
  "language_info": {
   "codemirror_mode": {
    "name": "ipython",
    "version": 3
   },
   "file_extension": ".py",
   "mimetype": "text/x-python",
   "name": "python",
   "nbconvert_exporter": "python",
   "pygments_lexer": "ipython3",
   "version": "3.7.11"
  }
 },
 "nbformat": 4,
 "nbformat_minor": 5
}
