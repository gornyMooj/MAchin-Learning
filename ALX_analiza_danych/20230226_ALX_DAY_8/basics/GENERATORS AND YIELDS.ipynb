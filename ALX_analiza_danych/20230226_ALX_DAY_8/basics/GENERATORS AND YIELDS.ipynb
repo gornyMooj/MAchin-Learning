{
 "cells": [
  {
   "cell_type": "markdown",
   "id": "5ff76e7d",
   "metadata": {},
   "source": [
    "## GENERATORS AND YIELDS"
   ]
  },
  {
   "cell_type": "code",
   "execution_count": 1,
   "id": "086e1e81",
   "metadata": {},
   "outputs": [],
   "source": [
    "# generators and iterables: https://stackoverflow.com/questions/231767/what-does-the-yield-keyword-do-in-python\n",
    "# yield: https://www.geeksforgeeks.org/python-yield-keyword/\n",
    "# Generators: https://www.geeksforgeeks.org/generators-in-python/\n",
    "# https://www.geeksforgeeks.org/using-generators-for-substantial-memory-savings-in-python/?ref=rp"
   ]
  },
  {
   "cell_type": "code",
   "execution_count": 2,
   "id": "132b02c0",
   "metadata": {},
   "outputs": [
    {
     "name": "stdout",
     "output_type": "stream",
     "text": [
      "<class 'generator'>\n",
      "dog\n",
      "cat\n"
     ]
    }
   ],
   "source": [
    "def fun_generator():\n",
    "    yield \"dog\"\n",
    "    yield \"cat\"\n",
    "\n",
    "fun = fun_generator()\n",
    " \n",
    "print(type(fun))\n",
    " \n",
    "print(next(fun))\n",
    "print(next(fun))"
   ]
  },
  {
   "cell_type": "code",
   "execution_count": 3,
   "id": "1ebc0230",
   "metadata": {},
   "outputs": [
    {
     "name": "stdout",
     "output_type": "stream",
     "text": [
      "1\n",
      "2\n",
      "3\n"
     ]
    }
   ],
   "source": [
    "# A generator function that yields 1 for first time,\n",
    "# 2 second time and 3 third time\n",
    "def simpleGeneratorFun():\n",
    "    yield 1           \n",
    "    yield 2           \n",
    "    yield 3           \n",
    "\n",
    "# Driver code to check above generator function\n",
    "for value in simpleGeneratorFun():\n",
    "    print(value)"
   ]
  },
  {
   "cell_type": "code",
   "execution_count": 4,
   "id": "234289fb",
   "metadata": {},
   "outputs": [
    {
     "name": "stdout",
     "output_type": "stream",
     "text": [
      "0\n",
      "1\n",
      "4\n"
     ]
    }
   ],
   "source": [
    "mygenerator = (x*x for x in range(3)) # creating generator you \n",
    "\n",
    "# can only iterate over it once\n",
    "for i in mygenerator:\n",
    "    print(i)\n",
    "\n",
    "for i in mygenerator: # this won't get printed\n",
    "    print(i)"
   ]
  },
  {
   "cell_type": "code",
   "execution_count": 5,
   "id": "12a44b4b",
   "metadata": {},
   "outputs": [
    {
     "name": "stdout",
     "output_type": "stream",
     "text": [
      "<class 'generator'>\n",
      "k\n",
      "I can do something here and then use it again u\n"
     ]
    }
   ],
   "source": [
    "def holds_data_in_generator():\n",
    "    for l in list('kupka'):\n",
    "        yield l\n",
    "\n",
    "obj = holds_data_in_generator()\n",
    "print(type(obj))\n",
    "\n",
    "print(next(obj))\n",
    "print('I can do something here and then use it again', next(obj))"
   ]
  },
  {
   "cell_type": "code",
   "execution_count": 6,
   "id": "185ec129",
   "metadata": {},
   "outputs": [
    {
     "name": "stdout",
     "output_type": "stream",
     "text": [
      "<class 'generator'>\n",
      "G\n",
      "I can do something here and then use it again R\n"
     ]
    }
   ],
   "source": [
    "# let's pass values to our generator\n",
    "def holds_data_in_generator(val):\n",
    "    for l in list(val):\n",
    "        yield l\n",
    "\n",
    "obj = holds_data_in_generator('GRUcha')\n",
    "print(type(obj))\n",
    "\n",
    "print(next(obj))\n",
    "print('I can do something here and then use it again', next(obj))"
   ]
  },
  {
   "cell_type": "code",
   "execution_count": 7,
   "id": "e50589dd",
   "metadata": {},
   "outputs": [
    {
     "name": "stdout",
     "output_type": "stream",
     "text": [
      "3 5 7 11 13 17 19 23 29 31 37 41 43 47 53 \n",
      "--- 0.0 seconds ---\n"
     ]
    }
   ],
   "source": [
    "import time\n",
    "start_time = time.time()\n",
    "\n",
    "def primeFunction():\n",
    "    prime = None\n",
    "    num = 1\n",
    "    while True:\n",
    "        num = num + 1\n",
    "  \n",
    "        for i in range(2, num): \n",
    "            if(num % i) == 0:\n",
    "                prime = False\n",
    "                break\n",
    "            else:\n",
    "                prime = True\n",
    "  \n",
    "        if prime:\n",
    "              \n",
    "            # yields the value to the caller \n",
    "            # and halts the execution\n",
    "            yield num\n",
    "\n",
    "def main():\n",
    "      \n",
    "    # returns the generator object.\n",
    "    prime = primeFunction()\n",
    "      \n",
    "    # generator executes upon request\n",
    "    for i in prime:\n",
    "        print(i, end= ' ')\n",
    "        if i > 50:\n",
    "            break\n",
    "\n",
    "if __name__ == \"__main__\":\n",
    "    main()\n",
    "\n",
    "print(\"\\n--- %s seconds ---\" % (time.time() - start_time))"
   ]
  },
  {
   "cell_type": "code",
   "execution_count": 8,
   "id": "494d6d78",
   "metadata": {},
   "outputs": [
    {
     "name": "stdout",
     "output_type": "stream",
     "text": [
      "1\n",
      "1\n",
      "2\n",
      "3\n",
      "5\n"
     ]
    }
   ],
   "source": [
    "\n",
    "def fibonacci():\n",
    "    values = []\n",
    "    while True:\n",
    "  \n",
    "        if len(values) < 2:\n",
    "            values.append(1)\n",
    "        else :\n",
    "              \n",
    "            # sum up the values and \n",
    "            # append the result\n",
    "            values.append(sum(values))\n",
    "              \n",
    "            # pop the first value in \n",
    "            # the list\n",
    "            values.pop(0)\n",
    "  \n",
    "        # yield the latest value to \n",
    "        # the caller\n",
    "        yield values[-1]\n",
    "  \n",
    "def main():\n",
    "    fib = fibonacci()\n",
    "    print(next(fib))  # 1\n",
    "    print(next(fib))  # 1\n",
    "    print(next(fib))  # 2\n",
    "    print(next(fib))  # 3\n",
    "    print(next(fib))  # 5\n",
    "  \n",
    "if __name__ == \"__main__\":\n",
    "    main()"
   ]
  },
  {
   "cell_type": "code",
   "execution_count": 9,
   "id": "c8ce60af",
   "metadata": {},
   "outputs": [
    {
     "data": {
      "text/plain": [
       "('k', 'u', 'p', 'k', 'a')"
      ]
     },
     "execution_count": 9,
     "metadata": {},
     "output_type": "execute_result"
    }
   ],
   "source": [
    "def permutations(iterable, r=None):\n",
    "    # permutations('ABCD', 2) --> AB AC AD BA BC BD CA CB CD DA DB DC\n",
    "    # permutations(range(3)) --> 012 021 102 120 201 210\n",
    "    pool = tuple(iterable)\n",
    "    n = len(pool)\n",
    "    r = n if r is None else r\n",
    "    if r > n:\n",
    "        return\n",
    "    indices = list(range(n))\n",
    "    cycles = list(range(n, n-r, -1))\n",
    "    yield tuple(pool[i] for i in indices[:r])\n",
    "    while n:\n",
    "        for i in reversed(range(r)):\n",
    "            cycles[i] -= 1\n",
    "            if cycles[i] == 0:\n",
    "                indices[i:] = indices[i+1:] + indices[i:i+1]\n",
    "                cycles[i] = n - i\n",
    "            else:\n",
    "                j = cycles[i]\n",
    "                indices[i], indices[-j] = indices[-j], indices[i]\n",
    "                yield tuple(pool[i] for i in indices[:r])\n",
    "                break\n",
    "        else:\n",
    "            return\n",
    "        \n",
    "pre = permutations('kupka')\n",
    "next(pre)"
   ]
  },
  {
   "cell_type": "code",
   "execution_count": null,
   "id": "dab7ce15",
   "metadata": {},
   "outputs": [],
   "source": []
  }
 ],
 "metadata": {
  "kernelspec": {
   "display_name": "Python 3 (ipykernel)",
   "language": "python",
   "name": "python3"
  },
  "language_info": {
   "codemirror_mode": {
    "name": "ipython",
    "version": 3
   },
   "file_extension": ".py",
   "mimetype": "text/x-python",
   "name": "python",
   "nbconvert_exporter": "python",
   "pygments_lexer": "ipython3",
   "version": "3.7.11"
  }
 },
 "nbformat": 4,
 "nbformat_minor": 5
}
