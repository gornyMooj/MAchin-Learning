{
 "cells": [
  {
   "cell_type": "code",
   "execution_count": 1,
   "id": "1fe8759c",
   "metadata": {},
   "outputs": [],
   "source": [
    "# zadanie 1\n",
    "# mamy spychacz i losowe punkty\n",
    "# wiemy gdzie punkty i spychycz \n",
    "# okresl najkrotsza mozliwa sciezke tak zeby zebrac wszystkie punkty i wypisz rozwiazanie -- wypisz stringa koment \n",
    "# e.g. rgggrgglgglg..."
   ]
  },
  {
   "cell_type": "markdown",
   "id": "8230e5b2",
   "metadata": {},
   "source": [
    "-  https://mathsathome.com/calculating-bearings/#:~:text=If%20given%20the%20bearing%20from,from%20A%20is%20050%C2%B0."
   ]
  },
  {
   "cell_type": "markdown",
   "id": "70b11b9c",
   "metadata": {},
   "source": [
    "#### Goes to the  n points\n",
    "does:\n",
    "- creates all possible ways \n",
    "\n",
    "to do:\n",
    "- select shortes \n",
    "\n"
   ]
  },
  {
   "cell_type": "code",
   "execution_count": 13,
   "id": "7a3f009c",
   "metadata": {},
   "outputs": [
    {
     "data": {
      "image/png": "[encoded data removed]",
      "text/plain": [
       "<Figure size 432x288 with 1 Axes>"
      ]
     },
     "metadata": {
      "needs_background": "light"
     },
     "output_type": "display_data"
    },
    {
     "name": "stdout",
     "output_type": "stream",
     "text": [
      "2 [((1, 2), (7, 4)), ((7, 4), (1, 2))]\n",
      "((1, 2), (7, 4))\n"
     ]
    },
    {
     "data": {
      "image/png": "[encoded data removed]",
      "text/plain": [
       "<Figure size 432x288 with 1 Axes>"
      ]
     },
     "metadata": {
      "needs_background": "light"
     },
     "output_type": "display_data"
    },
    {
     "name": "stdout",
     "output_type": "stream",
     "text": [
      "((7, 4), (1, 2))\n"
     ]
    },
    {
     "data": {
      "image/png": "[encoded data removed]",
      "text/plain": [
       "<Figure size 432x288 with 1 Axes>"
      ]
     },
     "metadata": {
      "needs_background": "light"
     },
     "output_type": "display_data"
    },
    {
     "data": {
      "text/plain": [
       "['LGGGLGGLGGGGGGLGG', 'RGGGRGGRGGGGGG']"
      ]
     },
     "execution_count": 13,
     "metadata": {},
     "output_type": "execute_result"
    }
   ],
   "source": [
    "import pandas as pd\n",
    "import matplotlib.pyplot as plt\n",
    "import random\n",
    "from itertools import permutations\n",
    "\n",
    "grid = 8\n",
    "x = int(grid/2)\n",
    "y = int(grid/2)\n",
    "n = 2 ## number of points\n",
    "\n",
    "class Points:\n",
    "    def __init__(self):\n",
    "        self.x = [random.randrange(0, grid) for x in range(n)]\n",
    "        self.y = [random.randrange(0, grid) for x in range(n)]\n",
    "        \n",
    "    def coordinates(self):\n",
    "        return list(zip(self.x, self.y))\n",
    "    \n",
    "\n",
    "class Spychacz:\n",
    "    def __init__(self):\n",
    "        self.x = x\n",
    "        self.y = y\n",
    "        self.a = 0\n",
    "        self.symbol = '^'\n",
    "        self.sx = [self.x]\n",
    "        self.sy = [self.y]\n",
    "        self.symbols_history = [self.symbol]\n",
    "        self.symbole = { 0: '^', 90: '>', 180: \"v\", 270: '<'}\n",
    "        \n",
    "    def turn_right(self):\n",
    "        self.a = (self.a + 90) % 360\n",
    "        self.symbol = self.symbole[self.a]\n",
    "        self.symbols_history.append(self.symbol)\n",
    "    \n",
    "    def turn_left(self):\n",
    "        self.a = (self.a - 90) % 360\n",
    "        self.symbol = self.symbole[self.a]\n",
    "        self.symbols_history.append(self.symbol)\n",
    "            \n",
    "    def step_forward(self):\n",
    "        if self.a == 0:\n",
    "            self.y += 1\n",
    "        if self.a == 90:\n",
    "            self.x += 1\n",
    "        if self.a == 180:\n",
    "            self.y -= 1\n",
    "        if self.a == 270:\n",
    "            self.x -= 1\n",
    "        self.sx.append(self.x)\n",
    "        self.sy.append(self.y)\n",
    "        \n",
    "    def return_steps_history(self):\n",
    "        return list(zip(self.sx, self.sy))\n",
    "    \n",
    "    def coordinates(self):\n",
    "        return (self.x, self.y)\n",
    "    \n",
    "    def change_angle(self, a):\n",
    "        self.a = a\n",
    "        self.symbol = self.symbole[a]\n",
    "            \n",
    "\n",
    "\n",
    "def draw(points, spychacz):\n",
    "    plt.scatter(points.x, points.y)\n",
    "    plt.plot(spychacz.sx, spychacz.sy, color='pink', linewidth='2')\n",
    "    plt.scatter(spychacz.x, spychacz.y, marker=spychacz.symbol, c='r', s= 90)\n",
    "    plt.xticks(list(range(grid+ 2)))\n",
    "    plt.yticks(list(range(grid+ 2)))\n",
    "    plt.grid()\n",
    "\n",
    "    plt.show()\n",
    "\n",
    "\n",
    "\n",
    "class Ways:\n",
    "    '''\n",
    "    ways - are composed of paths\n",
    "    path - is composed of steps between points\n",
    "    '''\n",
    "    \n",
    "    def __init__(self, points_object):\n",
    "        self.points_object = points_object\n",
    "        self.points = points_object.coordinates()\n",
    "        self.all_ways_strings = list() \n",
    "        self.all_ways_steps_historys = list()\n",
    "        \n",
    "        self.all_possible_ways = list()\n",
    "        \n",
    "        # generate premutations\n",
    "        self.generate_permutations() \n",
    "                \n",
    "    \n",
    "    def generate_permutations(self):\n",
    "        self.all_possible_ways = list(permutations(self.points))\n",
    "        \n",
    "        \n",
    "    def calculate_path(self, p1, p2, spychacz):\n",
    "        x = p2[0] - p1[0]\n",
    "        y = p2[1] - p1[1]\n",
    "\n",
    "        angle_spychacz = spychacz.a\n",
    "        point_angle = spychacz.a\n",
    "        path = ''\n",
    "\n",
    "        # angle 0     x = 0 and y > 0\n",
    "        if x == 0 and y > 0:\n",
    "            if point_angle == 0:\n",
    "                path += ''.join(['G' for s in range(y)])\n",
    "            elif point_angle == 90:\n",
    "                path +=  'L' + ''.join(['G' for s in range(y)])\n",
    "            elif point_angle == 180:\n",
    "                path += 'RR' + ''.join(['G' for s in range(y)])\n",
    "            elif point_angle == 270:\n",
    "                path += 'R' + ''.join(['G' for s in range(y)])\n",
    "\n",
    "        # angles 1 - 89      x > 0 and y > 0\n",
    "        elif x > 0 and y > 0:\n",
    "            if point_angle == 0:\n",
    "                path += ''.join(['G' for s in range(y)]) + 'R' + ''.join(['G' for s in range(x)])\n",
    "            elif point_angle == 90:\n",
    "                path +=  ''.join(['G' for s in range(x)]) + 'L' + ''.join(['G' for s in range(y)])\n",
    "            elif point_angle == 180:\n",
    "                path += 'L' + ''.join(['G' for s in range(x)]) + 'L' + ''.join(['G' for s in range(y)])\n",
    "            elif point_angle == 270:\n",
    "                path += 'R' + ''.join(['G' for s in range(y)]) + 'R' + ''.join(['G' for s in range(x)])           \n",
    "\n",
    "        # angle 90    y = 0 and x > 0\n",
    "        elif y == 0 and x > 0:\n",
    "            if point_angle == 0:\n",
    "                path += 'R' + ''.join(['G' for s in range(x)])\n",
    "            elif point_angle == 90:\n",
    "                path +=  ''.join(['G' for s in range(x)])\n",
    "            elif point_angle == 180:\n",
    "                path += 'L' + ''.join(['G' for s in range(x)])\n",
    "            elif point_angle == 270:\n",
    "                path += 'LL' + ''.join(['G' for s in range(x)])\n",
    "\n",
    "        # angles 91 - 179    x > 0 and y < 0\n",
    "        elif x > 0 and y < 0:\n",
    "            y *= -1\n",
    "            print('angles 91 - 179')\n",
    "            if point_angle == 0:\n",
    "                path += 'R' + ''.join(['G' for s in range(x)]) + 'R' + ''.join(['G' for s in range(y)])\n",
    "            elif point_angle == 90:\n",
    "                path += ''.join(['G' for s in range(x)]) + 'R' + ''.join(['G' for s in range(y)])\n",
    "            elif point_angle == 180:\n",
    "                path += ''.join(['G' for s in range(y)]) + 'L' + ''.join(['G' for s in range(x)])\n",
    "            elif point_angle == 270:\n",
    "                path += 'L' + ''.join(['G' for s in range(y)]) + 'L' + ''.join(['G' for s in range(x)])\n",
    "\n",
    "        # angle 180   x = 0 and y < 0\n",
    "        elif x == 0 and y < 0:\n",
    "            y *= -1\n",
    "            if point_angle == 0:\n",
    "                path += 'RR' + ''.join(['G' for s in range(y)])\n",
    "            elif point_angle == 90:\n",
    "                path += 'R' + ''.join(['G' for s in range(y)])\n",
    "            elif point_angle == 180:\n",
    "                path += ''.join(['G' for s in range(y)])\n",
    "            elif point_angle == 270:\n",
    "                path += 'L' + ''.join(['G' for s in range(y)])\n",
    "\n",
    "        # angles 181 - 269   x  < 0 and y < 0\n",
    "        elif x  < 0 and y < 0:\n",
    "            y *= -1\n",
    "            x *= -1\n",
    "            if point_angle == 0:\n",
    "                path += 'L' + ''.join(['G' for s in range(x)]) + 'L' + ''.join(['G' for s in range(y)])\n",
    "            elif point_angle == 90:\n",
    "                path += 'R' + ''.join(['G' for s in range(y)]) + 'R' +   ''.join(['G' for s in range(x)])\n",
    "            elif point_angle == 180:\n",
    "                path += ''.join(['G' for s in range(y)]) + 'R' +   ''.join(['G' for s in range(x)])\n",
    "            elif point_angle == 270:\n",
    "                path += ''.join(['G' for s in range(x)]) + 'L' + ''.join(['G' for s in range(y)])\n",
    "\n",
    "        # angle 270   y = 0 and x < 0 \n",
    "        elif y == 0 and x < 0:\n",
    "            x *= -1\n",
    "            print('angle 270')\n",
    "            if point_angle == 0:\n",
    "                path += 'L' + ''.join(['G' for s in range(x)])\n",
    "            elif point_angle == 90:\n",
    "                path +=  'LL' + ''.join(['G' for s in range(x)])\n",
    "            elif point_angle == 180:\n",
    "                path += 'R' + ''.join(['G' for s in range(x)])\n",
    "            elif point_angle == 270:\n",
    "                path += ''.join(['G' for s in range(x)])\n",
    "\n",
    "        # angles 271 - 359   x < 0 and y > 0\n",
    "        elif x < 0 and y > 0:\n",
    "            x *= -1\n",
    "            if point_angle == 0:\n",
    "                path += ''.join(['G' for s in range(y)]) + 'L' + ''.join(['G' for s in range(x)])\n",
    "            elif point_angle == 90:\n",
    "                path += 'L' + ''.join(['G' for s in range(y)]) + 'L' + ''.join(['G' for s in range(x)])\n",
    "            elif point_angle == 180:\n",
    "                path += 'R' + ''.join(['G' for s in range(x)]) + 'R' + ''.join(['G' for s in range(y)])\n",
    "            elif point_angle == 270:\n",
    "                path += ''.join(['G' for s in range(x)]) + 'R' + ''.join(['G' for s in range(y)])\n",
    "        else:\n",
    "            print('who knows?')\n",
    "            \n",
    "        return path\n",
    "    \n",
    "    \n",
    "    def move(self, user_input, spychacz):\n",
    "        for e in user_input:\n",
    "            if e.upper() == 'R':\n",
    "                spychacz.turn_right()\n",
    "            elif e.upper() == 'L':\n",
    "                spychacz.turn_left()\n",
    "            elif e.upper() == 'G':\n",
    "                spychacz.step_forward()\n",
    "            else:\n",
    "                continue\n",
    "                \n",
    "                \n",
    "    def generate_ways(self):\n",
    "         for way in self.all_possible_ways:\n",
    "                print(way)\n",
    "                way_string = ''\n",
    "                spychacz = Spychacz()\n",
    "                for path in way:\n",
    "                    path = self.calculate_path(spychacz.coordinates(),path, spychacz)\n",
    "                    self.move(path, spychacz)\n",
    "                    way_string += path\n",
    "                draw(self.points_object, spychacz)\n",
    "                self.all_ways_strings.append(way_string)\n",
    "\n",
    "        \n",
    "    \n",
    "        \n",
    "        \n",
    "    \n",
    "        \n",
    "# path = calculate_path(spychacz.coordinates(), points.coordinates()[0])\n",
    "# move(path)   \n",
    "# draw(points, spychacz)\n",
    "# print(path)\n",
    "# print(spychacz.return_steps_history())\n",
    "\n",
    "\n",
    "points = Points()\n",
    "# spychacz = Spychacz()  \n",
    "draw(points, Spychacz())\n",
    "\n",
    "ways = Ways(points)\n",
    "print(len(ways.all_possible_ways), ways.all_possible_ways)\n",
    "ways.generate_ways()\n",
    "ways.all_ways_strings"
   ]
  },
  {
   "cell_type": "code",
   "execution_count": 3,
   "id": "48c7f2dc",
   "metadata": {},
   "outputs": [
    {
     "name": "stdout",
     "output_type": "stream",
     "text": [
      "[1, 6, 1, 1, 1, 1, 5, 3, 3, 0, 6, 5, 5, 5, 5, 5, 2, 5, 3, 0]\n"
     ]
    }
   ],
   "source": [
    "# [random.randrange(0, grid) for x in range(n)]\n"
   ]
  },
  {
   "cell_type": "markdown",
   "id": "709d07b4",
   "metadata": {},
   "source": [
    "# find minimum value"
   ]
  },
  {
   "cell_type": "code",
   "execution_count": 7,
   "id": "b6d3523b",
   "metadata": {},
   "outputs": [
    {
     "name": "stdout",
     "output_type": "stream",
     "text": [
      "[2, 3, 4, 2, 6, 3, 3, 2, 3, 4, 3, 6, 3, 3, 3, 1, 0, 2, 3, 0]\n"
     ]
    },
    {
     "data": {
      "text/plain": [
       "0"
      ]
     },
     "execution_count": 7,
     "metadata": {},
     "output_type": "execute_result"
    }
   ],
   "source": [
    "import random\n",
    "\n",
    "l = [random.randrange(0, 7) for x in range(20)]\n",
    "print(l)\n",
    "\n",
    "min_val = l[0]\n",
    "\n",
    "for n in l:\n",
    "    if n <= min_val:\n",
    "        min_val = n\n",
    "        \n",
    "min_val"
   ]
  },
  {
   "cell_type": "markdown",
   "id": "2ce57550",
   "metadata": {},
   "source": [
    "# generate list of minimum values in the list"
   ]
  },
  {
   "cell_type": "code",
   "execution_count": 12,
   "id": "51e7bef3",
   "metadata": {},
   "outputs": [
    {
     "name": "stdout",
     "output_type": "stream",
     "text": [
      "[6, 6, 3, 6, 4, 3, 4, 3, 0, 0, 1, 1, 4, 3, 2, 0, 1, 3, 0, 6]\n"
     ]
    },
    {
     "data": {
      "text/plain": [
       "[0, 0, 0, 0]"
      ]
     },
     "execution_count": 12,
     "metadata": {},
     "output_type": "execute_result"
    }
   ],
   "source": [
    "import random\n",
    "\n",
    "l = [random.randrange(0, 7) for x in range(20)]\n",
    "print(l)\n",
    "\n",
    "min_val = [l[0]]\n",
    "for n in l:\n",
    "    if n < min_val[0]:\n",
    "        min_val = [n]\n",
    "    elif n == min_val[0]:\n",
    "        min_val.append(n)\n",
    "        \n",
    "min_val"
   ]
  },
  {
   "cell_type": "code",
   "execution_count": null,
   "id": "38adc3a1",
   "metadata": {},
   "outputs": [],
   "source": []
  }
 ],
 "metadata": {
  "kernelspec": {
   "display_name": "Python 3 (ipykernel)",
   "language": "python",
   "name": "python3"
  },
  "language_info": {
   "codemirror_mode": {
    "name": "ipython",
    "version": 3
   },
   "file_extension": ".py",
   "mimetype": "text/x-python",
   "name": "python",
   "nbconvert_exporter": "python",
   "pygments_lexer": "ipython3",
   "version": "3.7.11"
  }
 },
 "nbformat": 4,
 "nbformat_minor": 5
}
