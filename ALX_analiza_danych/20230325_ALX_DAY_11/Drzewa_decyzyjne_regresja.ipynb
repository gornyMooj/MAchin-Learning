{
 "cells": [
  {
   "cell_type": "code",
   "execution_count": 1,
   "id": "f2874205",
   "metadata": {},
   "outputs": [
    {
     "name": "stdout",
     "output_type": "stream",
     "text": [
      "ssak\n"
     ]
    },
    {
     "data": {
      "text/plain": [
       "<__main__.Validator at 0x2007904e4c8>"
      ]
     },
     "execution_count": 1,
     "metadata": {},
     "output_type": "execute_result"
    }
   ],
   "source": [
    "class Validator:\n",
    "    \n",
    "    def __init__(self, classifier):\n",
    "        self.classifier = classifier\n",
    "        \n",
    "        self.classify()\n",
    "        \n",
    "    \n",
    "    def classify(self):\n",
    "        \n",
    "        if self.classifier == 'tt':\n",
    "            print('ssak')\n",
    "        elif self.classifier == 'tnn':\n",
    "            print('plaz')\n",
    "        elif self.classifier == 'tnt':\n",
    "            print('gad')\n",
    "        elif self.classifier == 'nnn':\n",
    "            print('owad')\n",
    "        elif self.classifier == 'nt':\n",
    "            print('ryba')\n",
    "        elif self.classifier == 'nnt':\n",
    "            print('ptak')\n",
    "        else:\n",
    "            print('wrong classifier')\n",
    "        \n",
    "        \n",
    "        \n",
    "Validator('tt')\n",
    "    \n",
    "    "
   ]
  },
  {
   "cell_type": "markdown",
   "id": "9c8a8b1e",
   "metadata": {},
   "source": [
    "### Regresja"
   ]
  },
  {
   "cell_type": "code",
   "execution_count": 1,
   "id": "2557670d",
   "metadata": {},
   "outputs": [
    {
     "name": "stdout",
     "output_type": "stream",
     "text": [
      "a 49.63722397476346\n",
      "b 55.58359621451104\n"
     ]
    },
    {
     "data": {
      "image/png": "[encoded data removed]",
      "text/plain": [
       "<Figure size 432x288 with 1 Axes>"
      ]
     },
     "metadata": {
      "needs_background": "light"
     },
     "output_type": "display_data"
    }
   ],
   "source": [
    "import matplotlib.pyplot as plt\n",
    "\n",
    "def suma_x_y(liczbt_x, liczbt_y):\n",
    "    xy = 0\n",
    "    for i in range(len(liczbt_x)):\n",
    "        suma = liczbt_x[i] * liczbt_y[i]\n",
    "        xy += suma\n",
    "    return xy\n",
    "\n",
    "def count_b(liczbt_x, liczbt_y):\n",
    "    g = (len(liczbt_x) * suma_x_y(liczbt_x, liczbt_y)) - (sum(liczbt_x) * sum(liczbt_y))\n",
    "    d = (len(liczbt_x) * sum([x**2 for x in liczbt_x])) - (sum(liczbt_x)**2)\n",
    "    b = g/d\n",
    "    return b\n",
    "\n",
    "\n",
    "def count_a(liczbt_x, liczbt_y, b):\n",
    "    sr_y = sum(liczbt_y)/len(liczbt_x)\n",
    "    sr_x = sum(liczbt_x)/len(liczbt_x)\n",
    "    \n",
    "    return sr_y - b * sr_x\n",
    "\n",
    "\n",
    "while True:\n",
    "    try:\n",
    "#         liczbt_x = input('Podaj x: ').split(',')\n",
    "#         liczbt_y = input('Poday y: ').split(',')\n",
    "#         x = float(input('Podaj liczbe y: '))\n",
    "        \n",
    "        liczbt_x = [5,6,2,1,19,5]\n",
    "        liczbt_y = [200,300,180,50,1100,580]\n",
    "        x = 10\n",
    "        \n",
    "        if len(liczbt_x) != len(liczbt_y): continue\n",
    "        \n",
    "        b = count_b(liczbt_x, liczbt_y)\n",
    "        a = count_a(liczbt_x, liczbt_y, b)\n",
    "        y = a + b * x\n",
    "        \n",
    "        print('a', a)\n",
    "        print('b', b)\n",
    "        \n",
    "        plt.scatter(liczbt_x, liczbt_y , c= 'blue')  \n",
    "        plt.scatter(x, y , c= 'red') \n",
    "        \n",
    "        c = list(zip(liczbt_x,liczbt_y))\n",
    "        c = list(sorted(c,key=lambda l:l[1]))\n",
    "        \n",
    "        x_max = max([5,6,2,1,19,5]) + 2\n",
    "        y_max = a + b * x_max\n",
    "        \n",
    "        plt.plot([0, x_max], [b,y_max])\n",
    "        plt.show()\n",
    "        \n",
    "        break\n",
    "        \n",
    "        \n",
    "    except:\n",
    "        print('Something was wrong. Try agai')\n",
    "        break"
   ]
  },
  {
   "cell_type": "markdown",
   "id": "5dbab424",
   "metadata": {},
   "source": [
    "od prowadzacy\n"
   ]
  },
  {
   "cell_type": "code",
   "execution_count": 6,
   "id": "790f6a04",
   "metadata": {},
   "outputs": [
    {
     "data": {
      "image/png": "[encoded data removed]",
      "text/plain": [
       "<Figure size 432x288 with 1 Axes>"
      ]
     },
     "metadata": {
      "needs_background": "light"
     },
     "output_type": "display_data"
    }
   ],
   "source": [
    "x = [5,6,2,1,19,5]\n",
    "y = [200,300,180,50,1100,580]\n",
    "\n",
    "import matplotlib.pyplot as plt\n",
    "from scipy import stats\n",
    "\n",
    "s, inter, r, p, err = stats.linregress(x, y)\n",
    "\n",
    "\n",
    "def fun(x):\n",
    "    return s * x + inter\n",
    "\n",
    "model = list(map(fun, x))\n",
    "\n",
    "plt.scatter(x, y)\n",
    "plt.plot(x, model, c='pink')\n",
    "\n",
    "plt.show()"
   ]
  },
  {
   "cell_type": "markdown",
   "id": "71713b2f",
   "metadata": {},
   "source": [
    "### Problem plecakowy\n",
    "\n",
    "- ukrasc najcenniesze produkcj nie przekreczajace np 30 kg\n",
    "- do momentu zaleplnienia dobieramy produkty o najwyzszym wspolczynniky cena/waga\n",
    "- produkt mozna wziac tylko raz\n",
    "\n",
    "\n",
    "zad 1 \n",
    "- napisz program wygeneruj plik z x i y (cena od 1 -100), waga 1 do 12 z 100 produktow ( bez powtorzen) \n",
    "- wypisz jakie produkty zostaly skradzione  do 30kg skradzionych - \n"
   ]
  },
  {
   "cell_type": "code",
   "execution_count": 47,
   "id": "a625c25a",
   "metadata": {},
   "outputs": [
    {
     "data": {
      "image/png": "[encoded data removed]",
      "text/plain": [
       "<Figure size 432x288 with 1 Axes>"
      ]
     },
     "metadata": {
      "needs_background": "light"
     },
     "output_type": "display_data"
    },
    {
     "data": {
      "image/png": "[encoded data removed]",
      "text/plain": [
       "<Figure size 432x288 with 1 Axes>"
      ]
     },
     "metadata": {
      "needs_background": "light"
     },
     "output_type": "display_data"
    },
    {
     "data": {
      "image/png": "[encoded data removed]",
      "text/plain": [
       "<Figure size 432x288 with 1 Axes>"
      ]
     },
     "metadata": {
      "needs_background": "light"
     },
     "output_type": "display_data"
    },
    {
     "data": {
      "text/html": [
       "<div>\n",
       "<style scoped>\n",
       "    .dataframe tbody tr th:only-of-type {\n",
       "        vertical-align: middle;\n",
       "    }\n",
       "\n",
       "    .dataframe tbody tr th {\n",
       "        vertical-align: top;\n",
       "    }\n",
       "\n",
       "    .dataframe thead th {\n",
       "        text-align: right;\n",
       "    }\n",
       "</style>\n",
       "<table border=\"1\" class=\"dataframe\">\n",
       "  <thead>\n",
       "    <tr style=\"text-align: right;\">\n",
       "      <th></th>\n",
       "      <th>cena</th>\n",
       "      <th>waga</th>\n",
       "      <th>wsp</th>\n",
       "    </tr>\n",
       "  </thead>\n",
       "  <tbody>\n",
       "    <tr>\n",
       "      <th>0</th>\n",
       "      <td>78</td>\n",
       "      <td>1</td>\n",
       "      <td>78.0</td>\n",
       "    </tr>\n",
       "    <tr>\n",
       "      <th>1</th>\n",
       "      <td>76</td>\n",
       "      <td>1</td>\n",
       "      <td>76.0</td>\n",
       "    </tr>\n",
       "    <tr>\n",
       "      <th>2</th>\n",
       "      <td>73</td>\n",
       "      <td>1</td>\n",
       "      <td>73.0</td>\n",
       "    </tr>\n",
       "    <tr>\n",
       "      <th>3</th>\n",
       "      <td>67</td>\n",
       "      <td>1</td>\n",
       "      <td>67.0</td>\n",
       "    </tr>\n",
       "    <tr>\n",
       "      <th>4</th>\n",
       "      <td>47</td>\n",
       "      <td>1</td>\n",
       "      <td>47.0</td>\n",
       "    </tr>\n",
       "  </tbody>\n",
       "</table>\n",
       "</div>"
      ],
      "text/plain": [
       "   cena  waga   wsp\n",
       "0    78     1  78.0\n",
       "1    76     1  76.0\n",
       "2    73     1  73.0\n",
       "3    67     1  67.0\n",
       "4    47     1  47.0"
      ]
     },
     "execution_count": 47,
     "metadata": {},
     "output_type": "execute_result"
    }
   ],
   "source": [
    "import random\n",
    "import pandas as pd\n",
    "import seaborn as sns\n",
    "\n",
    "def get_price():\n",
    "    return random.randrange(1, 100)\n",
    "\n",
    "def get_weight():\n",
    "    return random.randrange(1, 12)\n",
    "\n",
    "items = set()\n",
    "while len(items) < 100:\n",
    "    items.add((get_price(), get_weight()))\n",
    "\n",
    "items = [ [i[0],i[1], round(i[0]/i[1], 1)] for i in items] \n",
    "\n",
    "data = {\n",
    "    'cena': [ i[0] for i in items],\n",
    "    'waga': [ i[1] for i in items],\n",
    "    'wsp': [ i[2] for i in items],\n",
    "}\n",
    "\n",
    "df = pd.DataFrame(data)\n",
    "\n",
    "df = df.sort_values(by='wsp', ascending= False)\n",
    "\n",
    "df.head(10)\n",
    "\n",
    "sns.histplot(data=df, x=\"wsp\")\n",
    "plt.show()\n",
    "\n",
    "plt.scatter(df['cena'], df['waga'])\n",
    "plt.xlabel('cena')\n",
    "plt.ylabel('waga')\n",
    "plt.show()\n",
    "\n",
    "plt.scatter(df['waga'], df['wsp'])\n",
    "plt.xlabel('waga')\n",
    "plt.ylabel('wsp')\n",
    "plt.show()\n",
    "\n",
    "df = df.reset_index(drop=True)\n",
    "df.head()"
   ]
  },
  {
   "cell_type": "code",
   "execution_count": 48,
   "id": "6e4900ae",
   "metadata": {},
   "outputs": [
    {
     "name": "stdout",
     "output_type": "stream",
     "text": [
      "plecak waga 29\n",
      "plecak lista: [[78, 1, 78.0], [73, 1, 73.0], [47, 1, 47.0], [38, 1, 38.0], [62, 2, 31.0], [84, 3, 28.0], [79, 3, 26.3], [92, 4, 23.0], [90, 4, 22.5], [40, 2, 20.0], [96, 6, 16.0], [15, 1, 15.0]]\n"
     ]
    }
   ],
   "source": [
    "plecak = 0\n",
    "plecak_list = []\n",
    "plecak_max = 30\n",
    "items_sorted = sorted(items,key=lambda l:l[2], reverse=True)\n",
    "\n",
    "while plecak <= 30:\n",
    "    no_more_sace = True\n",
    "    for i in items_sorted:\n",
    "        if plecak + i[1] <= plecak_max:\n",
    "            plecak += i[1]\n",
    "            plecak_list.append(i)\n",
    "            items_sorted.remove(i)\n",
    "            continue\n",
    "        else:\n",
    "            continue\n",
    "        if  i[1] + plecak <= plecak_max:\n",
    "            no_more_sace = False\n",
    "            \n",
    "    if no_more_sace == True:\n",
    "        break\n",
    "        \n",
    "\n",
    "print('plecak waga', plecak)\n",
    "print('plecak lista:', plecak_list)"
   ]
  },
  {
   "cell_type": "code",
   "execution_count": null,
   "id": "b255632f",
   "metadata": {},
   "outputs": [],
   "source": []
  },
  {
   "cell_type": "code",
   "execution_count": null,
   "id": "ee475707",
   "metadata": {},
   "outputs": [],
   "source": []
  }
 ],
 "metadata": {
  "kernelspec": {
   "display_name": "Python 3 (ipykernel)",
   "language": "python",
   "name": "python3"
  },
  "language_info": {
   "codemirror_mode": {
    "name": "ipython",
    "version": 3
   },
   "file_extension": ".py",
   "mimetype": "text/x-python",
   "name": "python",
   "nbconvert_exporter": "python",
   "pygments_lexer": "ipython3",
   "version": "3.7.11"
  }
 },
 "nbformat": 4,
 "nbformat_minor": 5
}
