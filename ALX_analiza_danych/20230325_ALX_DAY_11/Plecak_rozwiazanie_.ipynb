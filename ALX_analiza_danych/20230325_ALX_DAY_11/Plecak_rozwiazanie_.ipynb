{
 "cells": [
  {
   "cell_type": "markdown",
   "id": "94974c79",
   "metadata": {},
   "source": [
    "### Problem plecakowy\n",
    "\n",
    "- ukrasc najcenniesze produkcj nie przekreczajace np 30 kg\n",
    "- do momentu zaleplnienia dobieramy produkty o najwyzszym wspolczynniky cena/waga\n",
    "- produkt mozna wziac tylko raz\n",
    "\n",
    "\n",
    "zad 1 \n",
    "- napisz program wygeneruj plik z x i y (cena od 1 -100), waga 1 do 12 z 100 produktow ( bez powtorzen) \n",
    "- wypisz jakie produkty zostaly skradzione  do 30kg skradzionych - \n"
   ]
  },
  {
   "cell_type": "code",
   "execution_count": 1,
   "id": "e7ccdcc1",
   "metadata": {},
   "outputs": [
    {
     "data": {
      "image/png": "[encoded data removed]",
      "text/plain": [
       "<Figure size 432x288 with 1 Axes>"
      ]
     },
     "metadata": {
      "needs_background": "light"
     },
     "output_type": "display_data"
    },
    {
     "data": {
      "image/png": "[encoded data removed]",
      "text/plain": [
       "<Figure size 432x288 with 1 Axes>"
      ]
     },
     "metadata": {
      "needs_background": "light"
     },
     "output_type": "display_data"
    },
    {
     "data": {
      "image/png": "[encoded data removed]",
      "text/plain": [
       "<Figure size 432x288 with 1 Axes>"
      ]
     },
     "metadata": {
      "needs_background": "light"
     },
     "output_type": "display_data"
    },
    {
     "data": {
      "text/html": [
       "<div>\n",
       "<style scoped>\n",
       "    .dataframe tbody tr th:only-of-type {\n",
       "        vertical-align: middle;\n",
       "    }\n",
       "\n",
       "    .dataframe tbody tr th {\n",
       "        vertical-align: top;\n",
       "    }\n",
       "\n",
       "    .dataframe thead th {\n",
       "        text-align: right;\n",
       "    }\n",
       "</style>\n",
       "<table border=\"1\" class=\"dataframe\">\n",
       "  <thead>\n",
       "    <tr style=\"text-align: right;\">\n",
       "      <th></th>\n",
       "      <th>cena</th>\n",
       "      <th>waga</th>\n",
       "      <th>wsp</th>\n",
       "    </tr>\n",
       "  </thead>\n",
       "  <tbody>\n",
       "    <tr>\n",
       "      <th>0</th>\n",
       "      <td>95</td>\n",
       "      <td>1</td>\n",
       "      <td>95.0</td>\n",
       "    </tr>\n",
       "    <tr>\n",
       "      <th>1</th>\n",
       "      <td>94</td>\n",
       "      <td>1</td>\n",
       "      <td>94.0</td>\n",
       "    </tr>\n",
       "    <tr>\n",
       "      <th>2</th>\n",
       "      <td>85</td>\n",
       "      <td>1</td>\n",
       "      <td>85.0</td>\n",
       "    </tr>\n",
       "    <tr>\n",
       "      <th>3</th>\n",
       "      <td>62</td>\n",
       "      <td>1</td>\n",
       "      <td>62.0</td>\n",
       "    </tr>\n",
       "    <tr>\n",
       "      <th>4</th>\n",
       "      <td>54</td>\n",
       "      <td>1</td>\n",
       "      <td>54.0</td>\n",
       "    </tr>\n",
       "  </tbody>\n",
       "</table>\n",
       "</div>"
      ],
      "text/plain": [
       "   cena  waga   wsp\n",
       "0    95     1  95.0\n",
       "1    94     1  94.0\n",
       "2    85     1  85.0\n",
       "3    62     1  62.0\n",
       "4    54     1  54.0"
      ]
     },
     "execution_count": 1,
     "metadata": {},
     "output_type": "execute_result"
    }
   ],
   "source": [
    "import random\n",
    "import pandas as pd\n",
    "import seaborn as sns\n",
    "import matplotlib.pyplot as plt\n",
    "\n",
    "\n",
    "def get_price():\n",
    "    return random.randrange(1, 100)\n",
    "\n",
    "def get_weight():\n",
    "    return random.randrange(1, 12)\n",
    "\n",
    "items = set()\n",
    "while len(items) < 100:\n",
    "    items.add((get_price(), get_weight()))\n",
    "\n",
    "items = [ [i[0],i[1], round(i[0]/i[1], 1)] for i in items] \n",
    "\n",
    "data = {\n",
    "    'cena': [ i[0] for i in items],\n",
    "    'waga': [ i[1] for i in items],\n",
    "    'wsp': [ i[2] for i in items],\n",
    "}\n",
    "\n",
    "df = pd.DataFrame(data)\n",
    "\n",
    "df = df.sort_values(by='wsp', ascending= False)\n",
    "\n",
    "df.head(10)\n",
    "\n",
    "sns.histplot(data=df, x=\"wsp\")\n",
    "plt.show()\n",
    "\n",
    "plt.scatter(df['cena'], df['waga'])\n",
    "plt.xlabel('cena')\n",
    "plt.ylabel('waga')\n",
    "plt.show()\n",
    "\n",
    "plt.scatter(df['waga'], df['wsp'])\n",
    "plt.xlabel('waga')\n",
    "plt.ylabel('wsp')\n",
    "plt.show()\n",
    "\n",
    "df = df.reset_index(drop=True)\n",
    "df.head()"
   ]
  },
  {
   "cell_type": "code",
   "execution_count": 2,
   "id": "9d01281b",
   "metadata": {},
   "outputs": [
    {
     "name": "stdout",
     "output_type": "stream",
     "text": [
      "plecak waga 30\n",
      "plecak lista: [[95, 1, 95.0], [94, 1, 94.0], [85, 1, 85.0], [62, 1, 62.0], [54, 1, 54.0], [49, 1, 49.0], [90, 2, 45.0], [45, 1, 45.0], [79, 2, 39.5], [36, 1, 36.0], [93, 3, 31.0], [55, 2, 27.5], [27, 1, 27.0], [72, 3, 24.0], [70, 3, 23.3], [90, 4, 22.5], [12, 1, 12.0], [8, 1, 8.0]]\n"
     ]
    }
   ],
   "source": [
    "plecak = 0\n",
    "plecak_list = []\n",
    "plecak_max = 30\n",
    "items_sorted = sorted(items,key=lambda l:l[2], reverse=True)\n",
    "\n",
    "while plecak <= 30:\n",
    "    no_more_sace = True\n",
    "    for i in items_sorted:\n",
    "        if plecak + i[1] <= plecak_max:\n",
    "            plecak += i[1]\n",
    "            plecak_list.append(i)\n",
    "            items_sorted.remove(i)\n",
    "            break \n",
    "    \n",
    "    for i in items_sorted:\n",
    "        if plecak + i[1] <= plecak_max:\n",
    "            no_more_sace = False\n",
    "            \n",
    "    if no_more_sace == True:\n",
    "        break\n",
    "        \n",
    "\n",
    "print('plecak waga', plecak)\n",
    "print('plecak lista:', plecak_list)"
   ]
  },
  {
   "cell_type": "code",
   "execution_count": 3,
   "id": "744f0c88",
   "metadata": {},
   "outputs": [
    {
     "data": {
      "image/png": "[encoded data removed]",
      "text/plain": [
       "<Figure size 432x288 with 1 Axes>"
      ]
     },
     "metadata": {
      "needs_background": "light"
     },
     "output_type": "display_data"
    },
    {
     "data": {
      "image/png": "[encoded data removed]",
      "text/plain": [
       "<Figure size 432x288 with 1 Axes>"
      ]
     },
     "metadata": {
      "needs_background": "light"
     },
     "output_type": "display_data"
    }
   ],
   "source": [
    "data = {\n",
    "    'cena': [ i[0] for i in plecak_list],\n",
    "    'waga': [ i[1] for i in plecak_list],\n",
    "    'wsp': [ i[2] for i in plecak_list],\n",
    "}\n",
    "\n",
    "df_plecak = pd.DataFrame(data)\n",
    "\n",
    "plt.scatter(df['waga'], df['wsp'])\n",
    "plt.scatter(df_plecak['waga'], df_plecak['wsp'])\n",
    "plt.xlabel('waga')\n",
    "plt.ylabel('wsp')\n",
    "plt.show()\n",
    "\n",
    "plt.scatter(df['cena'], df['waga'])\n",
    "plt.scatter(df_plecak['cena'], df_plecak['waga'])\n",
    "plt.xlabel('cena')\n",
    "plt.ylabel('waga')\n",
    "plt.show()"
   ]
  },
  {
   "cell_type": "code",
   "execution_count": null,
   "id": "b7c2fda7",
   "metadata": {},
   "outputs": [],
   "source": []
  }
 ],
 "metadata": {
  "kernelspec": {
   "display_name": "Python 3 (ipykernel)",
   "language": "python",
   "name": "python3"
  },
  "language_info": {
   "codemirror_mode": {
    "name": "ipython",
    "version": 3
   },
   "file_extension": ".py",
   "mimetype": "text/x-python",
   "name": "python",
   "nbconvert_exporter": "python",
   "pygments_lexer": "ipython3",
   "version": "3.7.11"
  }
 },
 "nbformat": 4,
 "nbformat_minor": 5
}
