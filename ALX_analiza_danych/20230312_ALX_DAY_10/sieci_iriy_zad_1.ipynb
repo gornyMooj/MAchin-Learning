{
 "cells": [
  {
   "cell_type": "code",
   "execution_count": 17,
   "id": "acb93fd1",
   "metadata": {},
   "outputs": [],
   "source": [
    "import pandas as pd\n",
    "import matplotlib.pyplot as plt\n",
    "import random as r"
   ]
  },
  {
   "cell_type": "code",
   "execution_count": 18,
   "id": "3c1ef9ca",
   "metadata": {
    "scrolled": true
   },
   "outputs": [
    {
     "data": {
      "text/html": [
       "<div>\n",
       "<style scoped>\n",
       "    .dataframe tbody tr th:only-of-type {\n",
       "        vertical-align: middle;\n",
       "    }\n",
       "\n",
       "    .dataframe tbody tr th {\n",
       "        vertical-align: top;\n",
       "    }\n",
       "\n",
       "    .dataframe thead th {\n",
       "        text-align: right;\n",
       "    }\n",
       "</style>\n",
       "<table border=\"1\" class=\"dataframe\">\n",
       "  <thead>\n",
       "    <tr style=\"text-align: right;\">\n",
       "      <th></th>\n",
       "      <th>sepal_length</th>\n",
       "      <th>sepal_width</th>\n",
       "      <th>petal_length</th>\n",
       "      <th>petal_width</th>\n",
       "      <th>species</th>\n",
       "    </tr>\n",
       "  </thead>\n",
       "  <tbody>\n",
       "    <tr>\n",
       "      <th>0</th>\n",
       "      <td>5.1</td>\n",
       "      <td>3.5</td>\n",
       "      <td>1.4</td>\n",
       "      <td>0.2</td>\n",
       "      <td>setosa</td>\n",
       "    </tr>\n",
       "    <tr>\n",
       "      <th>1</th>\n",
       "      <td>4.9</td>\n",
       "      <td>3.0</td>\n",
       "      <td>1.4</td>\n",
       "      <td>0.2</td>\n",
       "      <td>setosa</td>\n",
       "    </tr>\n",
       "    <tr>\n",
       "      <th>2</th>\n",
       "      <td>4.7</td>\n",
       "      <td>3.2</td>\n",
       "      <td>1.3</td>\n",
       "      <td>0.2</td>\n",
       "      <td>setosa</td>\n",
       "    </tr>\n",
       "    <tr>\n",
       "      <th>3</th>\n",
       "      <td>4.6</td>\n",
       "      <td>3.1</td>\n",
       "      <td>1.5</td>\n",
       "      <td>0.2</td>\n",
       "      <td>setosa</td>\n",
       "    </tr>\n",
       "    <tr>\n",
       "      <th>4</th>\n",
       "      <td>5.0</td>\n",
       "      <td>3.6</td>\n",
       "      <td>1.4</td>\n",
       "      <td>0.2</td>\n",
       "      <td>setosa</td>\n",
       "    </tr>\n",
       "  </tbody>\n",
       "</table>\n",
       "</div>"
      ],
      "text/plain": [
       "   sepal_length  sepal_width  petal_length  petal_width species\n",
       "0           5.1          3.5           1.4          0.2  setosa\n",
       "1           4.9          3.0           1.4          0.2  setosa\n",
       "2           4.7          3.2           1.3          0.2  setosa\n",
       "3           4.6          3.1           1.5          0.2  setosa\n",
       "4           5.0          3.6           1.4          0.2  setosa"
      ]
     },
     "execution_count": 18,
     "metadata": {},
     "output_type": "execute_result"
    }
   ],
   "source": [
    "df = pd.read_csv('iris.csv')\n",
    "df.head()"
   ]
  },
  {
   "cell_type": "code",
   "execution_count": 19,
   "id": "9314fe51",
   "metadata": {
    "scrolled": false
   },
   "outputs": [
    {
     "data": {
      "text/html": [
       "<div>\n",
       "<style scoped>\n",
       "    .dataframe tbody tr th:only-of-type {\n",
       "        vertical-align: middle;\n",
       "    }\n",
       "\n",
       "    .dataframe tbody tr th {\n",
       "        vertical-align: top;\n",
       "    }\n",
       "\n",
       "    .dataframe thead th {\n",
       "        text-align: right;\n",
       "    }\n",
       "</style>\n",
       "<table border=\"1\" class=\"dataframe\">\n",
       "  <thead>\n",
       "    <tr style=\"text-align: right;\">\n",
       "      <th></th>\n",
       "      <th>sepal_length</th>\n",
       "      <th>sepal_width</th>\n",
       "      <th>petal_length</th>\n",
       "      <th>petal_width</th>\n",
       "    </tr>\n",
       "  </thead>\n",
       "  <tbody>\n",
       "    <tr>\n",
       "      <th>count</th>\n",
       "      <td>150.000000</td>\n",
       "      <td>150.000000</td>\n",
       "      <td>150.000000</td>\n",
       "      <td>150.000000</td>\n",
       "    </tr>\n",
       "    <tr>\n",
       "      <th>mean</th>\n",
       "      <td>5.843333</td>\n",
       "      <td>3.054000</td>\n",
       "      <td>3.758667</td>\n",
       "      <td>1.198667</td>\n",
       "    </tr>\n",
       "    <tr>\n",
       "      <th>std</th>\n",
       "      <td>0.828066</td>\n",
       "      <td>0.433594</td>\n",
       "      <td>1.764420</td>\n",
       "      <td>0.763161</td>\n",
       "    </tr>\n",
       "    <tr>\n",
       "      <th>min</th>\n",
       "      <td>4.300000</td>\n",
       "      <td>2.000000</td>\n",
       "      <td>1.000000</td>\n",
       "      <td>0.100000</td>\n",
       "    </tr>\n",
       "    <tr>\n",
       "      <th>25%</th>\n",
       "      <td>5.100000</td>\n",
       "      <td>2.800000</td>\n",
       "      <td>1.600000</td>\n",
       "      <td>0.300000</td>\n",
       "    </tr>\n",
       "    <tr>\n",
       "      <th>50%</th>\n",
       "      <td>5.800000</td>\n",
       "      <td>3.000000</td>\n",
       "      <td>4.350000</td>\n",
       "      <td>1.300000</td>\n",
       "    </tr>\n",
       "    <tr>\n",
       "      <th>75%</th>\n",
       "      <td>6.400000</td>\n",
       "      <td>3.300000</td>\n",
       "      <td>5.100000</td>\n",
       "      <td>1.800000</td>\n",
       "    </tr>\n",
       "    <tr>\n",
       "      <th>max</th>\n",
       "      <td>7.900000</td>\n",
       "      <td>4.400000</td>\n",
       "      <td>6.900000</td>\n",
       "      <td>2.500000</td>\n",
       "    </tr>\n",
       "  </tbody>\n",
       "</table>\n",
       "</div>"
      ],
      "text/plain": [
       "       sepal_length  sepal_width  petal_length  petal_width\n",
       "count    150.000000   150.000000    150.000000   150.000000\n",
       "mean       5.843333     3.054000      3.758667     1.198667\n",
       "std        0.828066     0.433594      1.764420     0.763161\n",
       "min        4.300000     2.000000      1.000000     0.100000\n",
       "25%        5.100000     2.800000      1.600000     0.300000\n",
       "50%        5.800000     3.000000      4.350000     1.300000\n",
       "75%        6.400000     3.300000      5.100000     1.800000\n",
       "max        7.900000     4.400000      6.900000     2.500000"
      ]
     },
     "execution_count": 19,
     "metadata": {},
     "output_type": "execute_result"
    }
   ],
   "source": [
    "df.describe()"
   ]
  },
  {
   "cell_type": "code",
   "execution_count": 20,
   "id": "03b832ec",
   "metadata": {},
   "outputs": [
    {
     "data": {
      "text/plain": [
       "array(['setosa', 'versicolor', 'virginica'], dtype=object)"
      ]
     },
     "execution_count": 20,
     "metadata": {},
     "output_type": "execute_result"
    }
   ],
   "source": [
    "df['species'].unique()"
   ]
  },
  {
   "cell_type": "code",
   "execution_count": 21,
   "id": "ae33e0a7",
   "metadata": {},
   "outputs": [
    {
     "data": {
      "image/png": "[encoded data removed]",
      "text/plain": [
       "<Figure size 432x288 with 1 Axes>"
      ]
     },
     "metadata": {
      "needs_background": "light"
     },
     "output_type": "display_data"
    }
   ],
   "source": [
    "petal_length = list(df['petal_length'])\n",
    "petal_width = list(df['petal_width'])\n",
    "species = list(df['species'])\n",
    "\n",
    "setosa = df.loc[ df['species']== 'setosa']\n",
    "versicolor = df.loc[ df['species']== 'versicolor']\n",
    "virginica = df.loc[ df['species']== 'virginica']\n",
    "\n",
    "plt.scatter(setosa['petal_length'], setosa['petal_width'], color='green')\n",
    "plt.scatter(versicolor['petal_length'], versicolor['petal_width'], color='black')\n",
    "plt.scatter(virginica['petal_length'], virginica['petal_width'], color='red')\n",
    "\n",
    "plt.grid()\n",
    "plt.show()"
   ]
  },
  {
   "cell_type": "code",
   "execution_count": 25,
   "id": "db2811de",
   "metadata": {},
   "outputs": [
    {
     "name": "stdout",
     "output_type": "stream",
     "text": [
      "petal_length: 1.4, petal_width: 0.2, species: setosa, ocz1: 1, ocz2: 1\n",
      "petal_length: 1.4, petal_width: 0.2, species: setosa, ocz1: 1, ocz2: 1\n",
      "petal_length: 1.3, petal_width: 0.2, species: setosa, ocz1: 1, ocz2: 1\n",
      "petal_length: 1.5, petal_width: 0.2, species: setosa, ocz1: 1, ocz2: 1\n",
      "petal_length: 1.4, petal_width: 0.2, species: setosa, ocz1: 1, ocz2: 1\n"
     ]
    },
    {
     "ename": "KeyboardInterrupt",
     "evalue": "",
     "output_type": "error",
     "traceback": [
      "\u001b[1;31m---------------------------------------------------------------------------\u001b[0m",
      "\u001b[1;31mKeyboardInterrupt\u001b[0m                         Traceback (most recent call last)",
      "\u001b[1;32m~\\AppData\\Local\\Temp/ipykernel_13096/3799551570.py\u001b[0m in \u001b[0;36m<module>\u001b[1;34m\u001b[0m\n\u001b[0;32m     93\u001b[0m         \u001b[0mB1\u001b[0m\u001b[1;33m.\u001b[0m\u001b[0mzaladuj_dana\u001b[0m\u001b[1;33m(\u001b[0m\u001b[0mobs\u001b[0m\u001b[1;33m)\u001b[0m\u001b[1;33m\u001b[0m\u001b[1;33m\u001b[0m\u001b[0m\n\u001b[0;32m     94\u001b[0m         \u001b[0mB1\u001b[0m\u001b[1;33m.\u001b[0m\u001b[0moblicz_NET\u001b[0m\u001b[1;33m(\u001b[0m\u001b[1;33m)\u001b[0m\u001b[1;33m\u001b[0m\u001b[1;33m\u001b[0m\u001b[0m\n\u001b[1;32m---> 95\u001b[1;33m         \u001b[0mB1\u001b[0m\u001b[1;33m.\u001b[0m\u001b[0moblicz_decyzja\u001b[0m\u001b[1;33m(\u001b[0m\u001b[1;33m)\u001b[0m\u001b[1;33m\u001b[0m\u001b[1;33m\u001b[0m\u001b[0m\n\u001b[0m\u001b[0;32m     96\u001b[0m         \u001b[0mB2\u001b[0m\u001b[1;33m.\u001b[0m\u001b[0mzaladuj_dana\u001b[0m\u001b[1;33m(\u001b[0m\u001b[0mobs\u001b[0m\u001b[1;33m)\u001b[0m\u001b[1;33m\u001b[0m\u001b[1;33m\u001b[0m\u001b[0m\n\u001b[0;32m     97\u001b[0m         \u001b[0mB2\u001b[0m\u001b[1;33m.\u001b[0m\u001b[0moblicz_NET\u001b[0m\u001b[1;33m(\u001b[0m\u001b[1;33m)\u001b[0m\u001b[1;33m\u001b[0m\u001b[1;33m\u001b[0m\u001b[0m\n",
      "\u001b[1;32m~\\AppData\\Local\\Temp/ipykernel_13096/3799551570.py\u001b[0m in \u001b[0;36moblicz_decyzja\u001b[1;34m(self)\u001b[0m\n\u001b[0;32m     49\u001b[0m             \u001b[1;32mif\u001b[0m \u001b[0mself\u001b[0m\u001b[1;33m.\u001b[0m\u001b[0mnastawienie_pozytywne\u001b[0m\u001b[1;33m:\u001b[0m\u001b[1;33m\u001b[0m\u001b[1;33m\u001b[0m\u001b[0m\n\u001b[0;32m     50\u001b[0m                 \u001b[1;32mif\u001b[0m \u001b[0mself\u001b[0m\u001b[1;33m.\u001b[0m\u001b[0mnet\u001b[0m \u001b[1;33m>=\u001b[0m \u001b[1;36m0\u001b[0m\u001b[1;33m:\u001b[0m\u001b[1;33m\u001b[0m\u001b[1;33m\u001b[0m\u001b[0m\n\u001b[1;32m---> 51\u001b[1;33m                     \u001b[0mself\u001b[0m\u001b[1;33m.\u001b[0m\u001b[0mdecyzja\u001b[0m \u001b[1;33m=\u001b[0m \u001b[1;36m1\u001b[0m\u001b[1;33m\u001b[0m\u001b[1;33m\u001b[0m\u001b[0m\n\u001b[0m\u001b[0;32m     52\u001b[0m                 \u001b[1;32melse\u001b[0m\u001b[1;33m:\u001b[0m\u001b[1;33m\u001b[0m\u001b[1;33m\u001b[0m\u001b[0m\n\u001b[0;32m     53\u001b[0m                     \u001b[0mself\u001b[0m\u001b[1;33m.\u001b[0m\u001b[0mdecyzja\u001b[0m \u001b[1;33m=\u001b[0m \u001b[1;33m-\u001b[0m\u001b[1;36m1\u001b[0m\u001b[1;33m\u001b[0m\u001b[1;33m\u001b[0m\u001b[0m\n",
      "\u001b[1;31mKeyboardInterrupt\u001b[0m: "
     ]
    }
   ],
   "source": [
    "# petal_length  would be x\n",
    "# petal_width would be y\n",
    "# dwa neurony bipolarne pozytywne\n",
    "\n",
    "class Irysy:\n",
    "    ekstencja = list()\n",
    "    def __init__(self, petal_length, petal_width, species, oczekiwana1, oczekiwana2):\n",
    "        self.petal_length = petal_length\n",
    "        self.petal_width = petal_width\n",
    "        self.species = species\n",
    "        self.oczekiwana1 = oczekiwana1\n",
    "        self.oczekiwana2 = oczekiwana2\n",
    "        Irysy.ekstencja.append(self)\n",
    "        \n",
    "    @classmethod\n",
    "    def import_data(cls, petal_length, petal_width, species):\n",
    "        for i in range(len(species)):\n",
    "            if species[i] == 'setosa':\n",
    "                Irysy(petal_length[i], petal_width[i], species[i], 1,1)\n",
    "            if species[i] == 'versicolor':\n",
    "                Irysy(petal_length[i], petal_width[i], species[i], 1,-1)\n",
    "            if species[i] == 'virginica':\n",
    "                Irysy(petal_length[i], petal_width[i], species[i], -1,-1)\n",
    "        \n",
    "    def __str__(self):\n",
    "        return f'petal_length: {self.petal_length}, petal_width: {self.petal_width}, species: {self.species}, ocz1: {self.oczekiwana1}, ocz2: {self.oczekiwana2}'\n",
    "\n",
    "Irysy.import_data(petal_length, petal_width, species)\n",
    "for obs in Irysy.ekstencja[:5]:\n",
    "    print(obs)\n",
    "    \n",
    "class Neuron:\n",
    "    def __init__(self, rodzaj_neuronu, nastawienie_pozytywne):\n",
    "        self.w1 = r.randint(-2,2)\n",
    "        self.w2 = r.randint(-2, 2)\n",
    "        self.w3 = r.randint(-2,2)\n",
    "        self.rodzaj_neuronu = rodzaj_neuronu\n",
    "        self.nastawienie_pozytywne = nastawienie_pozytywne\n",
    "        self.tempo_uczenia = 1\n",
    " \n",
    "    def zaladuj_dana(self, obserwacja):\n",
    "        self.bierzaca_dana = obserwacja\n",
    " \n",
    "    def oblicz_NET(self):\n",
    "        self.net = self.w1 * self.bierzaca_dana.petal_length + self.w2 * self.bierzaca_dana.petal_width + self.w3 * 1\n",
    " \n",
    "    def oblicz_decyzja(self):\n",
    "        if self.rodzaj_neuronu == 'bi':\n",
    "            if self.nastawienie_pozytywne:\n",
    "                if self.net >= 0:\n",
    "                    self.decyzja = 1\n",
    "                else:\n",
    "                    self.decyzja = -1\n",
    "            else:\n",
    "                if self.net > 0:\n",
    "                    self.decyzja = 1\n",
    "                else:\n",
    "                    self.decyzja = -1\n",
    "        else:\n",
    "            if self.nastawienie_pozytywne:\n",
    "                if self.net >= 0:\n",
    "                    self.decyzja = 1\n",
    "                else:\n",
    "                    self.decyzja = 0\n",
    "            else:\n",
    "                if self.net > 0:\n",
    "                    self.decyzja = 1\n",
    "                else:\n",
    "                    self.decyzja = 0\n",
    " \n",
    "    def korekta_wag(self, oczekiwana):\n",
    "        if oczekiwana == 1:\n",
    "            self.w1 += self.tempo_uczenia * (self.bierzaca_dana.oczekiwana1 - self.decyzja) * self.bierzaca_dana.petal_length\n",
    "            self.w2 += self.tempo_uczenia * (self.bierzaca_dana.oczekiwana1 - self.decyzja) * self.bierzaca_dana.petal_width\n",
    "            self.w3 += self.tempo_uczenia * (self.bierzaca_dana.oczekiwana1 - self.decyzja) * 1\n",
    "        if oczekiwana == 2:\n",
    "            self.w1 += self.tempo_uczenia * (self.bierzaca_dana.oczekiwana2 - self.decyzja) * self.bierzaca_dana.petal_length\n",
    "            self.w2 += self.tempo_uczenia * (self.bierzaca_dana.oczekiwana2 - self.decyzja) * self.bierzaca_dana.petal_width\n",
    "            self.w3 += self.tempo_uczenia * (self.bierzaca_dana.oczekiwana2 - self.decyzja) * 1\n",
    " \n",
    "    def __str__(self):\n",
    "        return f'W1: {self.w1}, W2: {self.w2}, W3: {self.w3}'\n",
    "\n",
    "\n",
    "    \n",
    "B1 = Neuron('bi', True)\n",
    "B2 = Neuron('bi', True)\n",
    "\n",
    "klasyfikacja = 1\n",
    "while klasyfikacja:\n",
    "    klasyfikacja = 0\n",
    "    for obs in Irysy.ekstencja:\n",
    "        B1.zaladuj_dana(obs)\n",
    "        B1.oblicz_NET()\n",
    "        B1.oblicz_decyzja()\n",
    "        B2.zaladuj_dana(obs)\n",
    "        B2.oblicz_NET()\n",
    "        B2.oblicz_decyzja()\n",
    "        \n",
    "        while B1.decyzja != obs.oczekiwana1 or B2.decyzja != obs.oczekiwana2:\n",
    "            klasyfikacja += 1\n",
    "            B1.korekta_wag(1)\n",
    "            B1.oblicz_NET()\n",
    "            B1.oblicz_decyzja()\n",
    "            B2.korekta_wag(2)\n",
    "            B2.oblicz_NET()\n",
    "            B2.oblicz_decyzja()\n",
    "            \n",
    "                \n",
    "print('wagi')   \n",
    "print('B1 wagi ', B1)\n",
    "print('B2 wagi ', B2)"
   ]
  },
  {
   "cell_type": "code",
   "execution_count": null,
   "id": "c85848d7",
   "metadata": {},
   "outputs": [],
   "source": [
    "# array(['setosa', 'versicolor', 'virginica'], dtype=object)\n",
    "dane = {'setosa':[], 'versicolor':[], 'virginica':[]}\n",
    "\n",
    "for obs in Irysy.ekstencja:\n",
    "    if obs.oczekiwana1 == 1 and obs.oczekiwana2 == 1:\n",
    "        dane['setosa'].append([obs., obs.petal_width])\n",
    "    if obs.oczekiwana1 == 1 and obs.oczekiwana2 == -1:\n",
    "        dane['versicolor'].append([obs.petal_length, obs.petal_width])\n",
    "    if obs.oczekiwana1 == -1 and obs.oczekiwana2 == -1:\n",
    "        dane['virginica'].append([obs.petal_length, obs.petal_width])\n",
    "\n",
    "plt.scatter([ x[0] for x in dane['setosa']], [ y[1] for y in dane['setosa']], color='green')\n",
    "plt.scatter([ x[0] for x in dane['versicolor']], [ y[1] for y in dane['versicolor']], color='black')\n",
    "plt.scatter([ x[0] for x in dane['virginica']], [ y[1] for y in dane['virginica']], color='red')\n",
    "\n",
    "\n",
    "\n",
    "plt.grid()\n",
    "plt.show()"
   ]
  },
  {
   "cell_type": "code",
   "execution_count": null,
   "id": "ef2c11b5",
   "metadata": {},
   "outputs": [],
   "source": [
    "dane"
   ]
  },
  {
   "cell_type": "code",
   "execution_count": null,
   "id": "58a67b61",
   "metadata": {},
   "outputs": [],
   "source": [
    "for obs in Irysy.ekstencja:\n",
    "    print(obs)"
   ]
  },
  {
   "cell_type": "code",
   "execution_count": null,
   "id": "3b0e0b23",
   "metadata": {},
   "outputs": [],
   "source": []
  }
 ],
 "metadata": {
  "kernelspec": {
   "display_name": "Python 3 (ipykernel)",
   "language": "python",
   "name": "python3"
  },
  "language_info": {
   "codemirror_mode": {
    "name": "ipython",
    "version": 3
   },
   "file_extension": ".py",
   "mimetype": "text/x-python",
   "name": "python",
   "nbconvert_exporter": "python",
   "pygments_lexer": "ipython3",
   "version": "3.7.11"
  }
 },
 "nbformat": 4,
 "nbformat_minor": 5
}
