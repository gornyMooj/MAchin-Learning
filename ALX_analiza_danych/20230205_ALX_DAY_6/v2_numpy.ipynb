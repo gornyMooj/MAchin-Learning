{
 "cells": [
  {
   "cell_type": "code",
   "execution_count": 1,
   "id": "97cef615",
   "metadata": {},
   "outputs": [],
   "source": [
    "import numpy as np"
   ]
  },
  {
   "cell_type": "code",
   "execution_count": 2,
   "id": "5c9aef0d",
   "metadata": {},
   "outputs": [
    {
     "data": {
      "text/plain": [
       "array([1, 2, 3, 4, 5, 6, 7, 8, 9])"
      ]
     },
     "execution_count": 2,
     "metadata": {},
     "output_type": "execute_result"
    }
   ],
   "source": [
    "# arrays\n",
    "tablica = np.array([1,2,3,4,5,6,7,8,9])\n",
    "tablica"
   ]
  },
  {
   "cell_type": "code",
   "execution_count": 3,
   "id": "945e6023",
   "metadata": {},
   "outputs": [
    {
     "data": {
      "text/plain": [
       "array(2)"
      ]
     },
     "execution_count": 3,
     "metadata": {},
     "output_type": "execute_result"
    }
   ],
   "source": [
    "# tablica zerowymiarowa\n",
    "tablica0D = np.array(2)\n",
    "tablica0D"
   ]
  },
  {
   "cell_type": "code",
   "execution_count": 4,
   "id": "2db13285",
   "metadata": {},
   "outputs": [
    {
     "name": "stdout",
     "output_type": "stream",
     "text": [
      "0\n",
      "1\n"
     ]
    }
   ],
   "source": [
    "# check dimensions\n",
    "print(tablica0D.ndim)\n",
    "print(tablica.ndim)"
   ]
  },
  {
   "cell_type": "code",
   "execution_count": 5,
   "id": "095a2ae4",
   "metadata": {},
   "outputs": [
    {
     "data": {
      "text/plain": [
       "array([[1, 2, 3]])"
      ]
     },
     "execution_count": 5,
     "metadata": {},
     "output_type": "execute_result"
    }
   ],
   "source": [
    "# creating 2d array \n",
    "np.array([1, 2, 3], ndmin=2)"
   ]
  },
  {
   "cell_type": "code",
   "execution_count": 6,
   "id": "8d02bdad",
   "metadata": {},
   "outputs": [
    {
     "name": "stdout",
     "output_type": "stream",
     "text": [
      "2\n"
     ]
    },
    {
     "data": {
      "text/plain": [
       "array([[1, 2, 3],\n",
       "       [4, 5, 6]])"
      ]
     },
     "execution_count": 6,
     "metadata": {},
     "output_type": "execute_result"
    }
   ],
   "source": [
    "# 2d array\n",
    "tablica2d = np.array([[1,2,3], [4,5,6]])\n",
    "print(tablica2d.ndim)\n",
    "tablica2d"
   ]
  },
  {
   "cell_type": "code",
   "execution_count": 7,
   "id": "d9be7be0",
   "metadata": {},
   "outputs": [
    {
     "name": "stdout",
     "output_type": "stream",
     "text": [
      "1\n"
     ]
    },
    {
     "name": "stderr",
     "output_type": "stream",
     "text": [
      "C:\\Users\\Ukasz\\Anaconda3\\envs\\geopandas\\lib\\site-packages\\ipykernel_launcher.py:2: VisibleDeprecationWarning: Creating an ndarray from ragged nested sequences (which is a list-or-tuple of lists-or-tuples-or ndarrays with different lengths or shapes) is deprecated. If you meant to do this, you must specify 'dtype=object' when creating the ndarray.\n",
      "  \n"
     ]
    },
    {
     "data": {
      "text/plain": [
       "array([list([1, 2, 3]), list([4, 3])], dtype=object)"
      ]
     },
     "execution_count": 7,
     "metadata": {},
     "output_type": "execute_result"
    }
   ],
   "source": [
    "# 2d - would work in python but in numpy not\n",
    "tablica2d = np.array([[1,2,3], [4,3]])\n",
    "print(tablica2d.ndim)\n",
    "tablica2d"
   ]
  },
  {
   "cell_type": "code",
   "execution_count": 8,
   "id": "8944b94d",
   "metadata": {},
   "outputs": [
    {
     "data": {
      "text/plain": [
       "array([1., 1., 1., 1., 1., 1., 1., 1.])"
      ]
     },
     "execution_count": 8,
     "metadata": {},
     "output_type": "execute_result"
    }
   ],
   "source": [
    "# tablica tylko z 0\n",
    "tablica = np.ones(8)\n",
    "tablica"
   ]
  },
  {
   "cell_type": "code",
   "execution_count": 9,
   "id": "8f32b679",
   "metadata": {},
   "outputs": [
    {
     "data": {
      "text/plain": [
       "array([0, 1, 2, 3, 4])"
      ]
     },
     "execution_count": 9,
     "metadata": {},
     "output_type": "execute_result"
    }
   ],
   "source": [
    "# range in numpy\n",
    "t = np.arange(5)\n",
    "t"
   ]
  },
  {
   "cell_type": "code",
   "execution_count": 10,
   "id": "29894b61",
   "metadata": {},
   "outputs": [
    {
     "data": {
      "text/plain": [
       "array([5, 6, 7, 8, 9])"
      ]
     },
     "execution_count": 10,
     "metadata": {},
     "output_type": "execute_result"
    }
   ],
   "source": [
    "# range in numpy\n",
    "np.arange(5, 10)"
   ]
  },
  {
   "cell_type": "code",
   "execution_count": 11,
   "id": "6c78e231",
   "metadata": {},
   "outputs": [
    {
     "data": {
      "text/plain": [
       "array([ 0,  2,  4,  6,  8, 10])"
      ]
     },
     "execution_count": 11,
     "metadata": {},
     "output_type": "execute_result"
    }
   ],
   "source": [
    "np.arange(0, 11,2)"
   ]
  },
  {
   "cell_type": "code",
   "execution_count": 12,
   "id": "1fc7d444",
   "metadata": {},
   "outputs": [
    {
     "data": {
      "text/plain": [
       "array([  0.,  25.,  50.,  75., 100.])"
      ]
     },
     "execution_count": 12,
     "metadata": {},
     "output_type": "execute_result"
    }
   ],
   "source": [
    "# linespace = rozklad -  rozklada po rowno wartosci w przedziale 5 na 100 elementow\n",
    "tablica = np.linspace(0, 100, num=5)\n",
    "tablica"
   ]
  },
  {
   "cell_type": "code",
   "execution_count": 13,
   "id": "10707b92",
   "metadata": {},
   "outputs": [
    {
     "data": {
      "text/plain": [
       "1"
      ]
     },
     "execution_count": 13,
     "metadata": {},
     "output_type": "execute_result"
    }
   ],
   "source": [
    "tablica = np.array([1,2,3,4,5,6,7,8,9])\n",
    "tablica[0]"
   ]
  },
  {
   "cell_type": "code",
   "execution_count": 14,
   "id": "7bc20638",
   "metadata": {},
   "outputs": [
    {
     "name": "stdout",
     "output_type": "stream",
     "text": [
      "[1 2 3]\n"
     ]
    },
    {
     "data": {
      "text/plain": [
       "1"
      ]
     },
     "execution_count": 14,
     "metadata": {},
     "output_type": "execute_result"
    }
   ],
   "source": [
    "# 2d array\n",
    "tablica2d = np.array([[1,2,3], [4,5,6]])\n",
    "print(tablica2d[0])\n",
    "tablica2d[0][0]"
   ]
  },
  {
   "cell_type": "markdown",
   "id": "ed904f03",
   "metadata": {},
   "source": [
    "#### slicing"
   ]
  },
  {
   "cell_type": "code",
   "execution_count": 15,
   "id": "f297e75b",
   "metadata": {},
   "outputs": [
    {
     "data": {
      "text/plain": [
       "array([1, 2])"
      ]
     },
     "execution_count": 15,
     "metadata": {},
     "output_type": "execute_result"
    }
   ],
   "source": [
    "# slicing\n",
    "tablica[:2]"
   ]
  },
  {
   "cell_type": "code",
   "execution_count": 16,
   "id": "9bfdf3d6",
   "metadata": {},
   "outputs": [
    {
     "data": {
      "text/plain": [
       "array([1, 3, 5, 7])"
      ]
     },
     "execution_count": 16,
     "metadata": {},
     "output_type": "execute_result"
    }
   ],
   "source": [
    "# slicing from to every 2\n",
    "tablica[0:8:2]"
   ]
  },
  {
   "cell_type": "code",
   "execution_count": 17,
   "id": "b4579fa6",
   "metadata": {},
   "outputs": [
    {
     "data": {
      "text/plain": [
       "array([1, 3, 5, 7, 9])"
      ]
     },
     "execution_count": 17,
     "metadata": {},
     "output_type": "execute_result"
    }
   ],
   "source": [
    "# slicing from to every 2\n",
    "tablica[::2]"
   ]
  },
  {
   "cell_type": "code",
   "execution_count": 18,
   "id": "184d8fc7",
   "metadata": {},
   "outputs": [
    {
     "data": {
      "text/plain": [
       "array([9, 8, 7, 6, 5, 4, 3, 2, 1])"
      ]
     },
     "execution_count": 18,
     "metadata": {},
     "output_type": "execute_result"
    }
   ],
   "source": [
    "tablica[::-1]"
   ]
  },
  {
   "cell_type": "code",
   "execution_count": 19,
   "id": "ee22b7ba",
   "metadata": {},
   "outputs": [
    {
     "data": {
      "text/plain": [
       "[9, 8, 7, 6, 5, 4, 3, 2, 1]"
      ]
     },
     "execution_count": 19,
     "metadata": {},
     "output_type": "execute_result"
    }
   ],
   "source": [
    "list(tablica)[::-1]"
   ]
  },
  {
   "cell_type": "code",
   "execution_count": 20,
   "id": "143e0a67",
   "metadata": {},
   "outputs": [
    {
     "name": "stdout",
     "output_type": "stream",
     "text": [
      "[4 5]\n",
      "[3 6]\n",
      "[[1 2]\n",
      " [4 5]]\n"
     ]
    }
   ],
   "source": [
    "tablica2d = np.array([[1,2,3,11,22,33], [4,5,6,44,55,66]])\n",
    "print(tablica2d[1,:2])\n",
    "print(tablica2d[:,2])  # z obu wymiarow wez element o indeksie 2\n",
    "print(tablica2d[0:2,0:2])  # wytnj lewy gorny rog 2 x 2"
   ]
  },
  {
   "cell_type": "markdown",
   "id": "5fa4cf8f",
   "metadata": {},
   "source": [
    "types"
   ]
  },
  {
   "cell_type": "code",
   "execution_count": 21,
   "id": "485ca430",
   "metadata": {},
   "outputs": [],
   "source": [
    "# i - int, b - bool, f - float, M - datetime, \n",
    "# O - object, S - string\n",
    "# U - unicode String"
   ]
  },
  {
   "cell_type": "code",
   "execution_count": 22,
   "id": "c7009e0a",
   "metadata": {},
   "outputs": [
    {
     "data": {
      "text/plain": [
       "dtype('<U8')"
      ]
     },
     "execution_count": 22,
     "metadata": {},
     "output_type": "execute_result"
    }
   ],
   "source": [
    "tablica = np.array(['bmw', 'audi', 'mercedes'])\n",
    "tablica.dtype # checks dtype"
   ]
  },
  {
   "cell_type": "code",
   "execution_count": 23,
   "id": "d5cd57b0",
   "metadata": {},
   "outputs": [],
   "source": [
    "# <U8   - means - unicode less than 8 bites"
   ]
  },
  {
   "cell_type": "code",
   "execution_count": 24,
   "id": "9c23648d",
   "metadata": {},
   "outputs": [
    {
     "name": "stdout",
     "output_type": "stream",
     "text": [
      "0 \u0000\n",
      "1 \u0001\n",
      "2 \u0002\n",
      "3 \u0003\n",
      "4 \u0004\n",
      "5 \u0005\n",
      "6 \u0006\n",
      "7 \u0007\n",
      "8\n",
      "9 \t\n",
      "10 \n",
      "\n",
      "11 \u000b",
      "\n",
      "12 \f",
      "\n",
      "13 \n",
      "14 \u000e\n",
      "15 \u000f\n",
      "16 \u0010\n",
      "17 \u0011\n",
      "18 \u0012\n",
      "19 \u0013\n",
      "20 \u0014\n",
      "21 \u0015\n",
      "22 \u0016\n",
      "23 \u0017\n",
      "24 \u0018\n",
      "25 \u0019\n",
      "26 \u001a\n",
      "27 \u001b\n",
      "28 \u001c",
      "\n",
      "29 \u001d",
      "\n",
      "30 \u001e",
      "\n",
      "31 \u001f\n",
      "32  \n",
      "33 !\n",
      "34 \"\n",
      "35 #\n",
      "36 $\n",
      "37 %\n",
      "38 &\n",
      "39 '\n",
      "40 (\n",
      "41 )\n",
      "42 *\n",
      "43 +\n",
      "44 ,\n",
      "45 -\n",
      "46 .\n",
      "47 /\n",
      "48 0\n",
      "49 1\n",
      "50 2\n",
      "51 3\n",
      "52 4\n",
      "53 5\n",
      "54 6\n",
      "55 7\n",
      "56 8\n",
      "57 9\n",
      "58 :\n",
      "59 ;\n",
      "60 <\n",
      "61 =\n",
      "62 >\n",
      "63 ?\n",
      "64 @\n",
      "65 A\n",
      "66 B\n",
      "67 C\n",
      "68 D\n",
      "69 E\n",
      "70 F\n",
      "71 G\n",
      "72 H\n",
      "73 I\n",
      "74 J\n",
      "75 K\n",
      "76 L\n",
      "77 M\n",
      "78 N\n",
      "79 O\n",
      "80 P\n",
      "81 Q\n",
      "82 R\n",
      "83 S\n",
      "84 T\n",
      "85 U\n",
      "86 V\n",
      "87 W\n",
      "88 X\n",
      "89 Y\n",
      "90 Z\n",
      "91 [\n",
      "92 \\\n",
      "93 ]\n",
      "94 ^\n",
      "95 _\n",
      "96 `\n",
      "97 a\n",
      "98 b\n",
      "99 c\n",
      "100 d\n",
      "101 e\n",
      "102 f\n",
      "103 g\n",
      "104 h\n",
      "105 i\n",
      "106 j\n",
      "107 k\n",
      "108 l\n",
      "109 m\n",
      "110 n\n",
      "111 o\n",
      "112 p\n",
      "113 q\n",
      "114 r\n",
      "115 s\n",
      "116 t\n",
      "117 u\n",
      "118 v\n",
      "119 w\n",
      "120 x\n",
      "121 y\n",
      "122 z\n",
      "123 {\n",
      "124 |\n",
      "125 }\n",
      "126 ~\n",
      "127 \n",
      "128 \n",
      "129 \n",
      "130 \n",
      "131 \n",
      "132 \n",
      "133 ",
      "\n",
      "134 \n",
      "135 \n",
      "136 \n",
      "137 \n",
      "138 \n",
      "139 \n",
      "140 \n",
      "141 \n",
      "142 \n",
      "143 \n",
      "144 \n",
      "145 \n",
      "146 \n",
      "147 \n",
      "148 \n",
      "149 \n",
      "150 \n",
      "151 \n",
      "152 \n",
      "153 \n",
      "154 \n",
      "155 \n",
      "156 \n",
      "157 \n",
      "158 \n",
      "159 \n",
      "160  \n",
      "161 ¡\n",
      "162 ¢\n",
      "163 £\n",
      "164 ¤\n",
      "165 ¥\n",
      "166 ¦\n",
      "167 §\n",
      "168 ¨\n",
      "169 ©\n",
      "170 ª\n",
      "171 «\n",
      "172 ¬\n",
      "173 ­\n",
      "174 ®\n",
      "175 ¯\n",
      "176 °\n",
      "177 ±\n",
      "178 ²\n",
      "179 ³\n",
      "180 ´\n",
      "181 µ\n",
      "182 ¶\n",
      "183 ·\n",
      "184 ¸\n",
      "185 ¹\n",
      "186 º\n",
      "187 »\n",
      "188 ¼\n",
      "189 ½\n",
      "190 ¾\n",
      "191 ¿\n",
      "192 À\n",
      "193 Á\n",
      "194 Â\n",
      "195 Ã\n",
      "196 Ä\n",
      "197 Å\n",
      "198 Æ\n",
      "199 Ç\n",
      "200 È\n",
      "201 É\n",
      "202 Ê\n",
      "203 Ë\n",
      "204 Ì\n",
      "205 Í\n",
      "206 Î\n",
      "207 Ï\n",
      "208 Ð\n",
      "209 Ñ\n",
      "210 Ò\n",
      "211 Ó\n",
      "212 Ô\n",
      "213 Õ\n",
      "214 Ö\n",
      "215 ×\n",
      "216 Ø\n",
      "217 Ù\n",
      "218 Ú\n",
      "219 Û\n",
      "220 Ü\n",
      "221 Ý\n",
      "222 Þ\n",
      "223 ß\n",
      "224 à\n",
      "225 á\n",
      "226 â\n",
      "227 ã\n",
      "228 ä\n",
      "229 å\n",
      "230 æ\n",
      "231 ç\n",
      "232 è\n",
      "233 é\n",
      "234 ê\n",
      "235 ë\n",
      "236 ì\n",
      "237 í\n",
      "238 î\n",
      "239 ï\n",
      "240 ð\n",
      "241 ñ\n",
      "242 ò\n",
      "243 ó\n",
      "244 ô\n",
      "245 õ\n",
      "246 ö\n",
      "247 ÷\n",
      "248 ø\n",
      "249 ù\n",
      "250 ú\n",
      "251 û\n",
      "252 ü\n",
      "253 ý\n",
      "254 þ\n"
     ]
    }
   ],
   "source": [
    "# https://www.fileformat.info/info/charset/UTF-32/list.htm?start=3072\n",
    "val = 255\n",
    "for i in range(val):\n",
    "    print(i, chr(i))\n"
   ]
  },
  {
   "cell_type": "code",
   "execution_count": 25,
   "id": "d6ebc6d7",
   "metadata": {},
   "outputs": [
    {
     "name": "stdout",
     "output_type": "stream",
     "text": [
      "á\n",
      "223\n"
     ]
    }
   ],
   "source": [
    "var = 225\n",
    "print(chr(var))\n",
    "var2 = 'ß'\n",
    "print(ord(var2))\n"
   ]
  },
  {
   "cell_type": "code",
   "execution_count": 26,
   "id": "f1d33fcd",
   "metadata": {},
   "outputs": [
    {
     "name": "stdout",
     "output_type": "stream",
     "text": [
      "['1' '2' '3' '4' '5' '6' '7']\n",
      "<U1\n"
     ]
    }
   ],
   "source": [
    "tablica = np.array([1,2,3,4,5,6,7], dtype='U')\n",
    "print(tablica)\n",
    "print(tablica.dtype)"
   ]
  },
  {
   "cell_type": "code",
   "execution_count": 27,
   "id": "34fdab69",
   "metadata": {},
   "outputs": [
    {
     "name": "stdout",
     "output_type": "stream",
     "text": [
      "[5 5 6] int32\n"
     ]
    }
   ],
   "source": [
    "arr = np.array([5.122,5.7899,6.788])\n",
    "arr = arr.astype('i')\n",
    "print(arr, arr.dtype)"
   ]
  },
  {
   "cell_type": "code",
   "execution_count": 28,
   "id": "9c052945",
   "metadata": {},
   "outputs": [
    {
     "name": "stdout",
     "output_type": "stream",
     "text": [
      "[ True  True  True] bool\n"
     ]
    }
   ],
   "source": [
    "# boolean will check for us \n",
    "arr = arr.astype('bool')\n",
    "print(arr, arr.dtype)"
   ]
  },
  {
   "cell_type": "markdown",
   "id": "f5e69d84",
   "metadata": {},
   "source": [
    "#### copy and view"
   ]
  },
  {
   "cell_type": "code",
   "execution_count": 29,
   "id": "438e5525",
   "metadata": {},
   "outputs": [
    {
     "name": "stdout",
     "output_type": "stream",
     "text": [
      "[  1 100   3   4   5   6   7]\n",
      "[  1 100   3   4   5   6   7]\n"
     ]
    }
   ],
   "source": [
    "tablica = np.array([1,2,3,4,5,6,7])\n",
    "kopia = tablica\n",
    "\n",
    "tablica[1] = 100\n",
    "\n",
    "print(tablica)\n",
    "print(kopia)"
   ]
  },
  {
   "cell_type": "code",
   "execution_count": 30,
   "id": "a6d99419",
   "metadata": {},
   "outputs": [
    {
     "name": "stdout",
     "output_type": "stream",
     "text": [
      "[  1 100   3   4   5   6   7]\n",
      "[1 2 3 4 5 6 7]\n"
     ]
    }
   ],
   "source": [
    "tablica = np.array([1,2,3,4,5,6,7])\n",
    "kopia = tablica.copy() # kopia zawartosci do nowej pamieci\n",
    "\n",
    "tablica[1] = 100\n",
    "\n",
    "print(tablica)\n",
    "print(kopia)"
   ]
  },
  {
   "cell_type": "code",
   "execution_count": 31,
   "id": "bbe11aa0",
   "metadata": {},
   "outputs": [
    {
     "name": "stdout",
     "output_type": "stream",
     "text": [
      "[  1 100   3   4   5   6   7]\n",
      "[  1 100   3   4   5   6   7]\n"
     ]
    }
   ],
   "source": [
    "tablica = np.array([1,2,3,4,5,6,7])\n",
    "kopia = tablica.view()  # kopia referencji do orginalu\n",
    "\n",
    "tablica[1] = 100\n",
    "\n",
    "print(tablica)\n",
    "print(kopia)"
   ]
  },
  {
   "cell_type": "markdown",
   "id": "ae76d0e1",
   "metadata": {},
   "source": [
    "#### shape"
   ]
  },
  {
   "cell_type": "code",
   "execution_count": 32,
   "id": "25c53de3",
   "metadata": {},
   "outputs": [
    {
     "data": {
      "text/plain": [
       "(2, 6)"
      ]
     },
     "execution_count": 32,
     "metadata": {},
     "output_type": "execute_result"
    }
   ],
   "source": [
    "tablica2d = np.array([[1,2,3,11,22,33], [4,5,6,44,55,66]])\n",
    "tablica2d.shape  # returns 2 columns and 6 elements"
   ]
  },
  {
   "cell_type": "code",
   "execution_count": 33,
   "id": "91652584",
   "metadata": {},
   "outputs": [
    {
     "data": {
      "text/plain": [
       "array([[[1, 2],\n",
       "        [3, 4]],\n",
       "\n",
       "       [[5, 6],\n",
       "        [7, 8]]])"
      ]
     },
     "execution_count": 33,
     "metadata": {},
     "output_type": "execute_result"
    }
   ],
   "source": [
    "# 1d to 3d array\n",
    "tablica = np.array([1,2,3,4,5,6,7,8])\n",
    "tablica.reshape(2,2,2)"
   ]
  },
  {
   "cell_type": "code",
   "execution_count": 34,
   "id": "35753aa3",
   "metadata": {},
   "outputs": [
    {
     "name": "stdout",
     "output_type": "stream",
     "text": [
      "[1 2 3 4]\n",
      "[5 6 7 8]\n"
     ]
    }
   ],
   "source": [
    "for i in tablica.reshape(2,4):\n",
    "    print (i)"
   ]
  },
  {
   "cell_type": "code",
   "execution_count": 35,
   "id": "cbef5453",
   "metadata": {},
   "outputs": [
    {
     "name": "stdout",
     "output_type": "stream",
     "text": [
      "1\n",
      "2\n",
      "3\n",
      "11\n",
      "22\n",
      "33\n",
      "4\n",
      "5\n",
      "6\n",
      "44\n",
      "55\n",
      "66\n"
     ]
    }
   ],
   "source": [
    "tablica2d = np.array([[1,2,3,11,22,33], [4,5,6,44,55,66]])\n",
    "\n",
    "# goes through every element in each nested array\n",
    "# dowolna plaszczyzna\n",
    "for e in np.nditer(tablica2d):\n",
    "    print(e)"
   ]
  },
  {
   "cell_type": "code",
   "execution_count": 36,
   "id": "998e42c5",
   "metadata": {},
   "outputs": [
    {
     "name": "stdout",
     "output_type": "stream",
     "text": [
      "(0, 0) 1\n",
      "(0, 1) 2\n",
      "(0, 2) 3\n",
      "(0, 3) 11\n",
      "(0, 4) 22\n",
      "(0, 5) 33\n",
      "(1, 0) 4\n",
      "(1, 1) 5\n",
      "(1, 2) 6\n",
      "(1, 3) 44\n",
      "(1, 4) 55\n",
      "(1, 5) 66\n"
     ]
    }
   ],
   "source": [
    "tablica2d = np.array([[1,2,3,11,22,33], [4,5,6,44,55,66]])\n",
    "\n",
    "for nr, e in np.ndenumerate(tablica2d):\n",
    "    print(nr, e)"
   ]
  },
  {
   "cell_type": "code",
   "execution_count": 37,
   "id": "32ed2e95",
   "metadata": {},
   "outputs": [
    {
     "data": {
      "text/plain": [
       "array([1, 2, 9, 8, 7, 6])"
      ]
     },
     "execution_count": 37,
     "metadata": {},
     "output_type": "execute_result"
    }
   ],
   "source": [
    "t1 = np.array([1,2,9])\n",
    "t2 = np.array([8,7,6])\n",
    "\n",
    "tablica = np.concatenate((t1, t2))\n",
    "tablica"
   ]
  },
  {
   "cell_type": "code",
   "execution_count": 38,
   "id": "55f98e84",
   "metadata": {},
   "outputs": [
    {
     "name": "stdout",
     "output_type": "stream",
     "text": [
      "(2, 4)\n"
     ]
    },
    {
     "data": {
      "text/plain": [
       "array([[1, 2, 5, 6],\n",
       "       [3, 4, 7, 8]])"
      ]
     },
     "execution_count": 38,
     "metadata": {},
     "output_type": "execute_result"
    }
   ],
   "source": [
    "t1 = np.array([[1,2], [3,4]])\n",
    "t2 = np.array([[5,6], [7,8]])\n",
    "\n",
    "# os pozioma (row) to 0, os pionowa to 1 (column)\n",
    "tablica = np.concatenate((t1, t2), axis=1)\n",
    "print(tablica.shape)\n",
    "tablica"
   ]
  },
  {
   "cell_type": "code",
   "execution_count": 39,
   "id": "04761adf",
   "metadata": {},
   "outputs": [
    {
     "name": "stdout",
     "output_type": "stream",
     "text": [
      "(4, 2)\n"
     ]
    },
    {
     "data": {
      "text/plain": [
       "array([[1, 2],\n",
       "       [3, 4],\n",
       "       [5, 6],\n",
       "       [7, 8]])"
      ]
     },
     "execution_count": 39,
     "metadata": {},
     "output_type": "execute_result"
    }
   ],
   "source": [
    "t1 = np.array([[1,2], [3,4]])\n",
    "t2 = np.array([[5,6], [7,8]])\n",
    "\n",
    "# os pozioma (row) to 0, os pionowa to 1 (column)\n",
    "tablica = np.concatenate((t1, t2), axis=0)\n",
    "print(tablica.shape)\n",
    "tablica"
   ]
  },
  {
   "cell_type": "markdown",
   "id": "8f7020b4",
   "metadata": {},
   "source": [
    "#### nalozenia"
   ]
  },
  {
   "cell_type": "code",
   "execution_count": 40,
   "id": "deec1f0c",
   "metadata": {},
   "outputs": [
    {
     "name": "stdout",
     "output_type": "stream",
     "text": [
      "2\n"
     ]
    },
    {
     "data": {
      "text/plain": [
       "array([[1, 2, 9],\n",
       "       [8, 7, 6]])"
      ]
     },
     "execution_count": 40,
     "metadata": {},
     "output_type": "execute_result"
    }
   ],
   "source": [
    "t1 = np.array([1,2,9])\n",
    "t2 = np.array([8,7,6])\n",
    "\n",
    "tablica = np.stack((t1,t2), axis=0) # rows\n",
    "print(tablica.ndim)\n",
    "tablica"
   ]
  },
  {
   "cell_type": "code",
   "execution_count": 41,
   "id": "2b9f6398",
   "metadata": {},
   "outputs": [
    {
     "name": "stdout",
     "output_type": "stream",
     "text": [
      "2\n"
     ]
    },
    {
     "data": {
      "text/plain": [
       "array([[1, 8],\n",
       "       [2, 7],\n",
       "       [9, 6]])"
      ]
     },
     "execution_count": 41,
     "metadata": {},
     "output_type": "execute_result"
    }
   ],
   "source": [
    "t1 = np.array([1,2,9])\n",
    "t2 = np.array([8,7,6])\n",
    "\n",
    "tablica = np.stack((t1,t2), axis=1) # columns\n",
    "print(tablica.ndim)\n",
    "tablica"
   ]
  },
  {
   "cell_type": "code",
   "execution_count": 42,
   "id": "808927d5",
   "metadata": {},
   "outputs": [
    {
     "name": "stdout",
     "output_type": "stream",
     "text": [
      "1\n"
     ]
    },
    {
     "data": {
      "text/plain": [
       "array([1, 2, 9, 8, 7, 6])"
      ]
     },
     "execution_count": 42,
     "metadata": {},
     "output_type": "execute_result"
    }
   ],
   "source": [
    "t1 = np.array([1,2,9])\n",
    "t2 = np.array([8,7,6])\n",
    "\n",
    "tablica = np.hstack((t1,t2)) # row\n",
    "print(tablica.ndim)\n",
    "tablica"
   ]
  },
  {
   "cell_type": "code",
   "execution_count": 43,
   "id": "fa87b4aa",
   "metadata": {},
   "outputs": [
    {
     "name": "stdout",
     "output_type": "stream",
     "text": [
      "2\n"
     ]
    },
    {
     "data": {
      "text/plain": [
       "array([[1, 2, 9],\n",
       "       [8, 7, 6]])"
      ]
     },
     "execution_count": 43,
     "metadata": {},
     "output_type": "execute_result"
    }
   ],
   "source": [
    "t1 = np.array([1,2,9])\n",
    "t2 = np.array([8,7,6])\n",
    "\n",
    "tablica = np.vstack((t1,t2)) # columns\n",
    "print(tablica.ndim)\n",
    "tablica"
   ]
  },
  {
   "cell_type": "code",
   "execution_count": 44,
   "id": "f9f04935",
   "metadata": {},
   "outputs": [
    {
     "data": {
      "text/plain": [
       "[array([1, 2, 9]), array([3, 4]), array([5, 6])]"
      ]
     },
     "execution_count": 44,
     "metadata": {},
     "output_type": "execute_result"
    }
   ],
   "source": [
    "t1 = np.array([1,2,9,3,4,5,6])\n",
    "np.array_split(t1,3)"
   ]
  },
  {
   "cell_type": "markdown",
   "id": "9ec2f82d",
   "metadata": {},
   "source": [
    "#### WHERE"
   ]
  },
  {
   "cell_type": "code",
   "execution_count": 45,
   "id": "7aafffd4",
   "metadata": {},
   "outputs": [
    {
     "data": {
      "text/plain": [
       "(array([1, 6], dtype=int64),)"
      ]
     },
     "execution_count": 45,
     "metadata": {},
     "output_type": "execute_result"
    }
   ],
   "source": [
    "t1 = np.array([1,2,9,3,4,5,2])\n",
    "np.where(t1 == 2)  # returns indexes"
   ]
  },
  {
   "cell_type": "code",
   "execution_count": 46,
   "id": "44fbfe6e",
   "metadata": {},
   "outputs": [
    {
     "data": {
      "text/plain": [
       "(array([0, 1], dtype=int64), array([1, 1], dtype=int64))"
      ]
     },
     "execution_count": 46,
     "metadata": {},
     "output_type": "execute_result"
    }
   ],
   "source": [
    "# 2d array\n",
    "tablica2d = np.array([[1,2,3], [4,2,6]])\n",
    "np.where(tablica2d == 2)  # returns indexes"
   ]
  },
  {
   "cell_type": "code",
   "execution_count": 47,
   "id": "7f7eb0cc",
   "metadata": {},
   "outputs": [
    {
     "data": {
      "text/plain": [
       "2"
      ]
     },
     "execution_count": 47,
     "metadata": {},
     "output_type": "execute_result"
    }
   ],
   "source": [
    "tablica2d[0, 1]"
   ]
  },
  {
   "cell_type": "code",
   "execution_count": 48,
   "id": "940e0740",
   "metadata": {},
   "outputs": [
    {
     "data": {
      "text/plain": [
       "2"
      ]
     },
     "execution_count": 48,
     "metadata": {},
     "output_type": "execute_result"
    }
   ],
   "source": [
    "tablica2d[1, 1]"
   ]
  },
  {
   "cell_type": "code",
   "execution_count": 49,
   "id": "f84c876b",
   "metadata": {},
   "outputs": [
    {
     "data": {
      "text/plain": [
       "tuple"
      ]
     },
     "execution_count": 49,
     "metadata": {},
     "output_type": "execute_result"
    }
   ],
   "source": [
    "ind = np.where(tablica2d == 2)  # returns indexes\n",
    "type(ind)"
   ]
  },
  {
   "cell_type": "code",
   "execution_count": 50,
   "id": "a0675214",
   "metadata": {},
   "outputs": [
    {
     "data": {
      "text/plain": [
       "array([0, 1], dtype=int64)"
      ]
     },
     "execution_count": 50,
     "metadata": {},
     "output_type": "execute_result"
    }
   ],
   "source": [
    "ind[0]"
   ]
  },
  {
   "cell_type": "markdown",
   "id": "c7006dbd",
   "metadata": {},
   "source": [
    "#### sort"
   ]
  },
  {
   "cell_type": "code",
   "execution_count": 51,
   "id": "8a92c1b1",
   "metadata": {},
   "outputs": [
    {
     "data": {
      "text/plain": [
       "array([[ 5, 33, 88],\n",
       "       [16, 66, 72]])"
      ]
     },
     "execution_count": 51,
     "metadata": {},
     "output_type": "execute_result"
    }
   ],
   "source": [
    "tablica2d = np.array([[33,5,88], [66,72,16]])\n",
    "np.sort(tablica2d)"
   ]
  },
  {
   "cell_type": "markdown",
   "id": "1a606ea7",
   "metadata": {},
   "source": [
    "#### filtr"
   ]
  },
  {
   "cell_type": "code",
   "execution_count": 52,
   "id": "2b66612f",
   "metadata": {},
   "outputs": [
    {
     "name": "stdout",
     "output_type": "stream",
     "text": [
      "[1 3 6]\n"
     ]
    }
   ],
   "source": [
    "filtr = [True, False, True, False, False, True]\n",
    "tablica = np.array([1,2,3,4,5,6])\n",
    "print(tablica[filtr])"
   ]
  },
  {
   "cell_type": "code",
   "execution_count": 53,
   "id": "c0787beb",
   "metadata": {},
   "outputs": [
    {
     "name": "stdout",
     "output_type": "stream",
     "text": [
      "[2 4 6]\n"
     ]
    }
   ],
   "source": [
    "# filtr only even\n",
    "filtr = tablica % 2 == 0\n",
    "print(tablica[filtr])"
   ]
  },
  {
   "cell_type": "code",
   "execution_count": 54,
   "id": "b48b22c3",
   "metadata": {},
   "outputs": [
    {
     "name": "stdout",
     "output_type": "stream",
     "text": [
      "[88 66]\n"
     ]
    }
   ],
   "source": [
    "tablica2d = np.array([[33,5,88], [66,33,16]])\n",
    "filtr = tablica2d > 50\n",
    "print(tablica2d[filtr])"
   ]
  },
  {
   "cell_type": "code",
   "execution_count": 55,
   "id": "39f68eea",
   "metadata": {},
   "outputs": [
    {
     "data": {
      "text/plain": [
       "array([[ 0,  5, 88],\n",
       "       [66,  0, 16]])"
      ]
     },
     "execution_count": 55,
     "metadata": {},
     "output_type": "execute_result"
    }
   ],
   "source": [
    "tablica2d = np.array([[33,5,88], [66,33,16]])\n",
    "tablica2d[tablica2d == 33] = 0\n",
    "tablica2d"
   ]
  },
  {
   "cell_type": "code",
   "execution_count": 56,
   "id": "fdc38003",
   "metadata": {},
   "outputs": [
    {
     "data": {
      "text/plain": [
       "'\\nZadania 1 Wylosuj tablice 10 x 10 z wartosciami od -10 do 10\\nZadanie 2 Wskaz wartosc najczesciej wystepujaca z zadania pierwszego\\n'"
      ]
     },
     "execution_count": 56,
     "metadata": {},
     "output_type": "execute_result"
    }
   ],
   "source": [
    "'''\n",
    "Zadania 1 Wylosuj tablice 10 x 10 z wartosciami od -10 do 10\n",
    "Zadanie 2 Wskaz wartosc najczesciej wystepujaca z zadania pierwszego\n",
    "'''"
   ]
  },
  {
   "cell_type": "code",
   "execution_count": 57,
   "id": "af848681",
   "metadata": {},
   "outputs": [
    {
     "name": "stdout",
     "output_type": "stream",
     "text": [
      "[[  5   4  -5   9   7  -8  -2  -9 -10  -2]\n",
      " [ -3   5   9   3  -8  -2   7  -4   8 -10]\n",
      " [  9   2   6   7   5  -9  -6  -4  -2  -9]\n",
      " [ -9   1  -3   1   7  -3   4  -3  -7   2]\n",
      " [ -6  -3 -10  -1  -6   3  -3   8   2   7]\n",
      " [ -8   8   8  -9  -9   4   7  -7   7   1]\n",
      " [  0  -2  -4  -9  -7  -6  -5  -3  -6  -7]\n",
      " [ -2  -3  -4  -9  -8  -1   2  -4 -10  -8]\n",
      " [  9   2   6 -10   5  -8   7   9  -8  -7]\n",
      " [ -9   6  -1   9  -8   9   1   1  -7  -1]]\n",
      "-9\n",
      "{-9: 9, -8: 8, -3: 8, 7: 8, 9: 7, -7: 6, -2: 6, -10: 5, -6: 5, -4: 5, 1: 5, 2: 5, -1: 4, 5: 4, 8: 4, 4: 3, 6: 3, -5: 2, 3: 2, 0: 1}\n"
     ]
    },
    {
     "data": {
      "text/plain": [
       "-9"
      ]
     },
     "execution_count": 57,
     "metadata": {},
     "output_type": "execute_result"
    }
   ],
   "source": [
    "# solution 1\n",
    "tablica = np.random.randint(-10,10,size=(10, 10))\n",
    "print(tablica)\n",
    "unique, counts = np.unique(tablica, return_inverse=True)\n",
    "print(unique[np.argmax(np.bincount(counts))])\n",
    "\n",
    "u = {int(x):0 for x in list(unique)}\n",
    "for e in np.nditer(tablica):\n",
    "    u[int(e)] = u[int(e)] + 1\n",
    "\n",
    "u = dict(sorted(u.items(), key=lambda item: item[1], reverse=True))\n",
    "print(u)\n",
    "maxi = max(list(u.values()))\n",
    "new_dict = {value:key for (key,value) in u.items()}\n",
    "new_dict[maxi]"
   ]
  },
  {
   "cell_type": "code",
   "execution_count": 58,
   "id": "3906477d",
   "metadata": {},
   "outputs": [
    {
     "name": "stdout",
     "output_type": "stream",
     "text": [
      "-9\n"
     ]
    }
   ],
   "source": [
    "# solution 2\n",
    "# reshape 2d to on 1d \n",
    "tablica = tablica.reshape(-1)\n",
    "print(np.bincount(tablica + 10).argmax()-10)\n"
   ]
  },
  {
   "cell_type": "code",
   "execution_count": 59,
   "id": "3cc585e2",
   "metadata": {},
   "outputs": [
    {
     "data": {
      "text/plain": [
       "'\\nzad 3 posortuj tablice zad 1 w wierszach a potem w kolumnach\\n'"
      ]
     },
     "execution_count": 59,
     "metadata": {},
     "output_type": "execute_result"
    }
   ],
   "source": [
    "'''\n",
    "zad 3 posortuj tablice zad 1 w wierszach a potem w kolumnach\n",
    "'''"
   ]
  },
  {
   "cell_type": "code",
   "execution_count": 60,
   "id": "c3f7d58e",
   "metadata": {},
   "outputs": [
    {
     "name": "stdout",
     "output_type": "stream",
     "text": [
      "[[ -5   5   1  -7  -8   8   1   8   5  -6]\n",
      " [ -4  -9  -1   1  -1  -3   4  -6  -1  -7]\n",
      " [ -4  -9   1   8   3  -2  -1 -10   9   5]\n",
      " [ -5  -3   7   4   1 -10  -6   3 -10   4]\n",
      " [  9   5   8   8   1  -8  -6  -5 -10   6]\n",
      " [ -7   3  -8  -6   2   2   2   5  -2  -2]\n",
      " [-10  -2  -9   2   8  -2  -7  -9   4 -10]\n",
      " [ -6   1  -6  -3   5  -9  -6   5   4   1]\n",
      " [  5   8   4  -2   3  -9 -10  -5   2  -4]\n",
      " [  3  -5  -9   3   5  -4  -3   4  -9  -7]]\n",
      "[[ -8  -7  -6  -5   1   1   5   5   8   8]\n",
      " [ -9  -7  -6  -4  -3  -1  -1  -1   1   4]\n",
      " [-10  -9  -4  -2  -1   1   3   5   8   9]\n",
      " [-10 -10  -6  -5  -3   1   3   4   4   7]\n",
      " [-10  -8  -6  -5   1   5   6   8   8   9]\n",
      " [ -8  -7  -6  -2  -2   2   2   2   3   5]\n",
      " [-10 -10  -9  -9  -7  -2  -2   2   4   8]\n",
      " [ -9  -6  -6  -6  -3   1   1   4   5   5]\n",
      " [-10  -9  -5  -4  -2   2   3   4   5   8]\n",
      " [ -9  -9  -7  -5  -4  -3   3   3   4   5]]\n",
      "[[-10  -9  -4  -2  -1   1   3   5   8   9]\n",
      " [-10 -10  -6  -5  -3   1   3   4   4   7]\n",
      " [-10  -8  -6  -5   1   5   6   8   8   9]\n",
      " [-10 -10  -9  -9  -7  -2  -2   2   4   8]\n",
      " [-10  -9  -5  -4  -2   2   3   4   5   8]\n",
      " [ -9  -7  -6  -4  -3  -1  -1  -1   1   4]\n",
      " [ -9  -6  -6  -6  -3   1   1   4   5   5]\n",
      " [ -9  -9  -7  -5  -4  -3   3   3   4   5]\n",
      " [ -8  -7  -6  -5   1   1   5   5   8   8]\n",
      " [ -8  -7  -6  -2  -2   2   2   2   3   5]]\n"
     ]
    }
   ],
   "source": [
    "# solution 1\n",
    "tablica = np.random.randint(-10,10,size=(10, 10))\n",
    "print(tablica)\n",
    "tablica = np.sort(tablica)\n",
    "print(tablica)\n",
    "tablica = tablica[tablica[:, 0].argsort()]\n",
    "print(tablica)"
   ]
  },
  {
   "cell_type": "code",
   "execution_count": 61,
   "id": "331257d6",
   "metadata": {},
   "outputs": [
    {
     "name": "stdout",
     "output_type": "stream",
     "text": [
      "[[  2   6   7 -10   1   1   9   3  -9  -2]\n",
      " [  9  -9   5  -6  -2  -3   4   7   7   3]\n",
      " [  6   3  -7   0   9  -4   6 -10  -1   2]\n",
      " [ -3  -9  -3   4  -2   2   5   8   0 -10]\n",
      " [  1   3   0   8  -3   1  -2   9  -5   1]\n",
      " [  5   8   3  -1 -10   3  -2   2   2  -8]\n",
      " [  4   8  -9 -10   0   7  -1   8  -4   9]\n",
      " [ -8  -9  -9   2   7   5   5 -10  -7   8]\n",
      " [  0  -2   0   9 -10   0  -5  -2   8   9]\n",
      " [ -6  -8   0   2   9   6  -3 -10   2  -7]]\n",
      "[[-10  -9  -2   1   1   2   3   6   7   9]\n",
      " [ -9  -6  -3  -2   3   4   5   7   7   9]\n",
      " [-10  -7  -4  -1   0   2   3   6   6   9]\n",
      " [-10  -9  -3  -3  -2   0   2   4   5   8]\n",
      " [ -5  -3  -2   0   1   1   1   3   8   9]\n",
      " [-10  -8  -2  -1   2   2   3   3   5   8]\n",
      " [-10  -9  -4  -1   0   4   7   8   8   9]\n",
      " [-10  -9  -9  -8  -7   2   5   5   7   8]\n",
      " [-10  -5  -2  -2   0   0   0   8   9   9]\n",
      " [-10  -8  -7  -6  -3   0   2   2   6   9]]\n",
      "[[-10  -9  -9  -8  -7   0   0   2   5   8]\n",
      " [-10  -9  -7  -6  -3   0   1   3   5   8]\n",
      " [-10  -9  -4  -3  -2   0   2   3   6   8]\n",
      " [-10  -9  -4  -2   0   1   2   4   6   9]\n",
      " [-10  -8  -3  -2   0   2   3   5   7   9]\n",
      " [-10  -8  -3  -1   0   2   3   6   7   9]\n",
      " [-10  -7  -2  -1   1   2   3   6   7   9]\n",
      " [-10  -6  -2  -1   1   2   5   7   8   9]\n",
      " [ -9  -5  -2   0   2   4   5   8   8   9]\n",
      " [ -5  -3  -2   1   3   4   7   8   9   9]]\n"
     ]
    }
   ],
   "source": [
    "# solution 2\n",
    "tablica = np.random.randint(-10,10,size=(10, 10))\n",
    "print(tablica)\n",
    "tablica = np.sort(tablica)\n",
    "print(tablica)\n",
    "index = np.argsort(tablica, axis=0)\n",
    "tablica = np.take_along_axis(tablica, index, axis=0)\n",
    "print(tablica)"
   ]
  },
  {
   "cell_type": "code",
   "execution_count": 62,
   "id": "34ed0cba",
   "metadata": {},
   "outputs": [
    {
     "name": "stdout",
     "output_type": "stream",
     "text": [
      "[[  2   3  -3  -6   3   8   9   1   1  -8]\n",
      " [ -2   4  -5   6   9   4  -6  -2  -5   0]\n",
      " [ -3 -10  -5   3  -9  -9  -2   8  -5   1]\n",
      " [ -5  -5   3   6 -10   5  -3   7  -8   5]\n",
      " [  5   4 -10  -5   8  -4  -3   7   5   1]\n",
      " [-10  -8   2   2   2  -3   8   7  -1  -5]\n",
      " [  5  -4  -7 -10   6  -5  -5  -8   0   0]\n",
      " [ -6   4   6   7  -1   5   5  -6   1  -1]\n",
      " [  5  -2   3   2   4   4  -2  -9   1  -5]\n",
      " [  6   4   5   7  -1 -10  -2   7  -4   7]]\n",
      "[[ -8  -6  -3   1   1   2   3   3   8   9]\n",
      " [ -6  -5  -5  -2  -2   0   4   4   6   9]\n",
      " [-10  -9  -9  -5  -5  -3  -2   1   3   8]\n",
      " [-10  -8  -5  -5  -3   3   5   5   6   7]\n",
      " [-10  -5  -4  -3   1   4   5   5   7   8]\n",
      " [-10  -8  -5  -3  -1   2   2   2   7   8]\n",
      " [-10  -8  -7  -5  -5  -4   0   0   5   6]\n",
      " [ -6  -6  -1  -1   1   4   5   5   6   7]\n",
      " [ -9  -5  -2  -2   1   2   3   4   4   5]\n",
      " [-10  -4  -2  -1   4   5   6   7   7   7]]\n",
      "[[-10  -9  -9  -5  -5  -4  -2   0   3   5]\n",
      " [-10  -8  -7  -5  -5  -3   0   1   4   6]\n",
      " [-10  -8  -5  -5  -3   0   2   2   5   7]\n",
      " [-10  -8  -5  -3  -2   2   3   3   6   7]\n",
      " [-10  -6  -5  -3  -1   2   3   4   6   7]\n",
      " [-10  -6  -4  -2   1   2   4   4   6   8]\n",
      " [ -9  -5  -3  -2   1   3   5   5   7   8]\n",
      " [ -8  -5  -2  -1   1   4   5   5   7   8]\n",
      " [ -6  -5  -2  -1   1   4   5   5   7   9]\n",
      " [ -6  -4  -1   1   4   5   6   7   8   9]]\n"
     ]
    }
   ],
   "source": [
    "# solution 3\n",
    "tablica = np.random.randint(-10,10,size=(10, 10))\n",
    "print(tablica)\n",
    "tablica = np.sort(tablica)\n",
    "print(tablica)\n",
    "tablica = np.sort(tablica,axis=0)\n",
    "print(tablica)"
   ]
  },
  {
   "cell_type": "code",
   "execution_count": 63,
   "id": "70c5a852",
   "metadata": {},
   "outputs": [
    {
     "name": "stdout",
     "output_type": "stream",
     "text": [
      "[[1 2 3]\n",
      " [4 5 6]]\n"
     ]
    },
    {
     "data": {
      "text/plain": [
       "array([ 6, 15])"
      ]
     },
     "execution_count": 63,
     "metadata": {},
     "output_type": "execute_result"
    }
   ],
   "source": [
    "# wskaz w ktorym wierszu suma elementow jest najwieksza\n",
    "tablica2d = np.array([[1,2,3], [4,5,6]])\n",
    "print(tablica2d)\n",
    "np.sum(tablica2d,axis=1)"
   ]
  },
  {
   "cell_type": "code",
   "execution_count": 64,
   "id": "3c06a9e4",
   "metadata": {},
   "outputs": [
    {
     "name": "stdout",
     "output_type": "stream",
     "text": [
      "[[  8  -7   4   8  -8   6  -1  -7   1  -7]\n",
      " [ -1  -7  -2   7   8  -8   6  -2   0   1]\n",
      " [  4 -10   1   9   1   6   7  -4  -6  -8]\n",
      " [ -8   2 -10   9  -2  -7   0   1  -3   1]\n",
      " [ -6  -9   2   6  -1  -6   7  -4 -10  -2]\n",
      " [  5   5   0  -9   5   7   3  -7   3   5]\n",
      " [ -7   9  -9   5   3  -7  -3   7  -2   9]\n",
      " [  8   0   1  -7   2  -9   9   7  -6   7]\n",
      " [ -9   8   2   9  -8  -1   5  -2   8   7]\n",
      " [  9   1   4   3   4  -8  -8   4   6   6]]\n",
      "[-3, 2, 0, -17, -23, 17, 5, 12, 19, 21]\n",
      "9\n"
     ]
    }
   ],
   "source": [
    "tablica = np.random.randint(-10,10,size=(10, 10))\n",
    "print(tablica)\n",
    "sumy = np.sum(tablica, axis=1)\n",
    "sumy_lista = list(sumy)\n",
    "print(sumy_lista)\n",
    "index_max = np.argmax(sumy_lista)\n",
    "print(index_max)"
   ]
  },
  {
   "cell_type": "code",
   "execution_count": 65,
   "id": "a526a711",
   "metadata": {},
   "outputs": [
    {
     "data": {
      "text/plain": [
       "9"
      ]
     },
     "execution_count": 65,
     "metadata": {},
     "output_type": "execute_result"
    }
   ],
   "source": [
    "np.sum(tablica, axis=1).argmax()"
   ]
  },
  {
   "cell_type": "code",
   "execution_count": 66,
   "id": "fb524b03",
   "metadata": {},
   "outputs": [
    {
     "data": {
      "text/plain": [
       "3"
      ]
     },
     "execution_count": 66,
     "metadata": {},
     "output_type": "execute_result"
    }
   ],
   "source": [
    "# wskaz w ktorej kolumnie suma elementow jest najwieksza\n",
    "np.sum(tablica, axis=0).argmax()"
   ]
  },
  {
   "cell_type": "code",
   "execution_count": 67,
   "id": "bd9c8397",
   "metadata": {},
   "outputs": [],
   "source": [
    "# zad 5 tablica z 30 3l3m3ntow z wartosciami parzystymi od -50 d0 50"
   ]
  },
  {
   "cell_type": "code",
   "execution_count": 68,
   "id": "4e126527",
   "metadata": {},
   "outputs": [
    {
     "data": {
      "text/plain": [
       "array([ -6, -14,  20,  14, -42,  20,  10, -48, -32, -34, -48,  38,  20,\n",
       "       -10,  12,  32, -50,  16, -18,  28,  32,  20, -14,  -4, -32,  32,\n",
       "       -34,  20,  10, -22])"
      ]
     },
     "execution_count": 68,
     "metadata": {},
     "output_type": "execute_result"
    }
   ],
   "source": [
    "import random\n",
    "arr = np.array([random.randrange(-50, 50, 2) for x in range(30)])\n",
    "arr"
   ]
  },
  {
   "cell_type": "code",
   "execution_count": 69,
   "id": "e7cee2b3",
   "metadata": {},
   "outputs": [
    {
     "data": {
      "text/plain": [
       "array([ 48, -34, -28, -48, -40, -44,  28,  -2,  -2, -50,  18,  44,  44,\n",
       "       -30,  26,  40, -36,  38,   8,   8,   6,  46, -50,  36, -18,  44,\n",
       "       -12, -40, -28,  38])"
      ]
     },
     "execution_count": 69,
     "metadata": {},
     "output_type": "execute_result"
    }
   ],
   "source": [
    "tablica = np.random.randint(-25,25,30) * 2\n",
    "tablica"
   ]
  },
  {
   "cell_type": "code",
   "execution_count": 70,
   "id": "bac22be3",
   "metadata": {},
   "outputs": [],
   "source": [
    "# wskaz mediane z zad 5\n",
    "# zaloz filtr ktory przepusci tylko jednocyfrowe"
   ]
  },
  {
   "cell_type": "code",
   "execution_count": 71,
   "id": "fb1c183a",
   "metadata": {},
   "outputs": [
    {
     "data": {
      "text/plain": [
       "2.0"
      ]
     },
     "execution_count": 71,
     "metadata": {},
     "output_type": "execute_result"
    }
   ],
   "source": [
    "np.median(tablica)"
   ]
  },
  {
   "cell_type": "code",
   "execution_count": 72,
   "id": "02b0a8b3",
   "metadata": {},
   "outputs": [
    {
     "data": {
      "text/plain": [
       "array([-2, -2,  8,  8,  6])"
      ]
     },
     "execution_count": 72,
     "metadata": {},
     "output_type": "execute_result"
    }
   ],
   "source": [
    "tablica[(tablica < 10 ) & (tablica > -10)]"
   ]
  },
  {
   "cell_type": "code",
   "execution_count": 73,
   "id": "8a38608b",
   "metadata": {},
   "outputs": [
    {
     "name": "stdout",
     "output_type": "stream",
     "text": [
      "[48, -34, -28, -48, -40, -44, 28, -2, -2, -50, 18, 44, 44, -30, 26, 40, -36, 38, 8, 8, 6, 46, -50, 36, -18, 44, -12, -40, -28, 38]\n",
      "[12, 7, 10, 12, 4, 8, 10, 2, 2, 5, 9, 8, 8, 3, 8, 4, 9, 11, 8, 8, 6, 10, 5, 9, 9, 8, 3, 4, 10, 11]\n",
      "12 index:  0\n"
     ]
    }
   ],
   "source": [
    "# dla tablic z zad 5 wskaz pozycje elementu kturego sima cyfr jest najwieksza\n",
    "sumy = list()\n",
    "\n",
    "for i in list(tablica):\n",
    "    liczba = [x for x in str(i)]\n",
    "    if '-' in liczba:\n",
    "        liczba.remove('-')\n",
    "    suma = 0\n",
    "    for l in liczba:\n",
    "        suma = suma + int(l)\n",
    "    sumy.append(suma)\n",
    "    \n",
    "print(list(tablica))\n",
    "print(list(sumy))\n",
    "\n",
    "max_value = max(sumy)\n",
    "max_index = sumy.index(max_value)\n",
    "print(sumy[max_index], 'index: ',max_index)\n",
    "\n"
   ]
  },
  {
   "cell_type": "code",
   "execution_count": 75,
   "id": "03d6758c",
   "metadata": {},
   "outputs": [
    {
     "name": "stdout",
     "output_type": "stream",
     "text": [
      "[[0. 0. 0. 0. 0. 0. 0. 0. 0. 0.]\n",
      " [0. 0. 0. 0. 0. 0. 0. 0. 0. 0.]\n",
      " [0. 0. 0. 0. 0. 0. 0. 0. 0. 0.]\n",
      " [0. 0. 0. 0. 0. 0. 0. 0. 0. 0.]\n",
      " [0. 0. 0. 0. 0. 0. 0. 0. 0. 0.]\n",
      " [0. 0. 0. 0. 0. 0. 0. 0. 0. 0.]\n",
      " [0. 0. 0. 0. 0. 0. 0. 0. 0. 0.]\n",
      " [0. 0. 0. 0. 0. 0. 0. 0. 0. 0.]\n",
      " [0. 0. 0. 0. 0. 0. 0. 0. 0. 0.]\n",
      " [0. 0. 0. 0. 0. 0. 0. 0. 0. 0.]]\n",
      "[[1. 0. 0. 1. 1. 1. 1. 0. 0. 0.]\n",
      " [0. 1. 0. 1. 0. 0. 0. 1. 0. 0.]\n",
      " [0. 0. 0. 1. 0. 1. 0. 0. 0. 0.]\n",
      " [1. 1. 1. 0. 1. 0. 0. 0. 0. 0.]\n",
      " [0. 0. 0. 0. 0. 0. 1. 0. 0. 1.]\n",
      " [1. 0. 0. 0. 0. 0. 0. 1. 0. 0.]\n",
      " [0. 1. 0. 0. 0. 1. 0. 0. 0. 1.]\n",
      " [1. 0. 1. 0. 0. 0. 1. 0. 0. 0.]\n",
      " [0. 0. 0. 0. 0. 0. 1. 1. 0. 0.]\n",
      " [0. 0. 0. 0. 1. 0. 1. 1. 0. 1.]]\n",
      "unique, counts:  [0. 1.] [70 30]\n"
     ]
    }
   ],
   "source": [
    "# zad 9 - stworz tablice (NxN) z samymi zerami i wstaw do nie losowe 30% zaokraglone\n",
    "# reshape change the shape of the table\n",
    "\n",
    "tablica = np.zeros((10, 10))\n",
    "shape = tablica.shape[0] * tablica.shape[1]\n",
    "\n",
    "r = int(round(shape * 0.3, 0))\n",
    "print(tablica)\n",
    "\n",
    "tablica = tablica.reshape(-1) # 2d to 1D\n",
    "\n",
    "i = []\n",
    "while r > 0:\n",
    "    index = random.randrange(0,shape)\n",
    "    if index not in i:\n",
    "        tablica[index] = 1\n",
    "        i.append(index)\n",
    "        r = r -1\n",
    "        \n",
    "tablica = tablica.reshape(10,10)\n",
    "print(tablica)\n",
    "unique, counts = np.unique(tablica, return_counts=True)\n",
    "print('unique, counts: ',unique, counts)"
   ]
  },
  {
   "cell_type": "code",
   "execution_count": 77,
   "id": "7770c7da",
   "metadata": {},
   "outputs": [],
   "source": [
    "tablica = tablica.reshape(-1)\n",
    "tablica = tablica.reshape(10,10)"
   ]
  },
  {
   "cell_type": "code",
   "execution_count": 78,
   "id": "d0cb8c28",
   "metadata": {},
   "outputs": [
    {
     "data": {
      "text/plain": [
       "array([[1., 0., 0., 1., 1., 1., 1., 0., 0., 0.],\n",
       "       [0., 1., 0., 1., 0., 0., 0., 1., 0., 0.],\n",
       "       [0., 0., 0., 1., 0., 1., 0., 0., 0., 0.],\n",
       "       [1., 1., 1., 0., 1., 0., 0., 0., 0., 0.],\n",
       "       [0., 0., 0., 0., 0., 0., 1., 0., 0., 1.],\n",
       "       [1., 0., 0., 0., 0., 0., 0., 1., 0., 0.],\n",
       "       [0., 1., 0., 0., 0., 1., 0., 0., 0., 1.],\n",
       "       [1., 0., 1., 0., 0., 0., 1., 0., 0., 0.],\n",
       "       [0., 0., 0., 0., 0., 0., 1., 1., 0., 0.],\n",
       "       [0., 0., 0., 0., 1., 0., 1., 1., 0., 1.]])"
      ]
     },
     "execution_count": 78,
     "metadata": {},
     "output_type": "execute_result"
    }
   ],
   "source": [
    "tablica"
   ]
  },
  {
   "cell_type": "code",
   "execution_count": null,
   "id": "9d256409",
   "metadata": {},
   "outputs": [],
   "source": []
  }
 ],
 "metadata": {
  "kernelspec": {
   "display_name": "Python 3 (ipykernel)",
   "language": "python",
   "name": "python3"
  },
  "language_info": {
   "codemirror_mode": {
    "name": "ipython",
    "version": 3
   },
   "file_extension": ".py",
   "mimetype": "text/x-python",
   "name": "python",
   "nbconvert_exporter": "python",
   "pygments_lexer": "ipython3",
   "version": "3.7.11"
  }
 },
 "nbformat": 4,
 "nbformat_minor": 5
}
