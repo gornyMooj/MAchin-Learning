{
 "cells": [
  {
   "cell_type": "markdown",
   "id": "483da905",
   "metadata": {},
   "source": [
    "# cluster analysis - Iris flowers "
   ]
  },
  {
   "cell_type": "code",
   "execution_count": 2,
   "id": "2ef9d89d",
   "metadata": {},
   "outputs": [],
   "source": [
    "import random\n",
    "import pandas as pd\n",
    "import numpy as np\n",
    "import seaborn as sns\n",
    "import matplotlib.pyplot as plt\n",
    "\n",
    "import math"
   ]
  },
  {
   "cell_type": "code",
   "execution_count": 3,
   "id": "f52f9c99",
   "metadata": {},
   "outputs": [
    {
     "data": {
      "text/html": [
       "<div>\n",
       "<style scoped>\n",
       "    .dataframe tbody tr th:only-of-type {\n",
       "        vertical-align: middle;\n",
       "    }\n",
       "\n",
       "    .dataframe tbody tr th {\n",
       "        vertical-align: top;\n",
       "    }\n",
       "\n",
       "    .dataframe thead th {\n",
       "        text-align: right;\n",
       "    }\n",
       "</style>\n",
       "<table border=\"1\" class=\"dataframe\">\n",
       "  <thead>\n",
       "    <tr style=\"text-align: right;\">\n",
       "      <th></th>\n",
       "      <th>sepal_length</th>\n",
       "      <th>sepal_width</th>\n",
       "      <th>petal_length</th>\n",
       "      <th>petal_width</th>\n",
       "      <th>species</th>\n",
       "    </tr>\n",
       "  </thead>\n",
       "  <tbody>\n",
       "    <tr>\n",
       "      <th>0</th>\n",
       "      <td>5.1</td>\n",
       "      <td>3.5</td>\n",
       "      <td>1.4</td>\n",
       "      <td>0.2</td>\n",
       "      <td>setosa</td>\n",
       "    </tr>\n",
       "    <tr>\n",
       "      <th>1</th>\n",
       "      <td>4.9</td>\n",
       "      <td>3.0</td>\n",
       "      <td>1.4</td>\n",
       "      <td>0.2</td>\n",
       "      <td>setosa</td>\n",
       "    </tr>\n",
       "    <tr>\n",
       "      <th>2</th>\n",
       "      <td>4.7</td>\n",
       "      <td>3.2</td>\n",
       "      <td>1.3</td>\n",
       "      <td>0.2</td>\n",
       "      <td>setosa</td>\n",
       "    </tr>\n",
       "    <tr>\n",
       "      <th>3</th>\n",
       "      <td>4.6</td>\n",
       "      <td>3.1</td>\n",
       "      <td>1.5</td>\n",
       "      <td>0.2</td>\n",
       "      <td>setosa</td>\n",
       "    </tr>\n",
       "    <tr>\n",
       "      <th>4</th>\n",
       "      <td>5.0</td>\n",
       "      <td>3.6</td>\n",
       "      <td>1.4</td>\n",
       "      <td>0.2</td>\n",
       "      <td>setosa</td>\n",
       "    </tr>\n",
       "  </tbody>\n",
       "</table>\n",
       "</div>"
      ],
      "text/plain": [
       "   sepal_length  sepal_width  petal_length  petal_width species\n",
       "0           5.1          3.5           1.4          0.2  setosa\n",
       "1           4.9          3.0           1.4          0.2  setosa\n",
       "2           4.7          3.2           1.3          0.2  setosa\n",
       "3           4.6          3.1           1.5          0.2  setosa\n",
       "4           5.0          3.6           1.4          0.2  setosa"
      ]
     },
     "execution_count": 3,
     "metadata": {},
     "output_type": "execute_result"
    }
   ],
   "source": [
    "iris = pd.read_csv('iris.csv')\n",
    "iris.head()"
   ]
  },
  {
   "cell_type": "code",
   "execution_count": 7,
   "id": "6d333a10",
   "metadata": {},
   "outputs": [
    {
     "data": {
      "text/plain": [
       "array(['setosa', 'versicolor', 'virginica'], dtype=object)"
      ]
     },
     "execution_count": 7,
     "metadata": {},
     "output_type": "execute_result"
    }
   ],
   "source": [
    "iris['species'].unique()"
   ]
  },
  {
   "cell_type": "code",
   "execution_count": 4,
   "id": "4e1440fc",
   "metadata": {},
   "outputs": [
    {
     "data": {
      "text/html": [
       "<div>\n",
       "<style scoped>\n",
       "    .dataframe tbody tr th:only-of-type {\n",
       "        vertical-align: middle;\n",
       "    }\n",
       "\n",
       "    .dataframe tbody tr th {\n",
       "        vertical-align: top;\n",
       "    }\n",
       "\n",
       "    .dataframe thead th {\n",
       "        text-align: right;\n",
       "    }\n",
       "</style>\n",
       "<table border=\"1\" class=\"dataframe\">\n",
       "  <thead>\n",
       "    <tr style=\"text-align: right;\">\n",
       "      <th></th>\n",
       "      <th>sepal_length</th>\n",
       "      <th>sepal_width</th>\n",
       "      <th>petal_length</th>\n",
       "      <th>petal_width</th>\n",
       "    </tr>\n",
       "  </thead>\n",
       "  <tbody>\n",
       "    <tr>\n",
       "      <th>count</th>\n",
       "      <td>150.000000</td>\n",
       "      <td>150.000000</td>\n",
       "      <td>150.000000</td>\n",
       "      <td>150.000000</td>\n",
       "    </tr>\n",
       "    <tr>\n",
       "      <th>mean</th>\n",
       "      <td>5.843333</td>\n",
       "      <td>3.054000</td>\n",
       "      <td>3.758667</td>\n",
       "      <td>1.198667</td>\n",
       "    </tr>\n",
       "    <tr>\n",
       "      <th>std</th>\n",
       "      <td>0.828066</td>\n",
       "      <td>0.433594</td>\n",
       "      <td>1.764420</td>\n",
       "      <td>0.763161</td>\n",
       "    </tr>\n",
       "    <tr>\n",
       "      <th>min</th>\n",
       "      <td>4.300000</td>\n",
       "      <td>2.000000</td>\n",
       "      <td>1.000000</td>\n",
       "      <td>0.100000</td>\n",
       "    </tr>\n",
       "    <tr>\n",
       "      <th>25%</th>\n",
       "      <td>5.100000</td>\n",
       "      <td>2.800000</td>\n",
       "      <td>1.600000</td>\n",
       "      <td>0.300000</td>\n",
       "    </tr>\n",
       "    <tr>\n",
       "      <th>50%</th>\n",
       "      <td>5.800000</td>\n",
       "      <td>3.000000</td>\n",
       "      <td>4.350000</td>\n",
       "      <td>1.300000</td>\n",
       "    </tr>\n",
       "    <tr>\n",
       "      <th>75%</th>\n",
       "      <td>6.400000</td>\n",
       "      <td>3.300000</td>\n",
       "      <td>5.100000</td>\n",
       "      <td>1.800000</td>\n",
       "    </tr>\n",
       "    <tr>\n",
       "      <th>max</th>\n",
       "      <td>7.900000</td>\n",
       "      <td>4.400000</td>\n",
       "      <td>6.900000</td>\n",
       "      <td>2.500000</td>\n",
       "    </tr>\n",
       "  </tbody>\n",
       "</table>\n",
       "</div>"
      ],
      "text/plain": [
       "       sepal_length  sepal_width  petal_length  petal_width\n",
       "count    150.000000   150.000000    150.000000   150.000000\n",
       "mean       5.843333     3.054000      3.758667     1.198667\n",
       "std        0.828066     0.433594      1.764420     0.763161\n",
       "min        4.300000     2.000000      1.000000     0.100000\n",
       "25%        5.100000     2.800000      1.600000     0.300000\n",
       "50%        5.800000     3.000000      4.350000     1.300000\n",
       "75%        6.400000     3.300000      5.100000     1.800000\n",
       "max        7.900000     4.400000      6.900000     2.500000"
      ]
     },
     "execution_count": 4,
     "metadata": {},
     "output_type": "execute_result"
    }
   ],
   "source": [
    "iris.describe()"
   ]
  },
  {
   "cell_type": "code",
   "execution_count": 6,
   "id": "a5771ddb",
   "metadata": {},
   "outputs": [
    {
     "data": {
      "image/png": "[encoded data removed]",
      "text/plain": [
       "<Figure size 432x288 with 1 Axes>"
      ]
     },
     "metadata": {
      "needs_background": "light"
     },
     "output_type": "display_data"
    }
   ],
   "source": [
    "plt.scatter(iris['sepal_length'], iris['sepal_width'])\n",
    "plt.show()"
   ]
  },
  {
   "cell_type": "code",
   "execution_count": 13,
   "id": "7b1d0276",
   "metadata": {},
   "outputs": [
    {
     "data": {
      "image/png": "[encoded data removed]",
      "text/plain": [
       "<Figure size 432x288 with 1 Axes>"
      ]
     },
     "metadata": {
      "needs_background": "light"
     },
     "output_type": "display_data"
    }
   ],
   "source": [
    "plt.scatter(iris.loc[iris['species'] == 'setosa']['sepal_length'], iris.loc[iris['species'] == 'setosa']['sepal_width'])\n",
    "plt.scatter(iris.loc[iris['species'] == 'versicolor']['sepal_length'], iris.loc[iris['species'] == 'versicolor']['sepal_width'])\n",
    "plt.scatter(iris.loc[iris['species'] == 'virginica']['sepal_length'], iris.loc[iris['species'] == 'virginica']['sepal_width'])\n",
    "plt.title('Species')\n",
    "plt.show()"
   ]
  },
  {
   "cell_type": "code",
   "execution_count": 15,
   "id": "05945e1f",
   "metadata": {},
   "outputs": [
    {
     "data": {
      "image/png": "[encoded data removed]",
      "text/plain": [
       "<Figure size 432x288 with 1 Axes>"
      ]
     },
     "metadata": {
      "needs_background": "light"
     },
     "output_type": "display_data"
    },
    {
     "data": {
      "image/png": "[encoded data removed]",
      "text/plain": [
       "<Figure size 432x288 with 1 Axes>"
      ]
     },
     "metadata": {
      "needs_background": "light"
     },
     "output_type": "display_data"
    }
   ],
   "source": [
    "# iris['sepal_length'], iris['sepal_width']\n",
    "sepal_length_max = iris['sepal_length'].max()\n",
    "sepal_width_max = iris['sepal_width'].max()\n",
    "\n",
    "grid = 0 \n",
    "if sepal_length_max >= sepal_width_max:\n",
    "    grid = math.ceil(sepal_length_max) + 1\n",
    "else:\n",
    "    grid = math.ceil(sepal_width_max) + 1\n",
    "\n",
    "points_number = 30\n",
    "\n",
    "x = list(iris['sepal_length'])\n",
    "y = list(iris['sepal_width'])\n",
    "\n",
    "x = [i + 0.0001 for i in x]\n",
    "y = [i + 0.0001 for i in y]\n",
    "\n",
    "# generate points\n",
    "for n in range(points_number):\n",
    "    x.append( (random.randrange(0, grid)) + (random.randrange(1, 9)/10) )\n",
    "    y.append( (random.randrange(0, grid)) + (random.randrange(1, 9)/10) )\n",
    "\n",
    "plt.scatter(x, y)\n",
    "plt.xticks(list(range(grid + 2)))\n",
    "plt.yticks(list(range(5)))\n",
    "plt.grid()\n",
    "plt.show()\n",
    "\n",
    "# points coordinates\n",
    "points = list(zip(x,y))\n",
    "points = [list(x) for x in points]\n",
    "\n",
    "# mapping cells\n",
    "cells = list()\n",
    "for x in range(1, grid + 2):\n",
    "    row = list()\n",
    "    for y in range(1, grid + 2):\n",
    "        row.append([y,x, 0])\n",
    "    cells.append(row)\n",
    "    \n",
    "# counting points in cells\n",
    "for p in points:\n",
    "    x = math.ceil(p[0]) - 1\n",
    "    y = math.ceil(p[1]) - 1\n",
    "    cells[y][x][2] += 1\n",
    "    \n",
    "# genereting classes based on number of points in cells     \n",
    "occurrences = set()\n",
    "for r in cells:\n",
    "    for c in r:\n",
    "        occurrences.add(c[2])\n",
    "        \n",
    "occurrences = list(occurrences)\n",
    "classes = np.array_split(occurrences, 3)\n",
    "classes = [ list(c) for c in classes]\n",
    "\n",
    "points_class = {0: 'yellow', 1: 'blue', 2: 'brown'}\n",
    "\n",
    "# assigning points to classes\n",
    "def color_class(n):\n",
    "    for i in range(len(classes)):\n",
    "        if n in classes[i]:\n",
    "            return points_class[i]\n",
    "\n",
    "for p in points:\n",
    "    x = math.ceil(p[0]) - 1\n",
    "    y = math.ceil(p[1]) - 1\n",
    "    color = color_class(cells[y][x][2])\n",
    "    if len(p) < 3:\n",
    "        p.append(color)\n",
    "    else:\n",
    "        p[2] = color\n",
    "        \n",
    "# plotting the results\n",
    "plt.scatter([p[0] for p in points], [p[1] for p in points], c=[p[2] for p in points])\n",
    "plt.xticks(list(range(0, grid +  1)))\n",
    "plt.yticks(list(range(0, grid +  1)))\n",
    "plt.grid()\n",
    "plt.show()"
   ]
  },
  {
   "cell_type": "code",
   "execution_count": 16,
   "id": "9fbcb3d1",
   "metadata": {},
   "outputs": [
    {
     "name": "stdout",
     "output_type": "stream",
     "text": [
      "[[1, 1, 2], [2, 1, 1], [3, 1, 1], [4, 1, 2], [5, 1, 0], [6, 1, 0], [7, 1, 0], [8, 1, 0], [9, 1, 0], [10, 1, 0]]\n",
      "[[1, 2, 0], [2, 2, 0], [3, 2, 2], [4, 2, 1], [5, 2, 1], [6, 2, 0], [7, 2, 0], [8, 2, 0], [9, 2, 0], [10, 2, 0]]\n",
      "[[1, 3, 1], [2, 3, 0], [3, 3, 0], [4, 3, 1], [5, 3, 4], [6, 3, 24], [7, 3, 26], [8, 3, 4], [9, 3, 0], [10, 3, 0]]\n",
      "[[1, 4, 0], [2, 4, 0], [3, 4, 2], [4, 4, 0], [5, 4, 18], [6, 4, 33], [7, 4, 29], [8, 4, 9], [9, 4, 0], [10, 4, 0]]\n",
      "[[1, 5, 0], [2, 5, 0], [3, 5, 1], [4, 5, 2], [5, 5, 0], [6, 5, 4], [7, 5, 0], [8, 5, 0], [9, 5, 2], [10, 5, 0]]\n",
      "[[1, 6, 0], [2, 6, 1], [3, 6, 0], [4, 6, 0], [5, 6, 0], [6, 6, 0], [7, 6, 0], [8, 6, 0], [9, 6, 0], [10, 6, 0]]\n",
      "[[1, 7, 1], [2, 7, 0], [3, 7, 0], [4, 7, 0], [5, 7, 1], [6, 7, 1], [7, 7, 0], [8, 7, 0], [9, 7, 0], [10, 7, 0]]\n",
      "[[1, 8, 0], [2, 8, 1], [3, 8, 0], [4, 8, 1], [5, 8, 0], [6, 8, 2], [7, 8, 0], [8, 8, 0], [9, 8, 0], [10, 8, 0]]\n",
      "[[1, 9, 0], [2, 9, 0], [3, 9, 0], [4, 9, 1], [5, 9, 0], [6, 9, 1], [7, 9, 0], [8, 9, 0], [9, 9, 0], [10, 9, 0]]\n",
      "[[1, 10, 0], [2, 10, 0], [3, 10, 0], [4, 10, 0], [5, 10, 0], [6, 10, 0], [7, 10, 0], [8, 10, 0], [9, 10, 0], [10, 10, 0]]\n"
     ]
    }
   ],
   "source": [
    "for r in cells:\n",
    "    print(r)"
   ]
  },
  {
   "cell_type": "code",
   "execution_count": 17,
   "id": "8d913da8",
   "metadata": {},
   "outputs": [
    {
     "data": {
      "text/plain": [
       "[[0, 1, 2, 33], [4, 9, 18], [24, 26, 29]]"
      ]
     },
     "execution_count": 17,
     "metadata": {},
     "output_type": "execute_result"
    }
   ],
   "source": [
    "classes"
   ]
  },
  {
   "cell_type": "code",
   "execution_count": null,
   "id": "41a50fb5",
   "metadata": {},
   "outputs": [],
   "source": []
  }
 ],
 "metadata": {
  "kernelspec": {
   "display_name": "Python 3 (ipykernel)",
   "language": "python",
   "name": "python3"
  },
  "language_info": {
   "codemirror_mode": {
    "name": "ipython",
    "version": 3
   },
   "file_extension": ".py",
   "mimetype": "text/x-python",
   "name": "python",
   "nbconvert_exporter": "python",
   "pygments_lexer": "ipython3",
   "version": "3.7.11"
  }
 },
 "nbformat": 4,
 "nbformat_minor": 5
}
