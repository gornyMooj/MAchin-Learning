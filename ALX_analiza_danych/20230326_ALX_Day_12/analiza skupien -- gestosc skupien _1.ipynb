{
 "cells": [
  {
   "cell_type": "code",
   "execution_count": 1,
   "id": "5d2e2f70",
   "metadata": {},
   "outputs": [],
   "source": [
    "import random\n",
    "import pandas as pd\n",
    "import seaborn as sns\n",
    "import matplotlib.pyplot as plt\n",
    "\n",
    "import math"
   ]
  },
  {
   "cell_type": "code",
   "execution_count": 38,
   "id": "5f46a06d",
   "metadata": {},
   "outputs": [
    {
     "name": "stdout",
     "output_type": "stream",
     "text": [
      "x [1.1, 2.5, 0.4, 2.8, 0.8, 1.7, 0.8, 1.5, 0.7, 2.4, 2.5, 0.1, 2.8, 0.4, 1.8, 2.7, 0.1, 0.8, 1.8, 2.1]\n",
      "y [2.8, 2.7, 1.7, 0.3, 2.6, 1.3, 0.4, 1.3, 0.3, 0.5, 1.2, 2.6, 2.6, 2.3, 1.6, 1.6, 2.8, 0.3, 2.4, 1.2]\n"
     ]
    }
   ],
   "source": [
    "class Punkty:\n",
    "    extensja = list()\n",
    "    def __init__(self, grid):\n",
    "        self.x = (random.randrange(0, grid)) + (random.randrange(1, 9)/10)\n",
    "        self.y = (random.randrange(0, grid)) + (random.randrange(1, 9)/10)\n",
    "        self.klasa = None\n",
    "        Punkty.extensja.append(self)\n",
    "    \n",
    "    @classmethod\n",
    "    def return_x(cls):\n",
    "        return [ p.x for p in Punkty.extensja]\n",
    "    \n",
    "    @classmethod\n",
    "    def return_y(cls):\n",
    "        return [ p.y for p in Punkty.extensja]\n",
    "        \n",
    "        \n",
    "    def __str__(self):\n",
    "        return f'x: {self.x} y: {self.y} class: {self.klasa}'\n",
    "    \n",
    "\n",
    "for n in range(20):\n",
    "    Punkty(3)\n",
    "print('x', Punkty.return_x())\n",
    "print('y', Punkty.return_y())"
   ]
  },
  {
   "cell_type": "code",
   "execution_count": 95,
   "id": "a7a9cafe",
   "metadata": {},
   "outputs": [
    {
     "data": {
      "image/png": "[encoded data removed]",
      "text/plain": [
       "<Figure size 432x288 with 1 Axes>"
      ]
     },
     "metadata": {
      "needs_background": "light"
     },
     "output_type": "display_data"
    }
   ],
   "source": [
    "x = [1.1, 2.5, 0.4, 2.8, 0.8, 1.7, 0.8, 1.5, 0.7, 2.4, 2.5, 0.1, 2.8, 0.4, 1.8, 2.7, 0.1, 0.8, 1.8, 2.1]\n",
    "y = [2.8, 2.7, 1.7, 0.3, 2.6, 1.3, 0.4, 1.3, 0.3, 0.5, 1.2, 2.6, 2.6, 2.3, 1.6, 1.6, 2.8, 0.3, 2.4, 1.2]\n",
    "\n",
    "plt.scatter(x, y)\n",
    "plt.xticks(list(range(5)))\n",
    "plt.yticks(list(range(5)))\n",
    "plt.grid()\n",
    "plt.show()"
   ]
  },
  {
   "cell_type": "code",
   "execution_count": 96,
   "id": "a2a28f39",
   "metadata": {},
   "outputs": [
    {
     "data": {
      "text/plain": [
       "[[1.1, 2.8],\n",
       " [2.5, 2.7],\n",
       " [0.4, 1.7],\n",
       " [2.8, 0.3],\n",
       " [0.8, 2.6],\n",
       " [1.7, 1.3],\n",
       " [0.8, 0.4],\n",
       " [1.5, 1.3],\n",
       " [0.7, 0.3],\n",
       " [2.4, 0.5],\n",
       " [2.5, 1.2],\n",
       " [0.1, 2.6],\n",
       " [2.8, 2.6],\n",
       " [0.4, 2.3],\n",
       " [1.8, 1.6],\n",
       " [2.7, 1.6],\n",
       " [0.1, 2.8],\n",
       " [0.8, 0.3],\n",
       " [1.8, 2.4],\n",
       " [2.1, 1.2]]"
      ]
     },
     "execution_count": 96,
     "metadata": {},
     "output_type": "execute_result"
    }
   ],
   "source": [
    "points = list(zip(x,y))\n",
    "points = [list(x) for x in points]\n",
    "points"
   ]
  },
  {
   "cell_type": "markdown",
   "id": "3bde5914",
   "metadata": {},
   "source": [
    "count points in grid"
   ]
  },
  {
   "cell_type": "code",
   "execution_count": 97,
   "id": "35dccc1c",
   "metadata": {},
   "outputs": [
    {
     "name": "stdout",
     "output_type": "stream",
     "text": [
      "[[1, 1, 0], [2, 1, 0], [3, 1, 0], [4, 1, 0]]\n",
      "[[1, 2, 0], [2, 2, 0], [3, 2, 0], [4, 2, 0]]\n",
      "[[1, 3, 0], [2, 3, 0], [3, 3, 0], [4, 3, 0]]\n",
      "[[1, 4, 0], [2, 4, 0], [3, 4, 0], [4, 4, 0]]\n"
     ]
    }
   ],
   "source": [
    "grid = 3 + 2\n",
    "cells = list()\n",
    "\n",
    "for x in range(1, grid):\n",
    "    row = list()\n",
    "    for y in range(1, grid):\n",
    "        row.append([y,x, 0])\n",
    "    cells.append(row)\n",
    "        \n",
    "for i in cells:\n",
    "    print(i)"
   ]
  },
  {
   "cell_type": "code",
   "execution_count": 98,
   "id": "1c76cd8f",
   "metadata": {},
   "outputs": [],
   "source": [
    "for p in points:\n",
    "    x = math.ceil(p[0]) - 1\n",
    "    y = math.ceil(p[1]) - 1\n",
    "    cells[y][x][2] += 1"
   ]
  },
  {
   "cell_type": "code",
   "execution_count": 99,
   "id": "39b76965",
   "metadata": {},
   "outputs": [
    {
     "name": "stdout",
     "output_type": "stream",
     "text": [
      "[[1, 1, 3], [2, 1, 0], [3, 1, 2], [4, 1, 0]]\n",
      "[[1, 2, 1], [2, 2, 3], [3, 2, 3], [4, 2, 0]]\n",
      "[[1, 3, 4], [2, 3, 2], [3, 3, 2], [4, 3, 0]]\n",
      "[[1, 4, 0], [2, 4, 0], [3, 4, 0], [4, 4, 0]]\n"
     ]
    }
   ],
   "source": [
    "for i in cells:\n",
    "    print(i)"
   ]
  },
  {
   "cell_type": "markdown",
   "id": "5e85bab3",
   "metadata": {},
   "source": [
    "create classes"
   ]
  },
  {
   "cell_type": "code",
   "execution_count": 100,
   "id": "525d4d09",
   "metadata": {},
   "outputs": [
    {
     "name": "stdout",
     "output_type": "stream",
     "text": [
      "occurrences [0, 1, 2, 3, 4]\n",
      "[0, 1]\n",
      "[2, 3]\n",
      "[4]\n"
     ]
    },
    {
     "data": {
      "text/plain": [
       "[[0, 1], [2, 3], [4]]"
      ]
     },
     "execution_count": 100,
     "metadata": {},
     "output_type": "execute_result"
    }
   ],
   "source": [
    "import numpy as np\n",
    "\n",
    "occurrences = set()\n",
    "\n",
    "for r in cells:\n",
    "    for c in r:\n",
    "        occurrences.add(c[2])\n",
    "        \n",
    "print('occurrences', list(occurrences))\n",
    "\n",
    "# splitting to classes\n",
    "occurrences = list(occurrences)\n",
    "\n",
    "classes = np.array_split(occurrences, 3)\n",
    "\n",
    "for c in classes:\n",
    "    print(list(c))\n",
    "    \n",
    "classes = [ list(c) for c in classes]\n",
    "classes"
   ]
  },
  {
   "cell_type": "markdown",
   "id": "261721de",
   "metadata": {},
   "source": [
    "```\n",
    "assigning x to classes \n",
    "assigning y to classes\n",
    "```"
   ]
  },
  {
   "cell_type": "code",
   "execution_count": 101,
   "id": "234fa99b",
   "metadata": {},
   "outputs": [
    {
     "data": {
      "text/plain": [
       "{0: [], 1: [], 2: []}"
      ]
     },
     "execution_count": 101,
     "metadata": {},
     "output_type": "execute_result"
    }
   ],
   "source": [
    "points_class = { i: [] for i in range(len(classes))}\n",
    "points_class"
   ]
  },
  {
   "cell_type": "code",
   "execution_count": 102,
   "id": "f390cc7a",
   "metadata": {},
   "outputs": [],
   "source": [
    "points_class = {0: 'yellow', 1: 'blue', 2: 'brown'}"
   ]
  },
  {
   "cell_type": "code",
   "execution_count": null,
   "id": "a9584426",
   "metadata": {},
   "outputs": [],
   "source": []
  },
  {
   "cell_type": "code",
   "execution_count": 103,
   "id": "9d817192",
   "metadata": {},
   "outputs": [
    {
     "name": "stdout",
     "output_type": "stream",
     "text": [
      "[[1.1, 2.8, 'blue'], [2.5, 2.7, 'blue'], [0.4, 1.7, 'yellow'], [2.8, 0.3, 'blue'], [0.8, 2.6, 'brown'], [1.7, 1.3, 'blue'], [0.8, 0.4, 'blue'], [1.5, 1.3, 'blue'], [0.7, 0.3, 'blue'], [2.4, 0.5, 'blue'], [2.5, 1.2, 'blue'], [0.1, 2.6, 'brown'], [2.8, 2.6, 'blue'], [0.4, 2.3, 'brown'], [1.8, 1.6, 'blue'], [2.7, 1.6, 'blue'], [0.1, 2.8, 'brown'], [0.8, 0.3, 'blue'], [1.8, 2.4, 'blue'], [2.1, 1.2, 'blue']]\n"
     ]
    }
   ],
   "source": [
    "def color_class(n):\n",
    "    for i in range(len(classes)):\n",
    "        if n in classes[i]:\n",
    "            return points_class[i]\n",
    "\n",
    "for p in points:\n",
    "    x = math.ceil(p[0]) - 1\n",
    "    y = math.ceil(p[1]) - 1\n",
    "    color = color_class(cells[y][x][2])\n",
    "    if len(p) < 3:\n",
    "        p.append(color)\n",
    "    else:\n",
    "        p[2] = color\n",
    "    \n",
    "\n"
   ]
  },
  {
   "cell_type": "code",
   "execution_count": 104,
   "id": "00a9a32a",
   "metadata": {},
   "outputs": [
    {
     "data": {
      "image/png": "[encoded data removed]",
      "text/plain": [
       "<Figure size 432x288 with 1 Axes>"
      ]
     },
     "metadata": {
      "needs_background": "light"
     },
     "output_type": "display_data"
    }
   ],
   "source": [
    "plt.scatter([p[0] for p in points], [p[1] for p in points], c=[p[2] for p in points])\n",
    "plt.xticks(list(range(5)))\n",
    "plt.yticks(list(range(5)))\n",
    "plt.grid()\n",
    "plt.show()"
   ]
  },
  {
   "cell_type": "markdown",
   "id": "20243276",
   "metadata": {},
   "source": [
    "### Code from above in one cell unit"
   ]
  },
  {
   "cell_type": "code",
   "execution_count": 108,
   "id": "ac3d0e7a",
   "metadata": {},
   "outputs": [
    {
     "data": {
      "image/png": "[encoded data removed]",
      "text/plain": [
       "<Figure size 432x288 with 1 Axes>"
      ]
     },
     "metadata": {
      "needs_background": "light"
     },
     "output_type": "display_data"
    },
    {
     "data": {
      "image/png": "[encoded data removed]",
      "text/plain": [
       "<Figure size 432x288 with 1 Axes>"
      ]
     },
     "metadata": {
      "needs_background": "light"
     },
     "output_type": "display_data"
    }
   ],
   "source": [
    "grid = 5\n",
    "points_number = 40\n",
    "\n",
    "x = list()\n",
    "y = list()\n",
    "\n",
    "# generate points\n",
    "for n in range(points_number):\n",
    "    x.append( (random.randrange(0, grid)) + (random.randrange(1, 9)/10) )\n",
    "    y.append( (random.randrange(0, grid)) + (random.randrange(1, 9)/10) )\n",
    "\n",
    "plt.scatter(x, y)\n",
    "plt.xticks(list(range(grid + 1)))\n",
    "plt.yticks(list(range(grid + 1)))\n",
    "plt.grid()\n",
    "plt.show()\n",
    "\n",
    "# points coordinates\n",
    "points = list(zip(x,y))\n",
    "points = [list(x) for x in points]\n",
    "\n",
    "# mapping cells\n",
    "cells = list()\n",
    "for x in range(1, grid + 2):\n",
    "    row = list()\n",
    "    for y in range(1, grid + 2):\n",
    "        row.append([y,x, 0])\n",
    "    cells.append(row)\n",
    "    \n",
    "# counting points in cells\n",
    "for p in points:\n",
    "    x = math.ceil(p[0]) - 1\n",
    "    y = math.ceil(p[1]) - 1\n",
    "    cells[y][x][2] += 1\n",
    "    \n",
    "# genereting classes based on number of points in cells     \n",
    "occurrences = set()\n",
    "for r in cells:\n",
    "    for c in r:\n",
    "        occurrences.add(c[2])\n",
    "        \n",
    "occurrences = list(occurrences)\n",
    "classes = np.array_split(occurrences, 3)\n",
    "classes = [ list(c) for c in classes]\n",
    "\n",
    "points_class = {0: 'yellow', 1: 'blue', 2: 'brown'}\n",
    "\n",
    "# assigning points to classes\n",
    "def color_class(n):\n",
    "    for i in range(len(classes)):\n",
    "        if n in classes[i]:\n",
    "            return points_class[i]\n",
    "\n",
    "for p in points:\n",
    "    x = math.ceil(p[0]) - 1\n",
    "    y = math.ceil(p[1]) - 1\n",
    "    color = color_class(cells[y][x][2])\n",
    "    if len(p) < 3:\n",
    "        p.append(color)\n",
    "    else:\n",
    "        p[2] = color\n",
    "        \n",
    "# plotting the results\n",
    "plt.scatter([p[0] for p in points], [p[1] for p in points], c=[p[2] for p in points])\n",
    "plt.xticks(list(range(grid + 1)))\n",
    "plt.yticks(list(range(grid + 1)))\n",
    "plt.grid()\n",
    "plt.show()"
   ]
  },
  {
   "cell_type": "markdown",
   "id": "c4ca4133",
   "metadata": {},
   "source": [
    "## Example with a unit bigger than 1"
   ]
  },
  {
   "cell_type": "code",
   "execution_count": 109,
   "id": "ce3e6a92",
   "metadata": {},
   "outputs": [
    {
     "data": {
      "image/png": "[encoded data removed]",
      "text/plain": [
       "<Figure size 432x288 with 1 Axes>"
      ]
     },
     "metadata": {
      "needs_background": "light"
     },
     "output_type": "display_data"
    },
    {
     "data": {
      "image/png": "[encoded data removed]",
      "text/plain": [
       "<Figure size 432x288 with 1 Axes>"
      ]
     },
     "metadata": {
      "needs_background": "light"
     },
     "output_type": "display_data"
    }
   ],
   "source": [
    "grid = 4\n",
    "points_number = 15\n",
    "unit = 2\n",
    "\n",
    "x = list()\n",
    "y = list()\n",
    "\n",
    "# generate points\n",
    "for n in range(points_number):\n",
    "    x.append( (random.randrange(0, grid)) + (random.randrange(1, 9)/10) )\n",
    "    y.append( (random.randrange(0, grid)) + (random.randrange(1, 9)/10) )\n",
    "\n",
    "plt.scatter(x, y)\n",
    "plt.xticks(list(range(grid + 1)))\n",
    "plt.yticks(list(range(grid + 1)))\n",
    "plt.grid()\n",
    "plt.show()\n",
    "\n",
    "# points coordinates\n",
    "points = list(zip(x,y))\n",
    "points = [list(x) for x in points]\n",
    "\n",
    "# mapping cells\n",
    "resized = math.ceil((grid + 2)/ unit)\n",
    "resized = list(range(1,resized + 1))\n",
    "cells = list()\n",
    "for x in resized:\n",
    "    row = list()\n",
    "    for y in resized:\n",
    "        row.append([y,x,0])\n",
    "    cells.append(row)\n",
    "\n",
    "    \n",
    "# counting points in cells\n",
    "for p in points:\n",
    "    x = math.ceil(p[0]/unit) - 1\n",
    "    y = math.ceil(p[1]/unit) - 1\n",
    "    cells[y][x][2] += 1\n",
    "    \n",
    "    \n",
    "# genereting classes based on number of points in cells     \n",
    "occurrences = set()\n",
    "for r in cells:\n",
    "    for c in r:\n",
    "        occurrences.add(c[2])\n",
    "\n",
    "occurrences = list(occurrences)\n",
    "classes = np.array_split(occurrences, 3)\n",
    "classes = [ list(c) for c in classes]\n",
    "points_class = {0: 'yellow', 1: 'blue', 2: 'brown'}\n",
    "\n",
    "\n",
    "# assigning points to classes\n",
    "def color_class(n):\n",
    "    for i in range(len(classes)):\n",
    "        if n in classes[i]:\n",
    "            return points_class[i]\n",
    "\n",
    "for p in points:\n",
    "    x = math.ceil(p[0]/unit) - 1\n",
    "    y = math.ceil(p[1]/unit) - 1\n",
    "    color = color_class(cells[y][x][2])\n",
    "    if len(p) < 3:\n",
    "        p.append(color)\n",
    "    else:\n",
    "        p[2] = color\n",
    "        \n",
    "# plotting the results\n",
    "plt.scatter([p[0] for p in points], [p[1] for p in points], c=[p[2] for p in points])\n",
    "plt.xticks(list(range(grid + 1)))\n",
    "plt.yticks(list(range(grid + 1)))\n",
    "plt.grid()\n",
    "plt.show()"
   ]
  },
  {
   "cell_type": "code",
   "execution_count": null,
   "id": "6c82ae44",
   "metadata": {},
   "outputs": [],
   "source": []
  }
 ],
 "metadata": {
  "kernelspec": {
   "display_name": "Python 3 (ipykernel)",
   "language": "python",
   "name": "python3"
  },
  "language_info": {
   "codemirror_mode": {
    "name": "ipython",
    "version": 3
   },
   "file_extension": ".py",
   "mimetype": "text/x-python",
   "name": "python",
   "nbconvert_exporter": "python",
   "pygments_lexer": "ipython3",
   "version": "3.7.11"
  }
 },
 "nbformat": 4,
 "nbformat_minor": 5
}
