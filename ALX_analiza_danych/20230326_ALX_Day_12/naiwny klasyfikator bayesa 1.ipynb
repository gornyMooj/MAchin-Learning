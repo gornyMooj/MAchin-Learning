{
 "cells": [
  {
   "cell_type": "markdown",
   "id": "75d8be45",
   "metadata": {},
   "source": [
    "# naive bayes classifier\n",
    "\n",
    "#### just workflow"
   ]
  },
  {
   "cell_type": "code",
   "execution_count": 10,
   "id": "39ee346f",
   "metadata": {},
   "outputs": [],
   "source": [
    "import random\n",
    "import pandas as pd\n",
    "import numpy as np\n",
    "import seaborn as sns\n",
    "import matplotlib.pyplot as plt\n",
    "\n",
    "\n",
    "import itertools\n",
    "import math"
   ]
  },
  {
   "cell_type": "code",
   "execution_count": 12,
   "id": "e1903f28",
   "metadata": {},
   "outputs": [
    {
     "data": {
      "text/html": [
       "<div>\n",
       "<style scoped>\n",
       "    .dataframe tbody tr th:only-of-type {\n",
       "        vertical-align: middle;\n",
       "    }\n",
       "\n",
       "    .dataframe tbody tr th {\n",
       "        vertical-align: top;\n",
       "    }\n",
       "\n",
       "    .dataframe thead th {\n",
       "        text-align: right;\n",
       "    }\n",
       "</style>\n",
       "<table border=\"1\" class=\"dataframe\">\n",
       "  <thead>\n",
       "    <tr style=\"text-align: right;\">\n",
       "      <th></th>\n",
       "      <th>slonce</th>\n",
       "      <th>temperatura</th>\n",
       "      <th>cisnienie</th>\n",
       "      <th>wiatr</th>\n",
       "      <th>decyzja</th>\n",
       "    </tr>\n",
       "  </thead>\n",
       "  <tbody>\n",
       "    <tr>\n",
       "      <th>0</th>\n",
       "      <td>slonecznie</td>\n",
       "      <td>goraco</td>\n",
       "      <td>wysokie</td>\n",
       "      <td>nie ma</td>\n",
       "      <td>nie</td>\n",
       "    </tr>\n",
       "    <tr>\n",
       "      <th>1</th>\n",
       "      <td>slonecznie</td>\n",
       "      <td>goraco</td>\n",
       "      <td>wysokie</td>\n",
       "      <td>jest</td>\n",
       "      <td>nie</td>\n",
       "    </tr>\n",
       "    <tr>\n",
       "      <th>2</th>\n",
       "      <td>pochmurno</td>\n",
       "      <td>goraco</td>\n",
       "      <td>wysokie</td>\n",
       "      <td>nie ma</td>\n",
       "      <td>tak</td>\n",
       "    </tr>\n",
       "    <tr>\n",
       "      <th>3</th>\n",
       "      <td>deszcz</td>\n",
       "      <td>ok</td>\n",
       "      <td>wysokie</td>\n",
       "      <td>nie ma</td>\n",
       "      <td>tak</td>\n",
       "    </tr>\n",
       "    <tr>\n",
       "      <th>4</th>\n",
       "      <td>deszcz</td>\n",
       "      <td>zimno</td>\n",
       "      <td>ok</td>\n",
       "      <td>nie ma</td>\n",
       "      <td>tak</td>\n",
       "    </tr>\n",
       "    <tr>\n",
       "      <th>5</th>\n",
       "      <td>deszcz</td>\n",
       "      <td>zimno</td>\n",
       "      <td>ok</td>\n",
       "      <td>jest</td>\n",
       "      <td>nie</td>\n",
       "    </tr>\n",
       "    <tr>\n",
       "      <th>6</th>\n",
       "      <td>deszcz</td>\n",
       "      <td>zimno</td>\n",
       "      <td>ok</td>\n",
       "      <td>jest</td>\n",
       "      <td>tak</td>\n",
       "    </tr>\n",
       "    <tr>\n",
       "      <th>7</th>\n",
       "      <td>slonecznie</td>\n",
       "      <td>ok</td>\n",
       "      <td>wysokie</td>\n",
       "      <td>nie ma</td>\n",
       "      <td>nie</td>\n",
       "    </tr>\n",
       "    <tr>\n",
       "      <th>8</th>\n",
       "      <td>slonecznie</td>\n",
       "      <td>zimno</td>\n",
       "      <td>ok</td>\n",
       "      <td>nie ma</td>\n",
       "      <td>tak</td>\n",
       "    </tr>\n",
       "    <tr>\n",
       "      <th>9</th>\n",
       "      <td>deszcz</td>\n",
       "      <td>ok</td>\n",
       "      <td>ok</td>\n",
       "      <td>nie ma</td>\n",
       "      <td>tak</td>\n",
       "    </tr>\n",
       "    <tr>\n",
       "      <th>10</th>\n",
       "      <td>slonecznie</td>\n",
       "      <td>ok</td>\n",
       "      <td>ok</td>\n",
       "      <td>jest</td>\n",
       "      <td>tak</td>\n",
       "    </tr>\n",
       "    <tr>\n",
       "      <th>11</th>\n",
       "      <td>pochmurno</td>\n",
       "      <td>ok</td>\n",
       "      <td>wysokie</td>\n",
       "      <td>jest</td>\n",
       "      <td>tak</td>\n",
       "    </tr>\n",
       "    <tr>\n",
       "      <th>12</th>\n",
       "      <td>pochmurno</td>\n",
       "      <td>goraco</td>\n",
       "      <td>ok</td>\n",
       "      <td>nie ma</td>\n",
       "      <td>tak</td>\n",
       "    </tr>\n",
       "    <tr>\n",
       "      <th>13</th>\n",
       "      <td>deszcz</td>\n",
       "      <td>ok</td>\n",
       "      <td>wysokie</td>\n",
       "      <td>jest</td>\n",
       "      <td>nie</td>\n",
       "    </tr>\n",
       "  </tbody>\n",
       "</table>\n",
       "</div>"
      ],
      "text/plain": [
       "        slonce temperatura cisnienie   wiatr decyzja\n",
       "0   slonecznie      goraco   wysokie  nie ma     nie\n",
       "1   slonecznie      goraco   wysokie    jest     nie\n",
       "2    pochmurno      goraco   wysokie  nie ma     tak\n",
       "3       deszcz          ok   wysokie  nie ma     tak\n",
       "4       deszcz       zimno        ok  nie ma     tak\n",
       "5       deszcz       zimno        ok    jest     nie\n",
       "6       deszcz       zimno        ok    jest     tak\n",
       "7   slonecznie          ok   wysokie  nie ma     nie\n",
       "8   slonecznie       zimno        ok  nie ma     tak\n",
       "9       deszcz          ok        ok  nie ma     tak\n",
       "10  slonecznie          ok        ok    jest     tak\n",
       "11   pochmurno          ok   wysokie    jest     tak\n",
       "12   pochmurno      goraco        ok  nie ma     tak\n",
       "13      deszcz          ok   wysokie    jest     nie"
      ]
     },
     "execution_count": 12,
     "metadata": {},
     "output_type": "execute_result"
    }
   ],
   "source": [
    "# read file\n",
    "df = iris = pd.read_csv('pogoda.csv')\n",
    "df = df.iloc[:, 1:]\n",
    "df"
   ]
  },
  {
   "cell_type": "code",
   "execution_count": 15,
   "id": "9bc47215",
   "metadata": {},
   "outputs": [
    {
     "data": {
      "text/plain": [
       "Index(['slonce', 'temperatura', 'cisnienie', 'wiatr'], dtype='object')"
      ]
     },
     "execution_count": 15,
     "metadata": {},
     "output_type": "execute_result"
    }
   ],
   "source": [
    "find = ['slonecznie','zimno','wysokie','jest']\n",
    "features = df.columns[:-1]\n",
    "features"
   ]
  },
  {
   "cell_type": "markdown",
   "id": "5a081f17",
   "metadata": {},
   "source": [
    "1. Prawdopodobienstwo zdazenia pozytywne i wspolczynnink pozytywnosci"
   ]
  },
  {
   "cell_type": "code",
   "execution_count": 28,
   "id": "de888a94",
   "metadata": {},
   "outputs": [
    {
     "name": "stdout",
     "output_type": "stream",
     "text": [
      "slonce 2 / 9\n",
      "temperatura 3 / 9\n",
      "cisnienie 3 / 9\n",
      "wiatr 3 / 9\n"
     ]
    },
    {
     "data": {
      "text/plain": [
       "0.005291005291005291"
      ]
     },
     "execution_count": 28,
     "metadata": {},
     "output_type": "execute_result"
    }
   ],
   "source": [
    "p_z_pozytywne = []\n",
    "pozytywne = df['decyzja'].value_counts()['tak']\n",
    "data = df.loc[df['decyzja'] == 'tak']\n",
    "\n",
    "for i in range(len(features)):\n",
    "    features_count = data[features[i]].value_counts()[find[i]]\n",
    "    p_z_pozytywne.append(features_count/pozytywne)\n",
    "    print(features[i], features_count,'/', pozytywne)\n",
    "\n",
    "p_z_pozytywne.append(pozytywne/df.shape[0])\n",
    "wsp_pozytywnosci = 1\n",
    "for p in p_z_pozytywne:\n",
    "    wsp_pozytywnosci *= p\n",
    "wsp_pozytywnosci"
   ]
  },
  {
   "cell_type": "markdown",
   "id": "a63ce1ee",
   "metadata": {},
   "source": [
    "2. Prawdopodobienstwo zdazenia negatywnego i wspolczynnink negatywnosci"
   ]
  },
  {
   "cell_type": "code",
   "execution_count": 33,
   "id": "6c2bb5df",
   "metadata": {},
   "outputs": [
    {
     "name": "stdout",
     "output_type": "stream",
     "text": [
      "slonce 3 / 5\n",
      "temperatura 1 / 5\n",
      "cisnienie 4 / 5\n",
      "wiatr 3 / 5\n"
     ]
    },
    {
     "data": {
      "text/plain": [
       "0.02057142857142857"
      ]
     },
     "execution_count": 33,
     "metadata": {},
     "output_type": "execute_result"
    }
   ],
   "source": [
    "p_z_negatywne = []\n",
    "negatywne = df['decyzja'].value_counts()['nie']\n",
    "data = df.loc[df['decyzja'] == 'nie']\n",
    "\n",
    "for i in range(len(features)):\n",
    "    features_count = data[features[i]].value_counts()[find[i]]\n",
    "    p_z_negatywne.append(features_count/negatywne)\n",
    "    print(features[i], features_count,'/', negatywne)\n",
    "    \n",
    "p_z_negatywne.append(negatywne/df.shape[0])\n",
    "wsp_negatywnosci = 1\n",
    "for p in p_z_negatywne:\n",
    "    wsp_negatywnosci *= p\n",
    "wsp_negatywnosci"
   ]
  },
  {
   "cell_type": "markdown",
   "id": "162ef98c",
   "metadata": {},
   "source": [
    "3. Prawdopodobienstwo szukanego zdarzenia i wspolczynnik szukanego zdarzenia"
   ]
  },
  {
   "cell_type": "code",
   "execution_count": 34,
   "id": "b668c2f5",
   "metadata": {},
   "outputs": [
    {
     "data": {
      "text/plain": [
       "['slonecznie', 'zimno', 'wysokie', 'jest']"
      ]
     },
     "execution_count": 34,
     "metadata": {},
     "output_type": "execute_result"
    }
   ],
   "source": [
    "find"
   ]
  },
  {
   "cell_type": "code",
   "execution_count": 36,
   "id": "36294f55",
   "metadata": {},
   "outputs": [
    {
     "data": {
      "text/plain": [
       "0.021865889212827987"
      ]
     },
     "execution_count": 36,
     "metadata": {},
     "output_type": "execute_result"
    }
   ],
   "source": [
    "wspolczynnik_szukanego_zdarzenia_lista = list()\n",
    "for i in range(len(features)):\n",
    "    cocount = df[features[i]].value_counts()[find[i]]\n",
    "    total = df.shape[0]\n",
    "    wspolczynnik_szukanego_zdarzenia_lista.append(cocount/total)\n",
    "\n",
    "wspolczynnik_szukanego_zdarzenia = 1\n",
    "for p in wspolczynnik_szukanego_zdarzenia_lista:\n",
    "    wspolczynnik_szukanego_zdarzenia *= p\n",
    "wspolczynnik_szukanego_zdarzenia"
   ]
  },
  {
   "cell_type": "markdown",
   "id": "86adfc45",
   "metadata": {},
   "source": [
    "4. Wspolczynnik pozytywne/szukane"
   ]
  },
  {
   "cell_type": "code",
   "execution_count": 37,
   "id": "9e4f8d76",
   "metadata": {},
   "outputs": [
    {
     "data": {
      "text/plain": [
       "0.2419753086419753"
      ]
     },
     "execution_count": 37,
     "metadata": {},
     "output_type": "execute_result"
    }
   ],
   "source": [
    "wsp_pozytywne_szukane = wsp_pozytywnosci/wspolczynnik_szukanego_zdarzenia\n",
    "wsp_pozytywne_szukane"
   ]
  },
  {
   "cell_type": "markdown",
   "id": "c2270d39",
   "metadata": {},
   "source": [
    "5. Wspolczynnik negatywne/szukane"
   ]
  },
  {
   "cell_type": "code",
   "execution_count": 39,
   "id": "b8b3bc90",
   "metadata": {},
   "outputs": [
    {
     "data": {
      "text/plain": [
       "0.9408"
      ]
     },
     "execution_count": 39,
     "metadata": {},
     "output_type": "execute_result"
    }
   ],
   "source": [
    "wsp_negatywne_szukane = wsp_negatywnosci / wspolczynnik_szukanego_zdarzenia\n",
    "wsp_negatywne_szukane"
   ]
  },
  {
   "cell_type": "markdown",
   "id": "2a6645b8",
   "metadata": {},
   "source": [
    "6.decyzja"
   ]
  },
  {
   "cell_type": "code",
   "execution_count": 40,
   "id": "eb31432b",
   "metadata": {},
   "outputs": [
    {
     "name": "stdout",
     "output_type": "stream",
     "text": [
      "nie\n"
     ]
    }
   ],
   "source": [
    "if wsp_pozytywne_szukane > wsp_negatywne_szukane:\n",
    "    print('tak')\n",
    "elif wsp_pozytywne_szukane < wsp_negatywne_szukane:\n",
    "    print('nie')\n",
    "else:\n",
    "    print('trudno powiedziec')"
   ]
  },
  {
   "cell_type": "markdown",
   "id": "9274bc19",
   "metadata": {},
   "source": [
    "#### code in one cell"
   ]
  },
  {
   "cell_type": "code",
   "execution_count": 42,
   "id": "e2dac25a",
   "metadata": {},
   "outputs": [
    {
     "data": {
      "text/plain": [
       "'nie'"
      ]
     },
     "execution_count": 42,
     "metadata": {},
     "output_type": "execute_result"
    }
   ],
   "source": [
    "def get_wsp_pozytywnosci(df, find, features):\n",
    "    p_z_pozytywne = []\n",
    "    pozytywne = df['decyzja'].value_counts()['tak']\n",
    "    data = df.loc[df['decyzja'] == 'tak']\n",
    "\n",
    "    for i in range(len(features)):\n",
    "        features_count = data[features[i]].value_counts()[find[i]]\n",
    "        p_z_pozytywne.append(features_count/pozytywne)\n",
    "\n",
    "    p_z_pozytywne.append(pozytywne/df.shape[0])\n",
    "    wsp_pozytywnosci = 1\n",
    "    for p in p_z_pozytywne:\n",
    "        wsp_pozytywnosci *= p\n",
    "    return wsp_pozytywnosci\n",
    "\n",
    "\n",
    "def get_wsp_negatywnosci(df, find, features):\n",
    "    p_z_negatywne = []\n",
    "    negatywne = df['decyzja'].value_counts()['nie']\n",
    "    data = df.loc[df['decyzja'] == 'nie']\n",
    "\n",
    "    for i in range(len(features)):\n",
    "        features_count = data[features[i]].value_counts()[find[i]]\n",
    "        p_z_negatywne.append(features_count/negatywne)\n",
    "\n",
    "    p_z_negatywne.append(negatywne/df.shape[0])\n",
    "    wsp_negatywnosci = 1\n",
    "    for p in p_z_negatywne:\n",
    "        wsp_negatywnosci *= p\n",
    "    return wsp_negatywnosci \n",
    "    \n",
    "\n",
    "def get_wsp_szukanego_zdarzenia(df, find, features):\n",
    "    wspolczynnik_szukanego_zdarzenia_lista = list()\n",
    "    for i in range(len(features)):\n",
    "        cocount = df[features[i]].value_counts()[find[i]]\n",
    "        total = df.shape[0]\n",
    "        wspolczynnik_szukanego_zdarzenia_lista.append(cocount/total)\n",
    "\n",
    "    wspolczynnik_szukanego_zdarzenia = 1\n",
    "    for p in wspolczynnik_szukanego_zdarzenia_lista:\n",
    "        wspolczynnik_szukanego_zdarzenia *= p\n",
    "    return wspolczynnik_szukanego_zdarzenia\n",
    "\n",
    "def get_decyzja(wsp_pozytywne_szukane, wsp_negatywne_szukane):\n",
    "    if wsp_pozytywne_szukane > wsp_negatywne_szukane:\n",
    "        return 'tak'\n",
    "    elif wsp_pozytywne_szukane < wsp_negatywne_szukane:\n",
    "        return 'nie'\n",
    "    else:\n",
    "        return 'trudno powiedziec'\n",
    "\n",
    "find = ['slonecznie','zimno','wysokie','jest']\n",
    "\n",
    "df = pd.read_csv('pogoda.csv')\n",
    "df = df.iloc[:, 1:]\n",
    "\n",
    "features = df.columns[:-1]\n",
    "wsp_pozytywnosci = get_wsp_pozytywnosci(df, find, features)\n",
    "wsp_negatywnosci = get_wsp_negatywnosci(df, find, features)\n",
    "wsp_szukanego_zdarzenia = get_wsp_szukanego_zdarzenia(df, find, features)\n",
    "wsp_pozytywne_szukane = wsp_pozytywnosci/wsp_szukanego_zdarzenia\n",
    "wsp_negatywne_szukane = wsp_negatywnosci / wsp_szukanego_zdarzenia\n",
    "\n",
    "get_decyzja(wsp_pozytywne_szukane, wsp_negatywne_szukane)"
   ]
  },
  {
   "cell_type": "markdown",
   "id": "4fbb03ac",
   "metadata": {},
   "source": [
    "## dodaj tablice uzupelnien"
   ]
  },
  {
   "cell_type": "code",
   "execution_count": 49,
   "id": "ed2237bb",
   "metadata": {},
   "outputs": [
    {
     "data": {
      "text/plain": [
       "Index(['slonce', 'temperatura', 'cisnienie', 'wiatr'], dtype='object')"
      ]
     },
     "execution_count": 49,
     "metadata": {},
     "output_type": "execute_result"
    }
   ],
   "source": [
    "features"
   ]
  },
  {
   "cell_type": "markdown",
   "id": "7e04b105",
   "metadata": {},
   "source": [
    "#### find not existing combinations"
   ]
  },
  {
   "cell_type": "code",
   "execution_count": 57,
   "id": "60be4b69",
   "metadata": {},
   "outputs": [
    {
     "name": "stdout",
     "output_type": "stream",
     "text": [
      "('deszcz', 'ok', 'ok', 'nie ma')\n",
      "('pochmurno', 'goraco', 'ok', 'nie ma')\n",
      "('slonecznie', 'goraco', 'wysokie', 'nie ma')\n",
      "('pochmurno', 'ok', 'wysokie', 'jest')\n",
      "('slonecznie', 'goraco', 'wysokie', 'jest')\n",
      "('slonecznie', 'ok', 'ok', 'jest')\n",
      "('deszcz', 'ok', 'wysokie', 'jest')\n",
      "('deszcz', 'zimno', 'ok', 'nie ma')\n",
      "('pochmurno', 'goraco', 'wysokie', 'nie ma')\n",
      "('slonecznie', 'zimno', 'ok', 'nie ma')\n",
      "('deszcz', 'zimno', 'ok', 'jest')\n",
      "('deszcz', 'ok', 'wysokie', 'nie ma')\n",
      "('slonecznie', 'ok', 'wysokie', 'nie ma')\n"
     ]
    }
   ],
   "source": [
    "unique_table = set()\n",
    "for i in range(df.shape[0]):\n",
    "    row = tuple(df.iloc[i,:-1])\n",
    "    unique_table.add(row)\n",
    "    \n",
    "for i in unique_table:\n",
    "    print(i)"
   ]
  },
  {
   "cell_type": "code",
   "execution_count": 58,
   "id": "ed61d1ba",
   "metadata": {},
   "outputs": [
    {
     "data": {
      "text/plain": [
       "[('slonecznie', 'pochmurno', 'deszcz'),\n",
       " ('goraco', 'ok', 'zimno'),\n",
       " ('wysokie', 'ok'),\n",
       " ('nie ma', 'jest')]"
      ]
     },
     "execution_count": 58,
     "metadata": {},
     "output_type": "execute_result"
    }
   ],
   "source": [
    "features_unique = list()\n",
    "for f in features:\n",
    "    features_unique.append(tuple(df[f].unique()))\n",
    "    \n",
    "features_unique"
   ]
  },
  {
   "cell_type": "code",
   "execution_count": 59,
   "id": "ac5aab67",
   "metadata": {},
   "outputs": [
    {
     "name": "stdout",
     "output_type": "stream",
     "text": [
      "('deszcz', 'zimno', 'wysokie', 'jest')\n",
      "('pochmurno', 'zimno', 'ok', 'jest')\n",
      "('slonecznie', 'goraco', 'ok', 'jest')\n",
      "('slonecznie', 'goraco', 'wysokie', 'nie ma')\n",
      "('pochmurno', 'ok', 'wysokie', 'nie ma')\n",
      "('slonecznie', 'goraco', 'ok', 'nie ma')\n",
      "('pochmurno', 'zimno', 'ok', 'nie ma')\n",
      "('pochmurno', 'goraco', 'wysokie', 'nie ma')\n",
      "('deszcz', 'goraco', 'wysokie', 'nie ma')\n",
      "('pochmurno', 'zimno', 'wysokie', 'nie ma')\n",
      "('deszcz', 'ok', 'wysokie', 'nie ma')\n",
      "('pochmurno', 'ok', 'ok', 'nie ma')\n",
      "('slonecznie', 'zimno', 'wysokie', 'jest')\n",
      "('deszcz', 'ok', 'ok', 'jest')\n",
      "('deszcz', 'zimno', 'wysokie', 'nie ma')\n",
      "('deszcz', 'zimno', 'ok', 'nie ma')\n",
      "('pochmurno', 'ok', 'ok', 'jest')\n",
      "('deszcz', 'zimno', 'ok', 'jest')\n",
      "('slonecznie', 'zimno', 'ok', 'jest')\n",
      "('pochmurno', 'goraco', 'wysokie', 'jest')\n",
      "('deszcz', 'ok', 'ok', 'nie ma')\n",
      "('slonecznie', 'ok', 'ok', 'nie ma')\n",
      "('pochmurno', 'ok', 'wysokie', 'jest')\n",
      "('slonecznie', 'goraco', 'wysokie', 'jest')\n",
      "('slonecznie', 'ok', 'ok', 'jest')\n",
      "('deszcz', 'ok', 'wysokie', 'jest')\n",
      "('slonecznie', 'ok', 'wysokie', 'jest')\n",
      "('slonecznie', 'zimno', 'ok', 'nie ma')\n",
      "('deszcz', 'goraco', 'wysokie', 'jest')\n",
      "('pochmurno', 'goraco', 'ok', 'nie ma')\n",
      "('pochmurno', 'goraco', 'ok', 'jest')\n",
      "('slonecznie', 'zimno', 'wysokie', 'nie ma')\n",
      "('deszcz', 'goraco', 'ok', 'jest')\n",
      "('pochmurno', 'zimno', 'wysokie', 'jest')\n",
      "('deszcz', 'goraco', 'ok', 'nie ma')\n",
      "('slonecznie', 'ok', 'wysokie', 'nie ma')\n"
     ]
    }
   ],
   "source": [
    "import itertools\n",
    "\n",
    "# get premutations using itertools\n",
    "all_unique_cobinations = set(list(itertools.product(*features_unique)))\n",
    "\n",
    "for i in all_unique_cobinations:\n",
    "    print(i)"
   ]
  },
  {
   "cell_type": "code",
   "execution_count": 61,
   "id": "c4597b4b",
   "metadata": {},
   "outputs": [
    {
     "name": "stdout",
     "output_type": "stream",
     "text": [
      "('deszcz', 'zimno', 'wysokie', 'jest')\n",
      "('pochmurno', 'zimno', 'ok', 'jest')\n",
      "('slonecznie', 'goraco', 'ok', 'jest')\n",
      "('pochmurno', 'ok', 'wysokie', 'nie ma')\n",
      "('slonecznie', 'goraco', 'ok', 'nie ma')\n",
      "('pochmurno', 'zimno', 'ok', 'nie ma')\n",
      "('deszcz', 'goraco', 'wysokie', 'nie ma')\n",
      "('pochmurno', 'zimno', 'wysokie', 'nie ma')\n",
      "('pochmurno', 'ok', 'ok', 'nie ma')\n",
      "('slonecznie', 'zimno', 'wysokie', 'jest')\n",
      "('deszcz', 'ok', 'ok', 'jest')\n",
      "('deszcz', 'zimno', 'wysokie', 'nie ma')\n",
      "('pochmurno', 'ok', 'ok', 'jest')\n",
      "('slonecznie', 'zimno', 'ok', 'jest')\n",
      "('pochmurno', 'goraco', 'wysokie', 'jest')\n",
      "('slonecznie', 'ok', 'ok', 'nie ma')\n",
      "('slonecznie', 'ok', 'wysokie', 'jest')\n",
      "('deszcz', 'goraco', 'wysokie', 'jest')\n",
      "('pochmurno', 'goraco', 'ok', 'jest')\n",
      "('slonecznie', 'zimno', 'wysokie', 'nie ma')\n",
      "('deszcz', 'goraco', 'ok', 'jest')\n",
      "('pochmurno', 'zimno', 'wysokie', 'jest')\n",
      "('deszcz', 'goraco', 'ok', 'nie ma')\n"
     ]
    }
   ],
   "source": [
    "difference = all_unique_cobinations.difference(unique_table) \n",
    "\n",
    "for s in difference:\n",
    "    print(s)"
   ]
  },
  {
   "cell_type": "code",
   "execution_count": null,
   "id": "df382bb4",
   "metadata": {},
   "outputs": [],
   "source": []
  },
  {
   "cell_type": "code",
   "execution_count": null,
   "id": "29e3d084",
   "metadata": {},
   "outputs": [],
   "source": []
  }
 ],
 "metadata": {
  "kernelspec": {
   "display_name": "Python 3 (ipykernel)",
   "language": "python",
   "name": "python3"
  },
  "language_info": {
   "codemirror_mode": {
    "name": "ipython",
    "version": 3
   },
   "file_extension": ".py",
   "mimetype": "text/x-python",
   "name": "python",
   "nbconvert_exporter": "python",
   "pygments_lexer": "ipython3",
   "version": "3.7.11"
  }
 },
 "nbformat": 4,
 "nbformat_minor": 5
}
