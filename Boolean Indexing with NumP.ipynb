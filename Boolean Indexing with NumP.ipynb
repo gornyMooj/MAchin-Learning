{
 "cells": [
  {
   "cell_type": "markdown",
   "id": "cd7c4902",
   "metadata": {},
   "source": [
    "- NumPy ndarrays can contain only one datatype. --> print(nparrays.dtype)\n",
    "- NaN is an acronym for Not a Number\n",
    "- #### print(np.array([2,4,6,8]) < 5)"
   ]
  },
  {
   "cell_type": "code",
   "execution_count": 7,
   "id": "46f1f5d7",
   "metadata": {},
   "outputs": [],
   "source": [
    "# create csf with sample data\n",
    "# randomly insert 100 to the data and randomly insert 100 values to the second column\n",
    "\n",
    "import numpy as np\n",
    "import random\n",
    "import csv\n",
    "\n",
    "comumn_names = 'ABCDEF'\n",
    "columns = [x for x in comumn_names]\n",
    "\n",
    "columns_no, rows_no = len(columns), 10\n",
    "                      \n",
    "gen_data_list = [[random.randint(0,100) for column in range(0,columns_no) ] for row in range(0, rows_no)]\n",
    "\n",
    "# randomly insert 100 to the data and randomly insert 100 values to the second column\n",
    "quantity = random.randint(1,rows_no - 1)\n",
    "for i in range(quantity):\n",
    "    rand_column = random.randint(0,columns_no - 1)\n",
    "    rand_row = random.randint(0,rows_no - 1)\n",
    "    gen_data_list[rand_row][rand_column] = 100\n",
    "    gen_data_list[rand_row][1] = 100\n",
    "    \n",
    "\n",
    "with open('test.csv', 'w+',newline='') as f:\n",
    "    writer = csv.writer(f)\n",
    "    writer.writerow(columns) # frite column names\n",
    "    writer.writerows(gen_data_list) # write multiple rows\n",
    "    \n",
    "\n"
   ]
  },
  {
   "cell_type": "code",
   "execution_count": 8,
   "id": "6efd078a",
   "metadata": {},
   "outputs": [
    {
     "name": "stdout",
     "output_type": "stream",
     "text": [
      "(11, 6)\n"
     ]
    },
    {
     "data": {
      "text/plain": [
       "array([[ nan,  nan,  nan,  nan,  nan,  nan],\n",
       "       [ 36., 100., 100.,  63.,  43.,  86.],\n",
       "       [ 49.,  42.,  49.,  23.,   5.,  17.],\n",
       "       [100., 100.,  18.,  12.,  59., 100.],\n",
       "       [ 79.,  20.,   6.,  88.,  23.,  32.],\n",
       "       [  5., 100.,  39.,  60.,  51., 100.],\n",
       "       [ 14.,  32.,  27.,  28.,  25.,   7.],\n",
       "       [ 71.,  83.,  27.,  42.,  60.,   6.],\n",
       "       [ 41., 100.,  42.,  38.,  43., 100.],\n",
       "       [ 14., 100., 100.,  76.,  57.,  76.],\n",
       "       [ 45., 100.,  82.,  24.,  86.,  15.]])"
      ]
     },
     "execution_count": 8,
     "metadata": {},
     "output_type": "execute_result"
    }
   ],
   "source": [
    "# reading CSV with numpy\n",
    "data = np.genfromtxt('test.csv', delimiter=',')\n",
    "print(data.shape)\n",
    "data"
   ]
  },
  {
   "cell_type": "markdown",
   "id": "6d37181f",
   "metadata": {},
   "source": [
    "NaN is an acronym for Not a Number"
   ]
  },
  {
   "cell_type": "code",
   "execution_count": 9,
   "id": "18e93ab2",
   "metadata": {},
   "outputs": [
    {
     "name": "stdout",
     "output_type": "stream",
     "text": [
      "(10, 6)\n"
     ]
    },
    {
     "data": {
      "text/plain": [
       "array([[ 36., 100., 100.,  63.,  43.,  86.],\n",
       "       [ 49.,  42.,  49.,  23.,   5.,  17.],\n",
       "       [100., 100.,  18.,  12.,  59., 100.],\n",
       "       [ 79.,  20.,   6.,  88.,  23.,  32.],\n",
       "       [  5., 100.,  39.,  60.,  51., 100.],\n",
       "       [ 14.,  32.,  27.,  28.,  25.,   7.],\n",
       "       [ 71.,  83.,  27.,  42.,  60.,   6.],\n",
       "       [ 41., 100.,  42.,  38.,  43., 100.],\n",
       "       [ 14., 100., 100.,  76.,  57.,  76.],\n",
       "       [ 45., 100.,  82.,  24.,  86.,  15.]])"
      ]
     },
     "execution_count": 9,
     "metadata": {},
     "output_type": "execute_result"
    }
   ],
   "source": [
    "# removing header from nparray\n",
    "data = data[1:,:]\n",
    "\n",
    "print(data.shape)\n",
    "data"
   ]
  },
  {
   "cell_type": "code",
   "execution_count": null,
   "id": "6e7b0413",
   "metadata": {},
   "outputs": [],
   "source": []
  },
  {
   "cell_type": "code",
   "execution_count": 10,
   "id": "5374d8f4",
   "metadata": {},
   "outputs": [
    {
     "name": "stdout",
     "output_type": "stream",
     "text": [
      "[12 14 16 18]\n"
     ]
    }
   ],
   "source": [
    "print(np.array([2,4,6,8]) + 10) # + 10 operation applies to each value in the array"
   ]
  },
  {
   "cell_type": "code",
   "execution_count": 11,
   "id": "b1a411e5",
   "metadata": {},
   "outputs": [
    {
     "name": "stdout",
     "output_type": "stream",
     "text": [
      "[ True  True False False]\n"
     ]
    }
   ],
   "source": [
    "print(np.array([2,4,6,8]) < 5)"
   ]
  },
  {
   "cell_type": "code",
   "execution_count": 12,
   "id": "003aa2af",
   "metadata": {},
   "outputs": [
    {
     "name": "stdout",
     "output_type": "stream",
     "text": [
      "[[ True False False False  True False]\n",
      " [ True  True  True  True  True  True]\n",
      " [False False  True  True False False]\n",
      " [False  True  True False  True  True]\n",
      " [ True False  True False False False]\n",
      " [ True  True  True  True  True  True]\n",
      " [False False  True  True False  True]\n",
      " [ True False  True  True  True False]\n",
      " [ True False False False False False]\n",
      " [ True False False  True False  True]]\n"
     ]
    }
   ],
   "source": [
    "# check witch random values in the CSV created randomely are less than 50\n",
    "print(data <50)"
   ]
  },
  {
   "cell_type": "code",
   "execution_count": 13,
   "id": "d07c6598",
   "metadata": {
    "scrolled": true
   },
   "outputs": [
    {
     "data": {
      "text/plain": [
       "'\\nCall numpy.sum(a) to get the sum of the array a. The result will be \\nNaN if and only if a has one or more NaN values. Call numpy.isnan(x) to check if the previous result x is NaN.\\n\\narray_sum = np.sum(dataset_numpy)\\narray_has_nan = np.isnan(array_sum)\\nprint(array_has_nan)\\n\\n\\n'"
      ]
     },
     "execution_count": 13,
     "metadata": {},
     "output_type": "execute_result"
    }
   ],
   "source": [
    "\n",
    "'''\n",
    "Call numpy.sum(a) to get the sum of the array a. The result will be \n",
    "NaN if and only if a has one or more NaN values. Call numpy.isnan(x) to check if the previous result x is NaN.\n",
    "\n",
    "array_sum = np.sum(dataset_numpy)\n",
    "array_has_nan = np.isnan(array_sum)\n",
    "print(array_has_nan)\n",
    "\n",
    "\n",
    "'''"
   ]
  },
  {
   "cell_type": "code",
   "execution_count": 41,
   "id": "fcb7c18b",
   "metadata": {},
   "outputs": [
    {
     "data": {
      "text/plain": [
       "array([[ 36.,  10.,  20.,  10.,  60.,   0.],\n",
       "       [100.,  80.,   0.,   0.,  20.,   0.]])"
      ]
     },
     "execution_count": 41,
     "metadata": {},
     "output_type": "execute_result"
    }
   ],
   "source": [
    "\n",
    "nparray = np.array([[ 36., 10., 20.,  10.,  60.,  0.],\n",
    "               [0., 0.,   0.,  48.,  0.,  0.],\n",
    "              [100., 80.,   0.,  0.,  20,  0.],\n",
    "             ])\n",
    "\n",
    "nparray.shape\n",
    "\n",
    "dropoff_newark_bool = nparray[:, 1:].sum(axis=1) == 100\n",
    "newark_count = nparray[dropoff_newark_bool]\n",
    "\n",
    "newark_count"
   ]
  },
  {
   "cell_type": "code",
   "execution_count": null,
   "id": "589a36fa",
   "metadata": {},
   "outputs": [],
   "source": []
  },
  {
   "cell_type": "code",
   "execution_count": null,
   "id": "9d5271af",
   "metadata": {},
   "outputs": [],
   "source": []
  }
 ],
 "metadata": {
  "kernelspec": {
   "display_name": "Python 3 (ipykernel)",
   "language": "python",
   "name": "python3"
  },
  "language_info": {
   "codemirror_mode": {
    "name": "ipython",
    "version": 3
   },
   "file_extension": ".py",
   "mimetype": "text/x-python",
   "name": "python",
   "nbconvert_exporter": "python",
   "pygments_lexer": "ipython3",
   "version": "3.7.11"
  }
 },
 "nbformat": 4,
 "nbformat_minor": 5
}
