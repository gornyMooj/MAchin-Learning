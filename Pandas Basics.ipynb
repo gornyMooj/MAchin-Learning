{
 "cells": [
  {
   "cell_type": "markdown",
   "id": "a6bf9773",
   "metadata": {},
   "source": [
    "# Pandas Basics"
   ]
  },
  {
   "cell_type": "code",
   "execution_count": null,
   "id": "5a568fe4",
   "metadata": {},
   "outputs": [],
   "source": [
    "import pandas as pd\n",
    "f500 = pd.read_csv('f500.csv',index_col=0)\n",
    "f500.index.name = None\n"
   ]
  },
  {
   "cell_type": "code",
   "execution_count": null,
   "id": "a0a1d3d3",
   "metadata": {},
   "outputs": [],
   "source": [
    "# check last rows of dataframe lake head()\n",
    "f500.tail(2)"
   ]
  },
  {
   "cell_type": "code",
   "execution_count": null,
   "id": "e4346e26",
   "metadata": {},
   "outputs": [],
   "source": [
    "# check the type of data in the data frame\n",
    "print(f500.dtypes)"
   ]
  },
  {
   "cell_type": "code",
   "execution_count": null,
   "id": "1c085a80",
   "metadata": {},
   "outputs": [],
   "source": [
    "f500.info()"
   ]
  },
  {
   "cell_type": "markdown",
   "id": "73ecdedd",
   "metadata": {},
   "source": [
    "##### Selecting single column - returns series object"
   ]
  },
  {
   "cell_type": "code",
   "execution_count": null,
   "id": "a45ced04",
   "metadata": {},
   "outputs": [],
   "source": [
    "##   df.loc[row_label, column_label]\n",
    "\n",
    "rank_col = f500[\"Ceo\"]\n",
    "print(rank_col)   # will print column \"rank\" type of:  pandas.core.series.Series or called:   series object\n",
    "\n",
    "rank_col = f500.loc[:, \"Ceo\"]\n",
    "print(rank_col)   # will print column \"rank\" type of:  pandas.core.series.Series or called:   series object"
   ]
  },
  {
   "cell_type": "markdown",
   "id": "80d6add6",
   "metadata": {},
   "source": [
    "#### Selecting multiple columns"
   ]
  },
  {
   "cell_type": "code",
   "execution_count": null,
   "id": "e4f8b474",
   "metadata": {},
   "outputs": [],
   "source": [
    "selection = f500[[\"Sector\",\"Hqcity\"]] \n",
    "\n",
    "selectiion = f500.loc[:, [\"Sector\",\"Hqcity\"]]"
   ]
  },
  {
   "cell_type": "code",
   "execution_count": null,
   "id": "30937c05",
   "metadata": {},
   "outputs": [],
   "source": [
    "#Let's finish by using a a slice object with labels to select specific columns:\n",
    "\n",
    "selectiion = f500.loc[:, \"Sector\": \"Hqcity\"]\n",
    "print(selectiion[0:3])"
   ]
  },
  {
   "cell_type": "code",
   "execution_count": null,
   "id": "fece79e2",
   "metadata": {},
   "outputs": [],
   "source": [
    "# get single row by its index or indexes \n",
    "two_rows = f500.loc[[4,8]]  \n",
    "print(type(two_rows))\n",
    "print(two_rows)\n",
    "\n",
    "# get slice of rows \n",
    "slice_rows = f500[1:4]\n",
    "print(type(slice_rows))\n",
    "print(slice_rows)\n",
    "\n",
    "\n",
    "# only cells in 2 and 3 row for 2 specific columns\n",
    "middle_companies = f500.loc[[1, 2], [\"Sector\",\"Industry\"]]\n",
    "print(middle_companies)\n",
    "\n",
    "# section of data for specific rows and columns \n",
    "middle_companies = f500.loc[1:4, \"Sector\": \"Hqcity\"]"
   ]
  },
  {
   "cell_type": "markdown",
   "id": "8c4c12e1",
   "metadata": {},
   "source": [
    "### Series methods\n"
   ]
  },
  {
   "cell_type": "code",
   "execution_count": null,
   "id": "602c3061",
   "metadata": {},
   "outputs": [],
   "source": [
    "sectors = f500[\"Sector\"]\n",
    "print(type(sectors))"
   ]
  },
  {
   "cell_type": "code",
   "execution_count": null,
   "id": "fb0b3802",
   "metadata": {},
   "outputs": [],
   "source": [
    "# shows count of each unique value in the specific column\n",
    "sectors = f500[\"Sector\"]\n",
    "sectors_value_counts = sectors.value_counts()\n",
    "print(sectors_value_counts)"
   ]
  },
  {
   "cell_type": "code",
   "execution_count": null,
   "id": "c4306043",
   "metadata": {},
   "outputs": [],
   "source": [
    "# shows count of each unique value in the 2 specific column\n",
    "sectors_industries = f500[[\"Sector\",\"Industry\"]]\n",
    "print(type(sectors_industries))\n",
    "si_value_counts = sectors_industries.value_counts()\n",
    "print(si_value_counts)"
   ]
  },
  {
   "cell_type": "code",
   "execution_count": null,
   "id": "9a9d5bf0",
   "metadata": {},
   "outputs": [],
   "source": [
    "# count the occurence of the specific data in the selected column or columns\n",
    "sector = f500['Sector']\n",
    "sector_counts = sector.value_counts()\n",
    "\n",
    "media  = sector_counts[\"Media\"]\n",
    "IndustrialsChemicalsMedia = sector_counts[[\"Industrials\",\"Chemicals\",\"Media\"]]\n",
    "\n",
    "print(\"media\",media )\n",
    "print(\"IndustrialsChemicalsMedia\",IndustrialsChemicalsMedia )"
   ]
  },
  {
   "cell_type": "markdown",
   "id": "b72702e8",
   "metadata": {},
   "source": [
    "### Select by Label\tExplicit Syntax\tShorthand Convention\n",
    "\n",
    "\n",
    "- With loc[], the ending slice **is included.**\n",
    "- With iloc[], the ending slice **is not included.**"
   ]
  },
  {
   "cell_type": "raw",
   "id": "ec3f94a5",
   "metadata": {},
   "source": [
    "\n",
    "\n",
    "Single column from dataframe\t\n",
    "    df.loc[:,\"col1\"]\t\n",
    "    df[\"col1\"]\n",
    "    \n",
    "List of columns from dataframe\t\n",
    "    df.loc[:,[\"col1\",\"col7\"]]\t\n",
    "    df[[\"col1\",\"col7\"]]\n",
    "    \n",
    "Slice of columns from dataframe\n",
    "    df.loc[:,\"col1\":\"col4\"]\t\n",
    "    \n",
    "Single row from dataframe\t\n",
    "    df.loc[\"row4\"]\t\n",
    "    \n",
    "List of rows from dataframe\t\n",
    "    df.loc[[\"row1\", \"row8\"]]\t\n",
    "    \n",
    "Slice of rows from dataframe\n",
    "    df.loc[\"row3\":\"row5\"]\t\n",
    "    df[\"row3\":\"row5\"]\n",
    "    \n",
    "Single item from series\t\n",
    "    s.loc[\"item8\"]\t\n",
    "    s[\"item8\"]\n",
    "    \n",
    "List of items from series\n",
    "    s.loc[[\"item1\",\"item7\"]]\t\n",
    "    s[[\"item1\",\"item7\"]]\n",
    "    \n",
    "Slice of items from series\t\n",
    "    s.loc[\"item2\":\"item4\"]\t\n",
    "    s[\"item2\":\"item4\"]\n",
    "\n",
    "\n",
    "Dataframe with **iloc()**\n",
    "Select specific cell using .iloc()\n",
    "     df.iloc[row_index,column_index]\n",
    "     df.iloc[2,0]      # third row first column\n",
    "\n",
    "Select a row using iloc() method\n",
    "    df.iloc[2]\n",
    "    \n",
    "Select a column using .iloc()\n",
    "    df.iloc[:,0]\n",
    " "
   ]
  },
  {
   "cell_type": "markdown",
   "id": "815d2f3a",
   "metadata": {},
   "source": [
    "#### Pandas is an extension of NumPy, it also supports vectorized operations."
   ]
  },
  {
   "cell_type": "code",
   "execution_count": null,
   "id": "3b56ca4e",
   "metadata": {},
   "outputs": [],
   "source": [
    "import random\n",
    "\n",
    "a = [ random.randint(0,9) for x in range(0,5)]\n",
    "\n",
    "d = {'col1': [ random.randint(0,9) for x in range(0,5)], 'col2': [ random.randint(10,19) for x in range(0,5)]}\n",
    "df = pd.DataFrame(data=d)\n",
    "\n",
    "df.head()"
   ]
  },
  {
   "cell_type": "code",
   "execution_count": null,
   "id": "452dd513",
   "metadata": {},
   "outputs": [],
   "source": [
    "selected = df.loc[:, 'col1']\n",
    "print('before', selected)\n",
    "\n",
    "print('after adddition', selected  + 100)"
   ]
  },
  {
   "cell_type": "markdown",
   "id": "7890c697",
   "metadata": {},
   "source": [
    "Just like with NumPy, we can use any of the standard Python numeric operators with series, including:\n",
    "- series_a + series_b -      Addition\n",
    "- series_a - series_b -      Subtraction\n",
    "- series_a * series_b -      Multiplication (this is unrelated to the multiplications used in linear algebra).\n",
    "- series_a / series_b -      Division\n",
    "\n",
    "- Series.max()\n",
    "- Series.min()\n",
    "- Series.mean()\n",
    "- Series.median()\n",
    "- Series.mode()\n",
    "- Series.sum()"
   ]
  },
  {
   "cell_type": "code",
   "execution_count": null,
   "id": "2091916f",
   "metadata": {},
   "outputs": [],
   "source": [
    "# count only vount of the cpecific value in the column using chaining and\n",
    "# .value_counts() method\n",
    "\n",
    "media = f500[\"Sector\"].value_counts().loc[\"Media\"]\n",
    "print(media)\n"
   ]
  },
  {
   "cell_type": "markdown",
   "id": "2de1672a",
   "metadata": {},
   "source": [
    "Because series and dataframes are two distinct objects, they have their own unique methods. However, there are many times where both series and dataframe objects have a method of the same name that behaves in similar ways.\n",
    "\n",
    "- Series.max()      and DataFrame.max()\n",
    "- Series.min()      and DataFrame.min()\n",
    "- Series.mean()     and DataFrame.mean()\n",
    "- Series.median()   and DataFrame.median()\n",
    "- Series.mode()     and DataFrame.mode()\n",
    "- Series.sum()      and DataFrame.sum()"
   ]
  },
  {
   "cell_type": "markdown",
   "id": "c9778794",
   "metadata": {},
   "source": [
    "Unlike their series counterparts, dataframe methods require an axis parameter so we know which axis to calculate across. While you can use integers to refer to the first and second axis, pandas dataframe methods also accept the strings \"index\" and \"columns\" for the axis parameter\n",
    "\n",
    "**index & axis=0** for columns \n",
    "**columns & axis=1** for rows"
   ]
  },
  {
   "cell_type": "code",
   "execution_count": null,
   "id": "375af611",
   "metadata": {},
   "outputs": [],
   "source": [
    "import random\n",
    "\n",
    "a = [ random.randint(0,9) for x in range(0,5)]\n",
    "\n",
    "d = {'col1': [ random.randint(0,9) for x in range(0,5)], 'col2': [ random.randint(10,19) for x in range(0,5)]}\n",
    "df = pd.DataFrame(data=d)\n",
    "\n",
    "medians = df[[\"col1\", \"col2\"]].mean(\"index\")  #\n",
    "print(medians)\n",
    "medians = df[[\"col1\", \"col2\"]].median(axis=0) # same as above\n",
    "print(medians)"
   ]
  },
  {
   "cell_type": "markdown",
   "id": "5cca55a7",
   "metadata": {},
   "source": [
    "**boolean indexing** in pandas\n"
   ]
  },
  {
   "cell_type": "code",
   "execution_count": null,
   "id": "e930f412",
   "metadata": {},
   "outputs": [],
   "source": [
    "import random\n",
    "\n",
    "d = {'col1': [ random.randint(1,2) for x in range(0,10)], 'col2': [ random.randint(1,2) for x in range(0,10)]}\n",
    "df = pd.DataFrame(data=d)\n",
    "#print(df)\n",
    "\n",
    "one_bool = df['col1'] == 1  # create series with boolean values\n",
    "print('Count of True in col1: ', one_bool.value_counts().loc[True])\n",
    "print('Count of 1 in col1: ',df['col1'].value_counts().loc[1])\n",
    "#print(one_bool)\n",
    "\n",
    "# create a new dataframe only with 1 in the col1 \n",
    "result = df.loc[one_bool]\n",
    "print(result)"
   ]
  },
  {
   "cell_type": "markdown",
   "id": "ecdf4d68",
   "metadata": {},
   "source": [
    "## Boolean indexing to find zero values and replace them"
   ]
  },
  {
   "cell_type": "code",
   "execution_count": null,
   "id": "e086d8b4",
   "metadata": {},
   "outputs": [],
   "source": [
    "import random\n",
    "\n",
    "d = {'col1': [ random.randint(0,1) for x in range(0,9)], 'col2': [ random.randint(0,1) for x in range(0,9)]}\n",
    "df = pd.DataFrame(data=d)\n",
    "\n",
    "# code in two lines replace 0 with 1000\n",
    "one_bool = df['col1'] == 0\n",
    "df.loc[one_bool,\"col1\"] = 1000\n",
    "print('Count of 1000 in col1: ',df['col1'].value_counts().loc[1000])\n",
    "\n",
    "# code in one line  replace 0 with 1000\n",
    "df.loc[df[\"col2\"] == 0,\"col2\"] = 1000\n",
    "print('Count of 1000 in col2: ',df['col2'].value_counts().loc[1000])\n",
    "\n",
    "print(df)"
   ]
  },
  {
   "cell_type": "code",
   "execution_count": null,
   "id": "3d9f06f3",
   "metadata": {},
   "outputs": [],
   "source": []
  },
  {
   "cell_type": "code",
   "execution_count": null,
   "id": "4c01739e",
   "metadata": {},
   "outputs": [],
   "source": [
    "## Get top 2 most common numbers in the column\n",
    "import random\n",
    "\n",
    "d = {'rank': [ \"rank_\" + str(random.randint(0,2)) for x in range(0,9)], 'name': [ f\"Name-{str(x + 1)}\" for x in range(0,9)]}\n",
    "df = pd.DataFrame(data=d)\n",
    "\n",
    "top_two_nranks = df[\"rank\"].value_counts().head(2)\n",
    "\n",
    "print (top_two_nranks)"
   ]
  },
  {
   "cell_type": "code",
   "execution_count": null,
   "id": "1238f442",
   "metadata": {},
   "outputs": [],
   "source": [
    "import random\n",
    "import numpy as np\n",
    "\n",
    "## get number of null values \n",
    "## replace 0 with np.nan\n",
    "\n",
    "d = {'rank': [ random.randint(0,2) for x in range(0,9)], 'name': [ f\"Name-{str(x + 1)}\" for x in range(0,9)]}\n",
    "df = pd.DataFrame(data=d)\n",
    "\n",
    "\n",
    "df.loc[df[\"rank\"] == 0, \"rank\"] = np.nan\n",
    "\n",
    "number_of_nulls = df[\"rank\"].isnull()\n",
    "print(number_of_nulls)"
   ]
  },
  {
   "cell_type": "markdown",
   "id": "ba002cd5",
   "metadata": {},
   "source": [
    "#### Boolean arrays with omparison operators"
   ]
  },
  {
   "cell_type": "raw",
   "id": "cf5ba51c",
   "metadata": {},
   "source": [
    "PANDAS  PYTHON     MEANING\n",
    "a & b\ta and b\t   True if both a and b are True, else False\n",
    "a | b\ta or b\t   True if either a or b is True\n",
    "~a\tnot a\t       True if a is False, else False"
   ]
  },
  {
   "cell_type": "raw",
   "id": "2a1734cb",
   "metadata": {},
   "source": [
    "FIRST METHOD\n",
    "\n",
    "large_revenue = f500[\"revenues\"] > 100000\n",
    "negative_profits = f500[\"profits\"] < 0\n",
    "combined = large_revenue & negative_profits\n",
    "big_rev_neg_profit = f500[combined]  # returns only rows where both conditions are True\n",
    "\n",
    "\n",
    "SECOND METHOD\n",
    "\n",
    "big_rev_neg_profit = f500[(f500[\"revenues\"] > 100000) & (f500[\"profits\"] < 0)]"
   ]
  },
  {
   "cell_type": "raw",
   "id": "8b68eb8a",
   "metadata": {},
   "source": [
    "Select rows that have only china in the countries columns:\n",
    "selected_rows = f500[f500[\"country\"] == \"China\"]"
   ]
  },
  {
   "cell_type": "code",
   "execution_count": null,
   "id": "0cfe6b46",
   "metadata": {},
   "outputs": [],
   "source": [
    "# checking beds     \n",
    "#     null_beds = dataset[\"beds\"].isnull()\n",
    "#     print (dataset.loc[null_beds, [\"bed_type\", \"price\", \"beds\"]])  # select specific columns where beds are nulll"
   ]
  }
 ],
 "metadata": {
  "kernelspec": {
   "display_name": "Python 3 (ipykernel)",
   "language": "python",
   "name": "python3"
  },
  "language_info": {
   "codemirror_mode": {
    "name": "ipython",
    "version": 3
   },
   "file_extension": ".py",
   "mimetype": "text/x-python",
   "name": "python",
   "nbconvert_exporter": "python",
   "pygments_lexer": "ipython3",
   "version": "3.7.11"
  }
 },
 "nbformat": 4,
 "nbformat_minor": 5
}
